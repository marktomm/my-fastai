{
 "cells": [
  {
   "cell_type": "code",
   "execution_count": 1,
   "id": "c651f186-d448-4a74-a991-18e4432f741d",
   "metadata": {},
   "outputs": [],
   "source": [
    "import os\n",
    "from pathlib import Path\n",
    "\n",
    "iskaggle = os.environ.get('KAGGLE_KERNEL_RUN_TYPE', '')\n",
    "if iskaggle: path = Path('../input/titanic')\n",
    "else:\n",
    "    path = Path('titanic')\n",
    "    if not path.exists():\n",
    "        import zipfile,kaggle\n",
    "        kaggle.api.competition_download_cli(str(path))\n",
    "        zipfile.ZipFile(f'{path}.zip').extractall(path)"
   ]
  },
  {
   "cell_type": "code",
   "execution_count": 2,
   "id": "325cd233-0240-4990-8d0b-e72885fc46cd",
   "metadata": {},
   "outputs": [],
   "source": [
    "import torch, numpy as np, pandas as pd\n",
    "np.set_printoptions(linewidth=140)\n",
    "torch.set_printoptions(linewidth=140, sci_mode=False, edgeitems=7)\n",
    "pd.set_option('display.width', 140)"
   ]
  },
  {
   "cell_type": "code",
   "execution_count": 3,
   "id": "0293af63-6ecd-4a5b-991c-8ff3cb3690b6",
   "metadata": {},
   "outputs": [],
   "source": [
    "# get data into pandas.DataFrame\n",
    "# clear from nand values\n",
    "# fix data distribution\n",
    "# fix non numerical data\n",
    "# create indep and dep data"
   ]
  },
  {
   "cell_type": "code",
   "execution_count": 4,
   "id": "01c4c438-a9bb-4f88-901a-481e62db3369",
   "metadata": {},
   "outputs": [
    {
     "data": {
      "text/html": [
       "<div>\n",
       "<style scoped>\n",
       "    .dataframe tbody tr th:only-of-type {\n",
       "        vertical-align: middle;\n",
       "    }\n",
       "\n",
       "    .dataframe tbody tr th {\n",
       "        vertical-align: top;\n",
       "    }\n",
       "\n",
       "    .dataframe thead th {\n",
       "        text-align: right;\n",
       "    }\n",
       "</style>\n",
       "<table border=\"1\" class=\"dataframe\">\n",
       "  <thead>\n",
       "    <tr style=\"text-align: right;\">\n",
       "      <th></th>\n",
       "      <th>PassengerId</th>\n",
       "      <th>Survived</th>\n",
       "      <th>Pclass</th>\n",
       "      <th>Name</th>\n",
       "      <th>Sex</th>\n",
       "      <th>Age</th>\n",
       "      <th>SibSp</th>\n",
       "      <th>Parch</th>\n",
       "      <th>Ticket</th>\n",
       "      <th>Fare</th>\n",
       "      <th>Cabin</th>\n",
       "      <th>Embarked</th>\n",
       "    </tr>\n",
       "  </thead>\n",
       "  <tbody>\n",
       "    <tr>\n",
       "      <th>0</th>\n",
       "      <td>1</td>\n",
       "      <td>0</td>\n",
       "      <td>3</td>\n",
       "      <td>Braund, Mr. Owen Harris</td>\n",
       "      <td>male</td>\n",
       "      <td>22.0</td>\n",
       "      <td>1</td>\n",
       "      <td>0</td>\n",
       "      <td>A/5 21171</td>\n",
       "      <td>7.2500</td>\n",
       "      <td>NaN</td>\n",
       "      <td>S</td>\n",
       "    </tr>\n",
       "    <tr>\n",
       "      <th>1</th>\n",
       "      <td>2</td>\n",
       "      <td>1</td>\n",
       "      <td>1</td>\n",
       "      <td>Cumings, Mrs. John Bradley (Florence Briggs Th...</td>\n",
       "      <td>female</td>\n",
       "      <td>38.0</td>\n",
       "      <td>1</td>\n",
       "      <td>0</td>\n",
       "      <td>PC 17599</td>\n",
       "      <td>71.2833</td>\n",
       "      <td>C85</td>\n",
       "      <td>C</td>\n",
       "    </tr>\n",
       "    <tr>\n",
       "      <th>2</th>\n",
       "      <td>3</td>\n",
       "      <td>1</td>\n",
       "      <td>3</td>\n",
       "      <td>Heikkinen, Miss. Laina</td>\n",
       "      <td>female</td>\n",
       "      <td>26.0</td>\n",
       "      <td>0</td>\n",
       "      <td>0</td>\n",
       "      <td>STON/O2. 3101282</td>\n",
       "      <td>7.9250</td>\n",
       "      <td>NaN</td>\n",
       "      <td>S</td>\n",
       "    </tr>\n",
       "    <tr>\n",
       "      <th>3</th>\n",
       "      <td>4</td>\n",
       "      <td>1</td>\n",
       "      <td>1</td>\n",
       "      <td>Futrelle, Mrs. Jacques Heath (Lily May Peel)</td>\n",
       "      <td>female</td>\n",
       "      <td>35.0</td>\n",
       "      <td>1</td>\n",
       "      <td>0</td>\n",
       "      <td>113803</td>\n",
       "      <td>53.1000</td>\n",
       "      <td>C123</td>\n",
       "      <td>S</td>\n",
       "    </tr>\n",
       "    <tr>\n",
       "      <th>4</th>\n",
       "      <td>5</td>\n",
       "      <td>0</td>\n",
       "      <td>3</td>\n",
       "      <td>Allen, Mr. William Henry</td>\n",
       "      <td>male</td>\n",
       "      <td>35.0</td>\n",
       "      <td>0</td>\n",
       "      <td>0</td>\n",
       "      <td>373450</td>\n",
       "      <td>8.0500</td>\n",
       "      <td>NaN</td>\n",
       "      <td>S</td>\n",
       "    </tr>\n",
       "  </tbody>\n",
       "</table>\n",
       "</div>"
      ],
      "text/plain": [
       "   PassengerId  Survived  Pclass                                               Name     Sex   Age  SibSp  Parch            Ticket  \\\n",
       "0            1         0       3                            Braund, Mr. Owen Harris    male  22.0      1      0         A/5 21171   \n",
       "1            2         1       1  Cumings, Mrs. John Bradley (Florence Briggs Th...  female  38.0      1      0          PC 17599   \n",
       "2            3         1       3                             Heikkinen, Miss. Laina  female  26.0      0      0  STON/O2. 3101282   \n",
       "3            4         1       1       Futrelle, Mrs. Jacques Heath (Lily May Peel)  female  35.0      1      0            113803   \n",
       "4            5         0       3                           Allen, Mr. William Henry    male  35.0      0      0            373450   \n",
       "\n",
       "      Fare Cabin Embarked  \n",
       "0   7.2500   NaN        S  \n",
       "1  71.2833   C85        C  \n",
       "2   7.9250   NaN        S  \n",
       "3  53.1000  C123        S  \n",
       "4   8.0500   NaN        S  "
      ]
     },
     "execution_count": 4,
     "metadata": {},
     "output_type": "execute_result"
    }
   ],
   "source": [
    "df = pd.read_csv(path / 'train.csv')\n",
    "df.head()"
   ]
  },
  {
   "cell_type": "code",
   "execution_count": 5,
   "id": "ce867af4-95a1-4b4e-921f-6d88e43dca0f",
   "metadata": {},
   "outputs": [
    {
     "data": {
      "text/plain": [
       "PassengerId      0\n",
       "Survived         0\n",
       "Pclass           0\n",
       "Name             0\n",
       "Sex              0\n",
       "Age            177\n",
       "SibSp            0\n",
       "Parch            0\n",
       "Ticket           0\n",
       "Fare             0\n",
       "Cabin          687\n",
       "Embarked         2\n",
       "dtype: int64"
      ]
     },
     "execution_count": 5,
     "metadata": {},
     "output_type": "execute_result"
    }
   ],
   "source": [
    "df.isna().sum()"
   ]
  },
  {
   "cell_type": "code",
   "execution_count": 6,
   "id": "c73ae5a0-f431-4c6d-8cb1-f80ccd461269",
   "metadata": {},
   "outputs": [
    {
     "data": {
      "text/plain": [
       "PassengerId                      1\n",
       "Survived                       0.0\n",
       "Pclass                         3.0\n",
       "Name           Abbing, Mr. Anthony\n",
       "Sex                           male\n",
       "Age                           24.0\n",
       "SibSp                          0.0\n",
       "Parch                          0.0\n",
       "Ticket                        1601\n",
       "Fare                          8.05\n",
       "Cabin                      B96 B98\n",
       "Embarked                         S\n",
       "Name: 0, dtype: object"
      ]
     },
     "execution_count": 6,
     "metadata": {},
     "output_type": "execute_result"
    }
   ],
   "source": [
    "modes = df.mode().iloc[0]\n",
    "modes"
   ]
  },
  {
   "cell_type": "code",
   "execution_count": 7,
   "id": "ae02a1c4-3062-4358-957b-b477943ebe0c",
   "metadata": {},
   "outputs": [],
   "source": [
    "df.fillna(modes, inplace = True)"
   ]
  },
  {
   "cell_type": "code",
   "execution_count": 8,
   "id": "9ad35493-31c3-40dc-8c0e-73cb93ce5aeb",
   "metadata": {},
   "outputs": [
    {
     "data": {
      "text/plain": [
       "PassengerId    0\n",
       "Survived       0\n",
       "Pclass         0\n",
       "Name           0\n",
       "Sex            0\n",
       "Age            0\n",
       "SibSp          0\n",
       "Parch          0\n",
       "Ticket         0\n",
       "Fare           0\n",
       "Cabin          0\n",
       "Embarked       0\n",
       "dtype: int64"
      ]
     },
     "execution_count": 8,
     "metadata": {},
     "output_type": "execute_result"
    }
   ],
   "source": [
    "df.isna().sum()"
   ]
  },
  {
   "cell_type": "code",
   "execution_count": 9,
   "id": "97445f37-f7bd-4d7b-b58d-6c3ed0636c78",
   "metadata": {},
   "outputs": [
    {
     "data": {
      "text/html": [
       "<div>\n",
       "<style scoped>\n",
       "    .dataframe tbody tr th:only-of-type {\n",
       "        vertical-align: middle;\n",
       "    }\n",
       "\n",
       "    .dataframe tbody tr th {\n",
       "        vertical-align: top;\n",
       "    }\n",
       "\n",
       "    .dataframe thead th {\n",
       "        text-align: right;\n",
       "    }\n",
       "</style>\n",
       "<table border=\"1\" class=\"dataframe\">\n",
       "  <thead>\n",
       "    <tr style=\"text-align: right;\">\n",
       "      <th></th>\n",
       "      <th>PassengerId</th>\n",
       "      <th>Survived</th>\n",
       "      <th>Pclass</th>\n",
       "      <th>Age</th>\n",
       "      <th>SibSp</th>\n",
       "      <th>Parch</th>\n",
       "      <th>Fare</th>\n",
       "    </tr>\n",
       "  </thead>\n",
       "  <tbody>\n",
       "    <tr>\n",
       "      <th>count</th>\n",
       "      <td>891.000000</td>\n",
       "      <td>891.000000</td>\n",
       "      <td>891.000000</td>\n",
       "      <td>891.000000</td>\n",
       "      <td>891.000000</td>\n",
       "      <td>891.000000</td>\n",
       "      <td>891.000000</td>\n",
       "    </tr>\n",
       "    <tr>\n",
       "      <th>mean</th>\n",
       "      <td>446.000000</td>\n",
       "      <td>0.383838</td>\n",
       "      <td>2.308642</td>\n",
       "      <td>28.566970</td>\n",
       "      <td>0.523008</td>\n",
       "      <td>0.381594</td>\n",
       "      <td>32.204208</td>\n",
       "    </tr>\n",
       "    <tr>\n",
       "      <th>std</th>\n",
       "      <td>257.353842</td>\n",
       "      <td>0.486592</td>\n",
       "      <td>0.836071</td>\n",
       "      <td>13.199572</td>\n",
       "      <td>1.102743</td>\n",
       "      <td>0.806057</td>\n",
       "      <td>49.693429</td>\n",
       "    </tr>\n",
       "    <tr>\n",
       "      <th>min</th>\n",
       "      <td>1.000000</td>\n",
       "      <td>0.000000</td>\n",
       "      <td>1.000000</td>\n",
       "      <td>0.420000</td>\n",
       "      <td>0.000000</td>\n",
       "      <td>0.000000</td>\n",
       "      <td>0.000000</td>\n",
       "    </tr>\n",
       "    <tr>\n",
       "      <th>25%</th>\n",
       "      <td>223.500000</td>\n",
       "      <td>0.000000</td>\n",
       "      <td>2.000000</td>\n",
       "      <td>22.000000</td>\n",
       "      <td>0.000000</td>\n",
       "      <td>0.000000</td>\n",
       "      <td>7.910400</td>\n",
       "    </tr>\n",
       "    <tr>\n",
       "      <th>50%</th>\n",
       "      <td>446.000000</td>\n",
       "      <td>0.000000</td>\n",
       "      <td>3.000000</td>\n",
       "      <td>24.000000</td>\n",
       "      <td>0.000000</td>\n",
       "      <td>0.000000</td>\n",
       "      <td>14.454200</td>\n",
       "    </tr>\n",
       "    <tr>\n",
       "      <th>75%</th>\n",
       "      <td>668.500000</td>\n",
       "      <td>1.000000</td>\n",
       "      <td>3.000000</td>\n",
       "      <td>35.000000</td>\n",
       "      <td>1.000000</td>\n",
       "      <td>0.000000</td>\n",
       "      <td>31.000000</td>\n",
       "    </tr>\n",
       "    <tr>\n",
       "      <th>max</th>\n",
       "      <td>891.000000</td>\n",
       "      <td>1.000000</td>\n",
       "      <td>3.000000</td>\n",
       "      <td>80.000000</td>\n",
       "      <td>8.000000</td>\n",
       "      <td>6.000000</td>\n",
       "      <td>512.329200</td>\n",
       "    </tr>\n",
       "  </tbody>\n",
       "</table>\n",
       "</div>"
      ],
      "text/plain": [
       "       PassengerId    Survived      Pclass         Age       SibSp       Parch        Fare\n",
       "count   891.000000  891.000000  891.000000  891.000000  891.000000  891.000000  891.000000\n",
       "mean    446.000000    0.383838    2.308642   28.566970    0.523008    0.381594   32.204208\n",
       "std     257.353842    0.486592    0.836071   13.199572    1.102743    0.806057   49.693429\n",
       "min       1.000000    0.000000    1.000000    0.420000    0.000000    0.000000    0.000000\n",
       "25%     223.500000    0.000000    2.000000   22.000000    0.000000    0.000000    7.910400\n",
       "50%     446.000000    0.000000    3.000000   24.000000    0.000000    0.000000   14.454200\n",
       "75%     668.500000    1.000000    3.000000   35.000000    1.000000    0.000000   31.000000\n",
       "max     891.000000    1.000000    3.000000   80.000000    8.000000    6.000000  512.329200"
      ]
     },
     "execution_count": 9,
     "metadata": {},
     "output_type": "execute_result"
    }
   ],
   "source": [
    "df.describe(include = (np.number))"
   ]
  },
  {
   "cell_type": "code",
   "execution_count": 10,
   "id": "8561c8ac-4d94-47dd-aba7-885ced26d8db",
   "metadata": {},
   "outputs": [
    {
     "data": {
      "text/plain": [
       "<Axes: >"
      ]
     },
     "execution_count": 10,
     "metadata": {},
     "output_type": "execute_result"
    },
    {
     "data": {
      "image/png": "[encoded data removed]",
      "text/plain": [
       "<Figure size 640x480 with 1 Axes>"
      ]
     },
     "metadata": {},
     "output_type": "display_data"
    }
   ],
   "source": [
    "df['Fare'].hist()"
   ]
  },
  {
   "cell_type": "code",
   "execution_count": 11,
   "id": "f6fad898-b505-4614-8c49-561672d481a4",
   "metadata": {},
   "outputs": [
    {
     "data": {
      "text/plain": [
       "<Axes: >"
      ]
     },
     "execution_count": 11,
     "metadata": {},
     "output_type": "execute_result"
    },
    {
     "data": {
      "image/png": "[encoded data removed]",
      "text/plain": [
       "<Figure size 640x480 with 1 Axes>"
      ]
     },
     "metadata": {},
     "output_type": "display_data"
    }
   ],
   "source": [
    "df['LogFare'] = np.log(df['Fare'] + 1)\n",
    "df['LogFare'].hist()"
   ]
  },
  {
   "cell_type": "code",
   "execution_count": 12,
   "id": "18b5e10a-a9f5-41e0-9f6c-74ab64b78f49",
   "metadata": {},
   "outputs": [
    {
     "data": {
      "text/plain": [
       "[1, 2, 3]"
      ]
     },
     "execution_count": 12,
     "metadata": {},
     "output_type": "execute_result"
    }
   ],
   "source": [
    "pclasses = sorted(df.Pclass.unique())\n",
    "pclasses"
   ]
  },
  {
   "cell_type": "code",
   "execution_count": 13,
   "id": "e00399e4-44d5-4a96-ad16-aba92014e06f",
   "metadata": {},
   "outputs": [
    {
     "data": {
      "text/html": [
       "<div>\n",
       "<style scoped>\n",
       "    .dataframe tbody tr th:only-of-type {\n",
       "        vertical-align: middle;\n",
       "    }\n",
       "\n",
       "    .dataframe tbody tr th {\n",
       "        vertical-align: top;\n",
       "    }\n",
       "\n",
       "    .dataframe thead th {\n",
       "        text-align: right;\n",
       "    }\n",
       "</style>\n",
       "<table border=\"1\" class=\"dataframe\">\n",
       "  <thead>\n",
       "    <tr style=\"text-align: right;\">\n",
       "      <th></th>\n",
       "      <th>Name</th>\n",
       "      <th>Sex</th>\n",
       "      <th>Ticket</th>\n",
       "      <th>Cabin</th>\n",
       "      <th>Embarked</th>\n",
       "    </tr>\n",
       "  </thead>\n",
       "  <tbody>\n",
       "    <tr>\n",
       "      <th>count</th>\n",
       "      <td>891</td>\n",
       "      <td>891</td>\n",
       "      <td>891</td>\n",
       "      <td>891</td>\n",
       "      <td>891</td>\n",
       "    </tr>\n",
       "    <tr>\n",
       "      <th>unique</th>\n",
       "      <td>891</td>\n",
       "      <td>2</td>\n",
       "      <td>681</td>\n",
       "      <td>147</td>\n",
       "      <td>3</td>\n",
       "    </tr>\n",
       "    <tr>\n",
       "      <th>top</th>\n",
       "      <td>Dooley, Mr. Patrick</td>\n",
       "      <td>male</td>\n",
       "      <td>1601</td>\n",
       "      <td>B96 B98</td>\n",
       "      <td>S</td>\n",
       "    </tr>\n",
       "    <tr>\n",
       "      <th>freq</th>\n",
       "      <td>1</td>\n",
       "      <td>577</td>\n",
       "      <td>7</td>\n",
       "      <td>691</td>\n",
       "      <td>646</td>\n",
       "    </tr>\n",
       "  </tbody>\n",
       "</table>\n",
       "</div>"
      ],
      "text/plain": [
       "                       Name   Sex Ticket    Cabin Embarked\n",
       "count                   891   891    891      891      891\n",
       "unique                  891     2    681      147        3\n",
       "top     Dooley, Mr. Patrick  male   1601  B96 B98        S\n",
       "freq                      1   577      7      691      646"
      ]
     },
     "execution_count": 13,
     "metadata": {},
     "output_type": "execute_result"
    }
   ],
   "source": [
    "df.describe(include = [object])"
   ]
  },
  {
   "cell_type": "code",
   "execution_count": 14,
   "id": "209b2e3f-b838-421a-a8c9-4a296b31e254",
   "metadata": {},
   "outputs": [
    {
     "data": {
      "text/plain": [
       "Index(['PassengerId', 'Survived', 'Name', 'Age', 'SibSp', 'Parch', 'Ticket', 'Fare', 'Cabin', 'LogFare', 'Sex_female', 'Sex_male',\n",
       "       'Pclass_1', 'Pclass_2', 'Pclass_3', 'Embarked_C', 'Embarked_Q', 'Embarked_S'],\n",
       "      dtype='object')"
      ]
     },
     "execution_count": 14,
     "metadata": {},
     "output_type": "execute_result"
    }
   ],
   "source": [
    "df = pd.get_dummies(df, columns = [ 'Sex', 'Pclass', 'Embarked' ])\n",
    "df.columns"
   ]
  },
  {
   "cell_type": "code",
   "execution_count": 15,
   "id": "1688867b-479d-4c0c-8a89-23dde293cdd6",
   "metadata": {},
   "outputs": [
    {
     "data": {
      "text/html": [
       "<div>\n",
       "<style scoped>\n",
       "    .dataframe tbody tr th:only-of-type {\n",
       "        vertical-align: middle;\n",
       "    }\n",
       "\n",
       "    .dataframe tbody tr th {\n",
       "        vertical-align: top;\n",
       "    }\n",
       "\n",
       "    .dataframe thead th {\n",
       "        text-align: right;\n",
       "    }\n",
       "</style>\n",
       "<table border=\"1\" class=\"dataframe\">\n",
       "  <thead>\n",
       "    <tr style=\"text-align: right;\">\n",
       "      <th></th>\n",
       "      <th>Sex_male</th>\n",
       "      <th>Sex_female</th>\n",
       "      <th>Pclass_1</th>\n",
       "      <th>Pclass_2</th>\n",
       "      <th>Pclass_3</th>\n",
       "      <th>Embarked_C</th>\n",
       "      <th>Embarked_Q</th>\n",
       "      <th>Embarked_S</th>\n",
       "    </tr>\n",
       "  </thead>\n",
       "  <tbody>\n",
       "    <tr>\n",
       "      <th>0</th>\n",
       "      <td>1</td>\n",
       "      <td>0</td>\n",
       "      <td>0</td>\n",
       "      <td>0</td>\n",
       "      <td>1</td>\n",
       "      <td>0</td>\n",
       "      <td>0</td>\n",
       "      <td>1</td>\n",
       "    </tr>\n",
       "    <tr>\n",
       "      <th>1</th>\n",
       "      <td>0</td>\n",
       "      <td>1</td>\n",
       "      <td>1</td>\n",
       "      <td>0</td>\n",
       "      <td>0</td>\n",
       "      <td>1</td>\n",
       "      <td>0</td>\n",
       "      <td>0</td>\n",
       "    </tr>\n",
       "    <tr>\n",
       "      <th>2</th>\n",
       "      <td>0</td>\n",
       "      <td>1</td>\n",
       "      <td>0</td>\n",
       "      <td>0</td>\n",
       "      <td>1</td>\n",
       "      <td>0</td>\n",
       "      <td>0</td>\n",
       "      <td>1</td>\n",
       "    </tr>\n",
       "    <tr>\n",
       "      <th>3</th>\n",
       "      <td>0</td>\n",
       "      <td>1</td>\n",
       "      <td>1</td>\n",
       "      <td>0</td>\n",
       "      <td>0</td>\n",
       "      <td>0</td>\n",
       "      <td>0</td>\n",
       "      <td>1</td>\n",
       "    </tr>\n",
       "    <tr>\n",
       "      <th>4</th>\n",
       "      <td>1</td>\n",
       "      <td>0</td>\n",
       "      <td>0</td>\n",
       "      <td>0</td>\n",
       "      <td>1</td>\n",
       "      <td>0</td>\n",
       "      <td>0</td>\n",
       "      <td>1</td>\n",
       "    </tr>\n",
       "  </tbody>\n",
       "</table>\n",
       "</div>"
      ],
      "text/plain": [
       "   Sex_male  Sex_female  Pclass_1  Pclass_2  Pclass_3  Embarked_C  Embarked_Q  Embarked_S\n",
       "0         1           0         0         0         1           0           0           1\n",
       "1         0           1         1         0         0           1           0           0\n",
       "2         0           1         0         0         1           0           0           1\n",
       "3         0           1         1         0         0           0           0           1\n",
       "4         1           0         0         0         1           0           0           1"
      ]
     },
     "execution_count": 15,
     "metadata": {},
     "output_type": "execute_result"
    }
   ],
   "source": [
    "added_cols = ['Sex_male', 'Sex_female', 'Pclass_1', 'Pclass_2', 'Pclass_3', 'Embarked_C', 'Embarked_Q', 'Embarked_S']\n",
    "df[added_cols].head()"
   ]
  },
  {
   "cell_type": "code",
   "execution_count": 16,
   "id": "e5170d60-5a5d-4311-8cac-29ab982dacf7",
   "metadata": {},
   "outputs": [],
   "source": [
    "from torch import tensor\n",
    "t_dep = tensor(df.Survived)"
   ]
  },
  {
   "cell_type": "code",
   "execution_count": 17,
   "id": "3994cf0a-c06a-4d67-ae0a-971a09fc624b",
   "metadata": {},
   "outputs": [
    {
     "data": {
      "text/plain": [
       "tensor([[22.0000,  1.0000,  0.0000,  2.1102,  1.0000,  0.0000,  0.0000,  0.0000,  1.0000,  0.0000,  0.0000,  1.0000],\n",
       "        [38.0000,  1.0000,  0.0000,  4.2806,  0.0000,  1.0000,  1.0000,  0.0000,  0.0000,  1.0000,  0.0000,  0.0000],\n",
       "        [26.0000,  0.0000,  0.0000,  2.1889,  0.0000,  1.0000,  0.0000,  0.0000,  1.0000,  0.0000,  0.0000,  1.0000],\n",
       "        [35.0000,  1.0000,  0.0000,  3.9908,  0.0000,  1.0000,  1.0000,  0.0000,  0.0000,  0.0000,  0.0000,  1.0000],\n",
       "        [35.0000,  0.0000,  0.0000,  2.2028,  1.0000,  0.0000,  0.0000,  0.0000,  1.0000,  0.0000,  0.0000,  1.0000],\n",
       "        [24.0000,  0.0000,  0.0000,  2.2469,  1.0000,  0.0000,  0.0000,  0.0000,  1.0000,  0.0000,  1.0000,  0.0000],\n",
       "        [54.0000,  0.0000,  0.0000,  3.9677,  1.0000,  0.0000,  1.0000,  0.0000,  0.0000,  0.0000,  0.0000,  1.0000],\n",
       "        ...,\n",
       "        [25.0000,  0.0000,  0.0000,  2.0857,  1.0000,  0.0000,  0.0000,  0.0000,  1.0000,  0.0000,  0.0000,  1.0000],\n",
       "        [39.0000,  0.0000,  5.0000,  3.4054,  0.0000,  1.0000,  0.0000,  0.0000,  1.0000,  0.0000,  1.0000,  0.0000],\n",
       "        [27.0000,  0.0000,  0.0000,  2.6391,  1.0000,  0.0000,  0.0000,  1.0000,  0.0000,  0.0000,  0.0000,  1.0000],\n",
       "        [19.0000,  0.0000,  0.0000,  3.4340,  0.0000,  1.0000,  1.0000,  0.0000,  0.0000,  0.0000,  0.0000,  1.0000],\n",
       "        [24.0000,  1.0000,  2.0000,  3.1966,  0.0000,  1.0000,  0.0000,  0.0000,  1.0000,  0.0000,  0.0000,  1.0000],\n",
       "        [26.0000,  0.0000,  0.0000,  3.4340,  1.0000,  0.0000,  1.0000,  0.0000,  0.0000,  1.0000,  0.0000,  0.0000],\n",
       "        [32.0000,  0.0000,  0.0000,  2.1691,  1.0000,  0.0000,  0.0000,  0.0000,  1.0000,  0.0000,  1.0000,  0.0000]])"
      ]
     },
     "execution_count": 17,
     "metadata": {},
     "output_type": "execute_result"
    }
   ],
   "source": [
    "indep_cols = ['Age', 'SibSp', 'Parch', 'LogFare'] + added_cols\n",
    "\n",
    "t_indep = tensor(df[indep_cols].values, dtype=torch.float)\n",
    "t_indep"
   ]
  },
  {
   "cell_type": "code",
   "execution_count": 18,
   "id": "4334902f-5ffa-40d5-b60d-e0f0f0da7a42",
   "metadata": {},
   "outputs": [
    {
     "data": {
      "text/plain": [
       "torch.Size([891, 12])"
      ]
     },
     "execution_count": 18,
     "metadata": {},
     "output_type": "execute_result"
    }
   ],
   "source": [
    "t_indep.shape"
   ]
  },
  {
   "cell_type": "code",
   "execution_count": 19,
   "id": "2059763a-0f18-4464-bb88-b83eb122281f",
   "metadata": {},
   "outputs": [
    {
     "data": {
      "text/plain": [
       "tensor([-1.1635,  1.6909,  1.1907, -1.8283, -0.3960,  1.0108, -0.8941, -0.1175, -1.4742, -0.7084, -2.1337, -1.3082])"
      ]
     },
     "execution_count": 19,
     "metadata": {},
     "output_type": "execute_result"
    }
   ],
   "source": [
    "torch.manual_seed(442)\n",
    "n_coeff = t_indep.shape[1]\n",
    "coeffs = torch.randn(n_coeff) - 0.5\n",
    "coeffs"
   ]
  },
  {
   "cell_type": "code",
   "execution_count": 20,
   "id": "d798a308-12fd-4bb0-9cbd-0fd3c9e760b1",
   "metadata": {},
   "outputs": [
    {
     "data": {
      "text/plain": [
       "tensor([80.0000,  8.0000,  6.0000,  6.2409,  1.0000,  1.0000,  1.0000,  1.0000,  1.0000,  1.0000,  1.0000,  1.0000])"
      ]
     },
     "execution_count": 20,
     "metadata": {},
     "output_type": "execute_result"
    }
   ],
   "source": [
    "vals, indices = t_indep.max(dim = 0)\n",
    "vals"
   ]
  },
  {
   "cell_type": "code",
   "execution_count": 21,
   "id": "57a4ff8b-bfb0-409a-86b6-a0be2be9c6a2",
   "metadata": {},
   "outputs": [
    {
     "data": {
      "text/plain": [
       "891"
      ]
     },
     "execution_count": 21,
     "metadata": {},
     "output_type": "execute_result"
    }
   ],
   "source": [
    "vals2, indices2 = t_indep.max(dim = 1)\n",
    "len(vals2)"
   ]
  },
  {
   "cell_type": "code",
   "execution_count": 22,
   "id": "14656441-4ab5-4a68-8db8-4a9ef87dae9c",
   "metadata": {},
   "outputs": [
    {
     "data": {
      "text/plain": [
       "torch.Size([891, 12])"
      ]
     },
     "execution_count": 22,
     "metadata": {},
     "output_type": "execute_result"
    }
   ],
   "source": [
    "t_indep = t_indep / vals\n",
    "t_indep.shape"
   ]
  },
  {
   "cell_type": "code",
   "execution_count": 23,
   "id": "edc23f1c-60f2-4c44-b17c-3fbcfc1bfcb1",
   "metadata": {},
   "outputs": [
    {
     "data": {
      "text/plain": [
       "tensor([[-0.3200,  0.2114,  0.0000, -0.6182, -0.3960,  0.0000, -0.0000, -0.0000, -1.4742, -0.0000, -0.0000, -1.3082],\n",
       "        [-0.5527,  0.2114,  0.0000, -1.2540, -0.0000,  1.0108, -0.8941, -0.0000, -0.0000, -0.7084, -0.0000, -0.0000],\n",
       "        [-0.3781,  0.0000,  0.0000, -0.6412, -0.0000,  1.0108, -0.0000, -0.0000, -1.4742, -0.0000, -0.0000, -1.3082],\n",
       "        [-0.5090,  0.2114,  0.0000, -1.1691, -0.0000,  1.0108, -0.8941, -0.0000, -0.0000, -0.0000, -0.0000, -1.3082],\n",
       "        [-0.5090,  0.0000,  0.0000, -0.6453, -0.3960,  0.0000, -0.0000, -0.0000, -1.4742, -0.0000, -0.0000, -1.3082],\n",
       "        [-0.3490,  0.0000,  0.0000, -0.6582, -0.3960,  0.0000, -0.0000, -0.0000, -1.4742, -0.0000, -2.1337, -0.0000],\n",
       "        [-0.7853,  0.0000,  0.0000, -1.1623, -0.3960,  0.0000, -0.8941, -0.0000, -0.0000, -0.0000, -0.0000, -1.3082],\n",
       "        ...,\n",
       "        [-0.3636,  0.0000,  0.0000, -0.6110, -0.3960,  0.0000, -0.0000, -0.0000, -1.4742, -0.0000, -0.0000, -1.3082],\n",
       "        [-0.5672,  0.0000,  0.9923, -0.9976, -0.0000,  1.0108, -0.0000, -0.0000, -1.4742, -0.0000, -2.1337, -0.0000],\n",
       "        [-0.3927,  0.0000,  0.0000, -0.7731, -0.3960,  0.0000, -0.0000, -0.1175, -0.0000, -0.0000, -0.0000, -1.3082],\n",
       "        [-0.2763,  0.0000,  0.0000, -1.0060, -0.0000,  1.0108, -0.8941, -0.0000, -0.0000, -0.0000, -0.0000, -1.3082],\n",
       "        [-0.3490,  0.2114,  0.3969, -0.9364, -0.0000,  1.0108, -0.0000, -0.0000, -1.4742, -0.0000, -0.0000, -1.3082],\n",
       "        [-0.3781,  0.0000,  0.0000, -1.0060, -0.3960,  0.0000, -0.8941, -0.0000, -0.0000, -0.7084, -0.0000, -0.0000],\n",
       "        [-0.4654,  0.0000,  0.0000, -0.6354, -0.3960,  0.0000, -0.0000, -0.0000, -1.4742, -0.0000, -2.1337, -0.0000]])"
      ]
     },
     "execution_count": 23,
     "metadata": {},
     "output_type": "execute_result"
    }
   ],
   "source": [
    "t_indep * coeffs"
   ]
  },
  {
   "cell_type": "code",
   "execution_count": 24,
   "id": "db81d641-dc20-452a-96b0-19d9bd8a3ece",
   "metadata": {},
   "outputs": [
    {
     "data": {
      "text/plain": [
       "torch.Size([891])"
      ]
     },
     "execution_count": 24,
     "metadata": {},
     "output_type": "execute_result"
    }
   ],
   "source": [
    "preds = (t_indep * coeffs).sum(axis = 1)\n",
    "preds.shape"
   ]
  },
  {
   "cell_type": "code",
   "execution_count": 25,
   "id": "e017d7ca-c171-4109-8cca-61b5c406926e",
   "metadata": {},
   "outputs": [
    {
     "data": {
      "text/plain": [
       "tensor(3.7009)"
      ]
     },
     "execution_count": 25,
     "metadata": {},
     "output_type": "execute_result"
    }
   ],
   "source": [
    "loss = torch.abs(preds - t_dep).mean()\n",
    "loss"
   ]
  },
  {
   "cell_type": "code",
   "execution_count": 26,
   "id": "92e67688-8652-4143-a665-3292491e62ec",
   "metadata": {},
   "outputs": [],
   "source": [
    "def calc_preds(coeffs, indeps): \n",
    "    return (indeps * coeffs).sum(axis = 1)\n",
    "def calc_loss(coeffs, indeps, deps): \n",
    "    return torch.abs(calc_preds(coeffs, indeps) - deps).mean()"
   ]
  },
  {
   "cell_type": "code",
   "execution_count": 27,
   "id": "7a789fe8-56d3-491c-9231-76630dfc93b4",
   "metadata": {},
   "outputs": [
    {
     "data": {
      "text/plain": [
       "tensor([-1.1635,  1.6909,  1.1907, -1.8283, -0.3960,  1.0108, -0.8941, -0.1175, -1.4742, -0.7084, -2.1337, -1.3082], requires_grad=True)"
      ]
     },
     "execution_count": 27,
     "metadata": {},
     "output_type": "execute_result"
    }
   ],
   "source": [
    "coeffs.requires_grad_()"
   ]
  },
  {
   "cell_type": "code",
   "execution_count": 28,
   "id": "7bdd9035-79ed-4bd3-a95a-5b1409057862",
   "metadata": {},
   "outputs": [
    {
     "data": {
      "text/plain": [
       "tensor(3.7009, grad_fn=<MeanBackward0>)"
      ]
     },
     "execution_count": 28,
     "metadata": {},
     "output_type": "execute_result"
    }
   ],
   "source": [
    "loss = calc_loss(coeffs, t_indep, t_dep)\n",
    "loss"
   ]
  },
  {
   "cell_type": "code",
   "execution_count": 29,
   "id": "f1962321-60ba-4c07-b197-9dbd28ea69c2",
   "metadata": {},
   "outputs": [
    {
     "data": {
      "image/svg+xml": [
       "<?xml version=\"1.0\" encoding=\"UTF-8\" standalone=\"no\"?>\n",
       "<!DOCTYPE svg PUBLIC \"-//W3C//DTD SVG 1.1//EN\"\n",
       " \"http://www.w3.org/Graphics/SVG/1.1/DTD/svg11.dtd\">\n",
       "<!-- Generated by graphviz version 2.50.0 (0)\n",
       " -->\n",
       "<!-- Pages: 1 -->\n",
       "<svg width=\"109pt\" height=\"436pt\"\n",
       " viewBox=\"0.00 0.00 109.00 436.00\" xmlns=\"http://www.w3.org/2000/svg\" xmlns:xlink=\"http://www.w3.org/1999/xlink\">\n",
       "<g id=\"graph0\" class=\"graph\" transform=\"scale(1 1) rotate(0) translate(4 432)\">\n",
       "<polygon fill=\"white\" stroke=\"transparent\" points=\"-4,4 -4,-432 105,-432 105,4 -4,4\"/>\n",
       "<!-- 140578259215488 -->\n",
       "<g id=\"node1\" class=\"node\">\n",
       "<title>140578259215488</title>\n",
       "<polygon fill=\"#caff70\" stroke=\"black\" points=\"77.5,-31 23.5,-31 23.5,0 77.5,0 77.5,-31\"/>\n",
       "<text text-anchor=\"middle\" x=\"50.5\" y=\"-7\" font-family=\"monospace\" font-size=\"10.00\"> ()</text>\n",
       "</g>\n",
       "<!-- 140578240526464 -->\n",
       "<g id=\"node2\" class=\"node\">\n",
       "<title>140578240526464</title>\n",
       "<polygon fill=\"lightgrey\" stroke=\"black\" points=\"98,-86 3,-86 3,-67 98,-67 98,-86\"/>\n",
       "<text text-anchor=\"middle\" x=\"50.5\" y=\"-74\" font-family=\"monospace\" font-size=\"10.00\">MeanBackward0</text>\n",
       "</g>\n",
       "<!-- 140578240526464&#45;&gt;140578259215488 -->\n",
       "<g id=\"edge7\" class=\"edge\">\n",
       "<title>140578240526464&#45;&gt;140578259215488</title>\n",
       "<path fill=\"none\" stroke=\"black\" d=\"M50.5,-66.79C50.5,-60.07 50.5,-50.4 50.5,-41.34\"/>\n",
       "<polygon fill=\"black\" stroke=\"black\" points=\"54,-41.19 50.5,-31.19 47,-41.19 54,-41.19\"/>\n",
       "</g>\n",
       "<!-- 140578240525984 -->\n",
       "<g id=\"node3\" class=\"node\">\n",
       "<title>140578240525984</title>\n",
       "<polygon fill=\"lightgrey\" stroke=\"black\" points=\"95,-141 6,-141 6,-122 95,-122 95,-141\"/>\n",
       "<text text-anchor=\"middle\" x=\"50.5\" y=\"-129\" font-family=\"monospace\" font-size=\"10.00\">AbsBackward0</text>\n",
       "</g>\n",
       "<!-- 140578240525984&#45;&gt;140578240526464 -->\n",
       "<g id=\"edge1\" class=\"edge\">\n",
       "<title>140578240525984&#45;&gt;140578240526464</title>\n",
       "<path fill=\"none\" stroke=\"black\" d=\"M50.5,-121.75C50.5,-114.8 50.5,-104.85 50.5,-96.13\"/>\n",
       "<polygon fill=\"black\" stroke=\"black\" points=\"54,-96.09 50.5,-86.09 47,-96.09 54,-96.09\"/>\n",
       "</g>\n",
       "<!-- 140578240526128 -->\n",
       "<g id=\"node4\" class=\"node\">\n",
       "<title>140578240526128</title>\n",
       "<polygon fill=\"lightgrey\" stroke=\"black\" points=\"95,-196 6,-196 6,-177 95,-177 95,-196\"/>\n",
       "<text text-anchor=\"middle\" x=\"50.5\" y=\"-184\" font-family=\"monospace\" font-size=\"10.00\">SubBackward0</text>\n",
       "</g>\n",
       "<!-- 140578240526128&#45;&gt;140578240525984 -->\n",
       "<g id=\"edge2\" class=\"edge\">\n",
       "<title>140578240526128&#45;&gt;140578240525984</title>\n",
       "<path fill=\"none\" stroke=\"black\" d=\"M50.5,-176.75C50.5,-169.8 50.5,-159.85 50.5,-151.13\"/>\n",
       "<polygon fill=\"black\" stroke=\"black\" points=\"54,-151.09 50.5,-141.09 47,-151.09 54,-151.09\"/>\n",
       "</g>\n",
       "<!-- 140578240526176 -->\n",
       "<g id=\"node5\" class=\"node\">\n",
       "<title>140578240526176</title>\n",
       "<polygon fill=\"lightgrey\" stroke=\"black\" points=\"95,-251 6,-251 6,-232 95,-232 95,-251\"/>\n",
       "<text text-anchor=\"middle\" x=\"50.5\" y=\"-239\" font-family=\"monospace\" font-size=\"10.00\">SumBackward1</text>\n",
       "</g>\n",
       "<!-- 140578240526176&#45;&gt;140578240526128 -->\n",
       "<g id=\"edge3\" class=\"edge\">\n",
       "<title>140578240526176&#45;&gt;140578240526128</title>\n",
       "<path fill=\"none\" stroke=\"black\" d=\"M50.5,-231.75C50.5,-224.8 50.5,-214.85 50.5,-206.13\"/>\n",
       "<polygon fill=\"black\" stroke=\"black\" points=\"54,-206.09 50.5,-196.09 47,-206.09 54,-206.09\"/>\n",
       "</g>\n",
       "<!-- 140578240525840 -->\n",
       "<g id=\"node6\" class=\"node\">\n",
       "<title>140578240525840</title>\n",
       "<polygon fill=\"lightgrey\" stroke=\"black\" points=\"95,-306 6,-306 6,-287 95,-287 95,-306\"/>\n",
       "<text text-anchor=\"middle\" x=\"50.5\" y=\"-294\" font-family=\"monospace\" font-size=\"10.00\">MulBackward0</text>\n",
       "</g>\n",
       "<!-- 140578240525840&#45;&gt;140578240526176 -->\n",
       "<g id=\"edge4\" class=\"edge\">\n",
       "<title>140578240525840&#45;&gt;140578240526176</title>\n",
       "<path fill=\"none\" stroke=\"black\" d=\"M50.5,-286.75C50.5,-279.8 50.5,-269.85 50.5,-261.13\"/>\n",
       "<polygon fill=\"black\" stroke=\"black\" points=\"54,-261.09 50.5,-251.09 47,-261.09 54,-261.09\"/>\n",
       "</g>\n",
       "<!-- 140578240525744 -->\n",
       "<g id=\"node7\" class=\"node\">\n",
       "<title>140578240525744</title>\n",
       "<polygon fill=\"lightgrey\" stroke=\"black\" points=\"101,-361 0,-361 0,-342 101,-342 101,-361\"/>\n",
       "<text text-anchor=\"middle\" x=\"50.5\" y=\"-349\" font-family=\"monospace\" font-size=\"10.00\">AccumulateGrad</text>\n",
       "</g>\n",
       "<!-- 140578240525744&#45;&gt;140578240525840 -->\n",
       "<g id=\"edge5\" class=\"edge\">\n",
       "<title>140578240525744&#45;&gt;140578240525840</title>\n",
       "<path fill=\"none\" stroke=\"black\" d=\"M50.5,-341.75C50.5,-334.8 50.5,-324.85 50.5,-316.13\"/>\n",
       "<polygon fill=\"black\" stroke=\"black\" points=\"54,-316.09 50.5,-306.09 47,-316.09 54,-316.09\"/>\n",
       "</g>\n",
       "<!-- 140578259122544 -->\n",
       "<g id=\"node8\" class=\"node\">\n",
       "<title>140578259122544</title>\n",
       "<polygon fill=\"lightblue\" stroke=\"black\" points=\"77.5,-428 23.5,-428 23.5,-397 77.5,-397 77.5,-428\"/>\n",
       "<text text-anchor=\"middle\" x=\"50.5\" y=\"-404\" font-family=\"monospace\" font-size=\"10.00\"> (12)</text>\n",
       "</g>\n",
       "<!-- 140578259122544&#45;&gt;140578240525744 -->\n",
       "<g id=\"edge6\" class=\"edge\">\n",
       "<title>140578259122544&#45;&gt;140578240525744</title>\n",
       "<path fill=\"none\" stroke=\"black\" d=\"M50.5,-396.92C50.5,-389.22 50.5,-379.69 50.5,-371.43\"/>\n",
       "<polygon fill=\"black\" stroke=\"black\" points=\"54,-371.25 50.5,-361.25 47,-371.25 54,-371.25\"/>\n",
       "</g>\n",
       "</g>\n",
       "</svg>\n"
      ],
      "text/plain": [
       "<graphviz.graphs.Digraph at 0x7fdaec16f7c0>"
      ]
     },
     "execution_count": 29,
     "metadata": {},
     "output_type": "execute_result"
    }
   ],
   "source": [
    "from torchviz import make_dot\n",
    "make_dot(loss)"
   ]
  },
  {
   "cell_type": "code",
   "execution_count": 30,
   "id": "4188c8b0-cb8a-4a09-83ad-0e7987824bd8",
   "metadata": {},
   "outputs": [],
   "source": [
    "loss.backward()"
   ]
  },
  {
   "cell_type": "code",
   "execution_count": 31,
   "id": "adcd0ba7-f01a-4664-b535-782b7d126e4b",
   "metadata": {},
   "outputs": [
    {
     "data": {
      "text/plain": [
       "tensor([-0.3571, -0.0654, -0.0636, -0.4746, -0.6476, -0.3524, -0.2424, -0.2065, -0.5511, -0.1886, -0.0864, -0.7250])"
      ]
     },
     "execution_count": 31,
     "metadata": {},
     "output_type": "execute_result"
    }
   ],
   "source": [
    "coeffs.grad"
   ]
  },
  {
   "cell_type": "code",
   "execution_count": 32,
   "id": "70c92017-5233-4cd7-92be-0b95a730f4a1",
   "metadata": {},
   "outputs": [
    {
     "name": "stdout",
     "output_type": "stream",
     "text": [
      "tensor(3.5131)\n"
     ]
    }
   ],
   "source": [
    "with torch.no_grad():\n",
    "    coeffs.sub_(coeffs.grad * 0.1)\n",
    "    coeffs.grad.zero_()\n",
    "    print(calc_loss(coeffs, t_indep, t_dep))"
   ]
  },
  {
   "cell_type": "code",
   "execution_count": 33,
   "id": "45ae3bec-5e2f-4355-9bec-77cdf286ff0c",
   "metadata": {},
   "outputs": [
    {
     "name": "stderr",
     "output_type": "stream",
     "text": [
      "/home/mark/miniconda3/envs/py10/lib/python3.10/site-packages/scipy/__init__.py:146: UserWarning: A NumPy version >=1.17.3 and <1.25.0 is required for this version of SciPy (detected version 1.26.4\n",
      "  warnings.warn(f\"A NumPy version >={np_minversion} and <{np_maxversion}\"\n"
     ]
    }
   ],
   "source": [
    "from fastai.data.transforms import RandomSplitter\n",
    "trn_split, val_split = RandomSplitter(seed = 42)(df)"
   ]
  },
  {
   "cell_type": "code",
   "execution_count": 34,
   "id": "2559c7e9-dca7-496f-8299-c41c61fda6f4",
   "metadata": {},
   "outputs": [
    {
     "data": {
      "text/plain": [
       "(713, 178)"
      ]
     },
     "execution_count": 34,
     "metadata": {},
     "output_type": "execute_result"
    }
   ],
   "source": [
    "trn_indep, val_indep = t_indep[trn_split], t_indep[val_split]\n",
    "trn_dep, val_dep = t_dep[trn_split], t_dep[val_split]\n",
    "len(trn_indep), len(val_indep)"
   ]
  },
  {
   "cell_type": "code",
   "execution_count": 35,
   "id": "92b96ee2-a2a5-4174-9009-a59647eca775",
   "metadata": {},
   "outputs": [],
   "source": [
    "def update_coeffs(coeffs, lr):\n",
    "    coeffs.sub_(coeffs.grad * lr)\n",
    "    coeffs.grad.zero_()\n",
    "def one_epoch(coeffs, lr, trn_indep, trn_dep):\n",
    "    loss = calc_loss(coeffs, trn_indep, trn_dep)\n",
    "    loss.backward()\n",
    "    with torch.no_grad(): update_coeffs(coeffs, lr)\n",
    "    print(f\"{loss:.5f}\", end=\"; \")\n",
    "def init_coeffs(n_coeff):\n",
    "    return (torch.rand(n_coeff) - 0.5).requires_grad_()"
   ]
  },
  {
   "cell_type": "code",
   "execution_count": 36,
   "id": "802135f7-aec8-4d55-93f3-09dfb6523855",
   "metadata": {},
   "outputs": [],
   "source": [
    "def train_model(trn_indep, trn_dep, epochs = 30, lr = 0.01):\n",
    "    torch.manual_seed(442)\n",
    "    coeffs = init_coeffs(trn_indep.shape[1])\n",
    "    for i in range(epochs):\n",
    "        one_epoch(coeffs, lr, trn_indep, trn_dep)\n",
    "    return coeffs"
   ]
  },
  {
   "cell_type": "code",
   "execution_count": 37,
   "id": "766fd110-c059-46aa-b7c8-85c374fd7682",
   "metadata": {},
   "outputs": [
    {
     "name": "stdout",
     "output_type": "stream",
     "text": [
      "0.53586; 0.50235; 0.47692; 0.45372; 0.43099; 0.40929; 0.38778; 0.36706; 0.34928; 0.33582; 0.32959; 0.32563; 0.32853; 0.30370; 0.31394; 0.29570; 0.30049; 0.28943; "
     ]
    }
   ],
   "source": [
    "coeffs = train_model(trn_indep, trn_dep, 18, 0.2)"
   ]
  },
  {
   "cell_type": "code",
   "execution_count": 38,
   "id": "58d9c592-fb30-4a7d-8fe9-fbf12b46ba35",
   "metadata": {},
   "outputs": [
    {
     "data": {
      "text/plain": [
       "{'Age': tensor(-0.2694),\n",
       " 'SibSp': tensor(0.0901),\n",
       " 'Parch': tensor(0.2359),\n",
       " 'LogFare': tensor(0.0280),\n",
       " 'Sex_male': tensor(-0.3990),\n",
       " 'Sex_female': tensor(0.2345),\n",
       " 'Pclass_1': tensor(0.7232),\n",
       " 'Pclass_2': tensor(0.4112),\n",
       " 'Pclass_3': tensor(0.3601),\n",
       " 'Embarked_C': tensor(0.0955),\n",
       " 'Embarked_Q': tensor(0.2395),\n",
       " 'Embarked_S': tensor(0.2122)}"
      ]
     },
     "execution_count": 38,
     "metadata": {},
     "output_type": "execute_result"
    }
   ],
   "source": [
    "def show_coeffs(cols, coeffs):\n",
    "    return dict(zip(cols, coeffs.requires_grad_(False)))\n",
    "show_coeffs(indep_cols, coeffs)"
   ]
  },
  {
   "cell_type": "code",
   "execution_count": 39,
   "id": "9cc89061-37e9-4828-aa77-290a08324b77",
   "metadata": {},
   "outputs": [],
   "source": [
    "# try out trained coeffs to validation set\n",
    "preds = calc_preds(coeffs, val_indep)"
   ]
  },
  {
   "cell_type": "code",
   "execution_count": 40,
   "id": "3c9eead0-77c7-4ad4-8e56-1a192f4f81ed",
   "metadata": {},
   "outputs": [
    {
     "data": {
      "text/plain": [
       "tensor([ True,  True,  True,  True,  True,  True,  True,  True,  True,  True, False, False, False,  True,  True, False])"
      ]
     },
     "execution_count": 40,
     "metadata": {},
     "output_type": "execute_result"
    }
   ],
   "source": [
    "results = val_dep.bool() == (preds>0.5)\n",
    "results[:16]"
   ]
  },
  {
   "cell_type": "code",
   "execution_count": 41,
   "id": "aa3a3202-f05e-46fb-b702-eb4a81146002",
   "metadata": {},
   "outputs": [
    {
     "data": {
      "text/plain": [
       "tensor(0.7865)"
      ]
     },
     "execution_count": 41,
     "metadata": {},
     "output_type": "execute_result"
    }
   ],
   "source": [
    "results.float().mean()"
   ]
  },
  {
   "cell_type": "code",
   "execution_count": 42,
   "id": "e1928d48-fa68-477b-85fc-c5a4396d7962",
   "metadata": {},
   "outputs": [
    {
     "data": {
      "text/plain": [
       "tensor(0.7865)"
      ]
     },
     "execution_count": 42,
     "metadata": {},
     "output_type": "execute_result"
    }
   ],
   "source": [
    "def acc(coeffs, val_dep, val_indep): \n",
    "    return (val_dep.bool()==(calc_preds(coeffs, val_indep)>0.5)).float().mean()\n",
    "acc(coeffs, val_dep, val_indep)"
   ]
  },
  {
   "cell_type": "code",
   "execution_count": 43,
   "id": "be55acbb-0adf-4991-8058-082088e021ba",
   "metadata": {},
   "outputs": [],
   "source": [
    "def calc_preds(coeffs, indeps):\n",
    "    return torch.sigmoid((indeps * coeffs).sum(axis = 1))"
   ]
  },
  {
   "cell_type": "code",
   "execution_count": 44,
   "id": "ee8149c5-50e9-4bee-bcdd-6d1c4896edba",
   "metadata": {},
   "outputs": [
    {
     "name": "stdout",
     "output_type": "stream",
     "text": [
      "0.51013; 0.50591; 0.50168; 0.49745; 0.49322; 0.48900; 0.48481; 0.48064; 0.47651; 0.47243; 0.46839; 0.46441; 0.46050; 0.45665; 0.45287; 0.44917; 0.44555; 0.44200; 0.43854; 0.43517; 0.43188; 0.42867; 0.42556; 0.42252; 0.41957; 0.41670; 0.41392; 0.41121; 0.40858; 0.40602; 0.40354; 0.40113; 0.39879; 0.39652; 0.39431; 0.39216; 0.39008; 0.38805; 0.38607; 0.38415; 0.38228; 0.38045; 0.37868; 0.37695; 0.37526; 0.37361; 0.37200; 0.37043; 0.36890; 0.36740; 0.36593; 0.36450; 0.36309; 0.36171; 0.36037; 0.35904; 0.35775; 0.35647; 0.35523; 0.35400; 0.35279; 0.35161; 0.35045; 0.34930; 0.34817; 0.34706; 0.34597; 0.34490; 0.34384; 0.34279; 0.34176; 0.34075; 0.33974; 0.33876; 0.33778; 0.33682; 0.33587; 0.33493; 0.33400; 0.33308; 0.33218; 0.33128; 0.33040; 0.32953; 0.32866; 0.32781; 0.32696; 0.32612; 0.32530; 0.32448; 0.32367; 0.32287; 0.32207; 0.32129; 0.32051; 0.31974; 0.31898; 0.31823; 0.31748; 0.31674; "
     ]
    }
   ],
   "source": [
    "coeffs = train_model(trn_indep, trn_dep, 100, 0.2)"
   ]
  },
  {
   "cell_type": "code",
   "execution_count": 45,
   "id": "93ad5903-981d-4942-90ce-f12b6bf66990",
   "metadata": {},
   "outputs": [
    {
     "data": {
      "text/plain": [
       "tensor(0.7921)"
      ]
     },
     "execution_count": 45,
     "metadata": {},
     "output_type": "execute_result"
    }
   ],
   "source": [
    "acc(coeffs, val_dep, val_indep)"
   ]
  },
  {
   "cell_type": "code",
   "execution_count": 46,
   "id": "852d6800-d788-46c3-bfb3-87baf00c909f",
   "metadata": {},
   "outputs": [
    {
     "data": {
      "text/plain": [
       "{'Age': tensor(-0.6650),\n",
       " 'SibSp': tensor(0.0847),\n",
       " 'Parch': tensor(0.2448),\n",
       " 'LogFare': tensor(-0.2521),\n",
       " 'Sex_male': tensor(-1.5245),\n",
       " 'Sex_female': tensor(0.4898),\n",
       " 'Pclass_1': tensor(0.8028),\n",
       " 'Pclass_2': tensor(0.3545),\n",
       " 'Pclass_3': tensor(-0.5329),\n",
       " 'Embarked_C': tensor(-0.2782),\n",
       " 'Embarked_Q': tensor(0.1724),\n",
       " 'Embarked_S': tensor(-0.2173)}"
      ]
     },
     "execution_count": 46,
     "metadata": {},
     "output_type": "execute_result"
    }
   ],
   "source": [
    "show_coeffs(indep_cols, coeffs)"
   ]
  },
  {
   "cell_type": "code",
   "execution_count": 47,
   "id": "fbff0121-1abf-4520-a34f-33dcc4ca021e",
   "metadata": {},
   "outputs": [],
   "source": [
    "def calc_preds(coeffs, indeps): return torch.sigmoid(indeps@coeffs)\n",
    "def init_coeffs(n_coeff): return (torch.rand(n_coeff, 1)*0.1).requires_grad_()"
   ]
  },
  {
   "cell_type": "code",
   "execution_count": 48,
   "id": "95ba3a66-e817-4621-9cf2-49c03b76b5f2",
   "metadata": {},
   "outputs": [],
   "source": [
    "trn_dep = trn_dep[:,None]\n",
    "val_dep = val_dep[:,None]"
   ]
  },
  {
   "cell_type": "code",
   "execution_count": 49,
   "id": "05dab789-12a7-4e19-9f4b-c2421ecf9b2d",
   "metadata": {},
   "outputs": [
    {
     "name": "stdout",
     "output_type": "stream",
     "text": [
      "0.51239; 0.50812; 0.50382; 0.49950; 0.49516; 0.49081; 0.48647; 0.48214; 0.47783; 0.47354; 0.46930; 0.46510; 0.46095; 0.45685; 0.45283; 0.44887; 0.44499; 0.44118; 0.43746; 0.43382; 0.43026; 0.42680; 0.42342; 0.42013; 0.41693; 0.41382; 0.41080; 0.40786; 0.40500; 0.40223; 0.39954; 0.39693; 0.39440; 0.39194; 0.38955; 0.38723; 0.38498; 0.38279; 0.38066; 0.37860; 0.37659; 0.37464; 0.37274; 0.37090; 0.36910; 0.36735; 0.36564; 0.36398; 0.36236; 0.36078; 0.35924; 0.35774; 0.35627; 0.35483; 0.35343; 0.35205; 0.35071; 0.34940; 0.34811; 0.34685; 0.34562; 0.34441; 0.34322; 0.34206; 0.34091; 0.33979; 0.33869; 0.33761; 0.33655; 0.33550; 0.33447; 0.33346; 0.33247; 0.33149; 0.33053; 0.32958; 0.32865; 0.32773; 0.32682; 0.32593; 0.32505; 0.32418; 0.32333; 0.32248; 0.32165; 0.32083; 0.32002; 0.31922; 0.31843; 0.31765; 0.31688; 0.31612; 0.31537; 0.31463; 0.31390; 0.31317; 0.31246; 0.31175; 0.31105; 0.31036; "
     ]
    }
   ],
   "source": [
    "coeffs = train_model(trn_indep, trn_dep, 100, 0.2)"
   ]
  },
  {
   "cell_type": "code",
   "execution_count": 50,
   "id": "2bab09f9-9cb5-4470-85bb-a33550f40966",
   "metadata": {},
   "outputs": [
    {
     "data": {
      "text/plain": [
       "tensor(0.7978)"
      ]
     },
     "execution_count": 50,
     "metadata": {},
     "output_type": "execute_result"
    }
   ],
   "source": [
    "acc(coeffs, val_dep, val_indep)"
   ]
  },
  {
   "cell_type": "code",
   "execution_count": 51,
   "id": "edfe4408-4950-44db-9e38-da3f9e5ac5a1",
   "metadata": {},
   "outputs": [],
   "source": [
    "def init_coeffs(n_coeff, n_hidden=20):\n",
    "    layer1 = (torch.rand(n_coeff, n_hidden)-0.5)/n_hidden\n",
    "    layer2 = torch.rand(n_hidden, 1)-0.3\n",
    "    const = torch.rand(1)[0]\n",
    "    return layer1.requires_grad_(),layer2.requires_grad_(),const.requires_grad_()"
   ]
  },
  {
   "cell_type": "code",
   "execution_count": 52,
   "id": "4ac29a40-f394-47ff-ba4a-067b8a01f62b",
   "metadata": {},
   "outputs": [],
   "source": [
    "import torch.nn.functional as F\n",
    "\n",
    "def calc_preds(coeffs, indeps):\n",
    "    l1, l2, const = coeffs\n",
    "    res = F.relu(indeps@l1)\n",
    "    res = res@l2 + const\n",
    "    return torch.sigmoid(res)"
   ]
  },
  {
   "cell_type": "code",
   "execution_count": 53,
   "id": "f6d53f99-65ec-4034-9d19-d25936dc16a4",
   "metadata": {},
   "outputs": [],
   "source": [
    "def update_coeffs(coeffs, lr):\n",
    "    for layer in coeffs:\n",
    "        layer.sub_(layer.grad * lr)\n",
    "        layer.grad.zero_()"
   ]
  },
  {
   "cell_type": "code",
   "execution_count": 54,
   "id": "36f52c8f-2f9e-4aa8-9c46-b5a00ad6ce91",
   "metadata": {},
   "outputs": [
    {
     "name": "stdout",
     "output_type": "stream",
     "text": [
      "0.54339; 0.53210; 0.51984; 0.50492; 0.48734; 0.46567; 0.43860; 0.40689; 0.37319; 0.34314; 0.31929; 0.30096; 0.28633; 0.27429; 0.26439; 0.25634; 0.24983; 0.24455; 0.24025; 0.23670; 0.23375; 0.23127; 0.22915; 0.22732; 0.22573; 0.22432; 0.22305; 0.22191; 0.22087; 0.21990; "
     ]
    }
   ],
   "source": [
    "coeffs = train_model(trn_indep, trn_dep, lr=1.4)"
   ]
  },
  {
   "cell_type": "code",
   "execution_count": 55,
   "id": "3a8e1b19-77e8-4195-a843-f8c374b98e48",
   "metadata": {},
   "outputs": [
    {
     "data": {
      "text/plain": [
       "tensor(0.7921)"
      ]
     },
     "execution_count": 55,
     "metadata": {},
     "output_type": "execute_result"
    }
   ],
   "source": [
    "acc(coeffs, val_dep, val_indep)"
   ]
  },
  {
   "cell_type": "code",
   "execution_count": 56,
   "id": "da1806a7-291a-49ef-9e23-b87c88f69bc2",
   "metadata": {},
   "outputs": [
    {
     "name": "stdout",
     "output_type": "stream",
     "text": [
      "0.54339; 0.39975; 0.26050; 0.39029; 0.22054; 0.21146; 0.19734; 0.19482; 0.19332; 0.19305; 0.19289; 0.19278; 0.19270; 0.19263; 0.19259; 0.19255; 0.19252; 0.19250; 0.19247; 0.19246; 0.19244; 0.19243; 0.19241; 0.19240; 0.19239; 0.19238; 0.19237; 0.19236; 0.19236; 0.19235; "
     ]
    }
   ],
   "source": [
    "coeffs = train_model(trn_indep, trn_dep, lr=20)"
   ]
  },
  {
   "cell_type": "code",
   "execution_count": 57,
   "id": "7fea2f64-d6cc-4314-a30e-b62c1675ce71",
   "metadata": {},
   "outputs": [
    {
     "data": {
      "text/plain": [
       "tensor(0.8258)"
      ]
     },
     "execution_count": 57,
     "metadata": {},
     "output_type": "execute_result"
    }
   ],
   "source": [
    "acc(coeffs, val_dep, val_indep)"
   ]
  },
  {
   "cell_type": "code",
   "execution_count": 58,
   "id": "f0146564-8831-45ad-8a90-f9c47f3cea1d",
   "metadata": {},
   "outputs": [],
   "source": [
    "def init_coeffs(n_coeff):\n",
    "    hiddens = [10, 10]  # <-- set this to the size of each hidden layer you want\n",
    "    sizes = [n_coeff] + hiddens + [1]\n",
    "    n = len(sizes)\n",
    "    layers = [(torch.rand(sizes[i], sizes[i+1])-0.3)/sizes[i+1]*4 for i in range(n-1)]\n",
    "    consts = [(torch.rand(1)[0]-0.5)*0.1 for i in range(n-1)]\n",
    "    for l in layers+consts: l.requires_grad_()\n",
    "    return layers,consts"
   ]
  },
  {
   "cell_type": "code",
   "execution_count": 59,
   "id": "a5d9cdf9-a463-4e3d-b480-fd3c5271678e",
   "metadata": {},
   "outputs": [],
   "source": [
    "import torch.nn.functional as F\n",
    "\n",
    "def calc_preds(coeffs, indeps):\n",
    "    layers,consts = coeffs\n",
    "    n = len(layers)\n",
    "    res = indeps\n",
    "    for i,l in enumerate(layers):\n",
    "        res = res@l + consts[i]\n",
    "        if i!=n-1: res = F.relu(res)\n",
    "    return torch.sigmoid(res)"
   ]
  },
  {
   "cell_type": "code",
   "execution_count": 60,
   "id": "9d38b644-fb6c-4954-ae58-767a32a1474a",
   "metadata": {},
   "outputs": [],
   "source": [
    "def update_coeffs(coeffs, lr):\n",
    "    layers,consts = coeffs\n",
    "    for layer in layers+consts:\n",
    "        layer.sub_(layer.grad * lr)\n",
    "        layer.grad.zero_()"
   ]
  },
  {
   "cell_type": "code",
   "execution_count": 61,
   "id": "0940b4d8-6e4c-4ecd-8df8-c8c22e5638bb",
   "metadata": {},
   "outputs": [
    {
     "name": "stdout",
     "output_type": "stream",
     "text": [
      "0.52100; 0.50837; 0.49567; 0.48390; 0.47607; 0.46842; 0.46079; 0.45331; 0.44597; 0.43875; 0.43163; 0.42460; 0.41771; 0.41085; 0.40380; 0.39705; 0.39036; 0.38385; 0.37769; 0.37175; 0.36603; 0.36080; 0.35594; 0.35133; 0.34686; 0.34250; 0.33822; 0.33399; 0.32979; 0.32563; 0.32152; 0.31744; 0.31340; 0.30941; 0.30550; 0.30167; 0.29793; 0.29431; 0.29080; 0.28741; 0.28417; 0.28106; 0.27808; 0.27525; 0.27256; 0.27000; 0.26757; 0.26527; 0.26309; 0.26102; 0.25906; 0.25721; 0.25545; 0.25378; 0.25220; 0.25070; 0.24928; 0.24793; 0.24664; 0.24542; 0.24426; 0.24316; 0.24211; 0.24111; 0.24015; 0.23924; 0.23838; 0.23755; 0.23676; 0.23600; 0.23528; 0.23458; 0.23392; 0.23329; 0.23268; 0.23210; 0.23155; 0.23101; 0.23050; 0.23001; 0.22953; 0.22908; 0.22864; 0.22821; 0.22780; 0.22741; 0.22703; 0.22666; 0.22630; 0.22595; 0.22562; 0.22529; 0.22497; 0.22467; 0.22437; 0.22408; 0.22380; 0.22352; 0.22325; 0.22299; 0.22274; 0.22249; 0.22224; 0.22200; 0.22177; 0.22154; 0.22132; 0.22110; 0.22089; 0.22068; 0.22047; 0.22027; 0.22007; 0.21988; 0.21969; 0.21950; 0.21932; 0.21914; 0.21896; 0.21878; 0.21861; 0.21844; 0.21827; 0.21810; 0.21794; 0.21777; 0.21761; 0.21745; 0.21729; 0.21713; 0.21697; 0.21681; 0.21665; 0.21650; 0.21635; 0.21619; 0.21604; 0.21589; 0.21574; 0.21558; 0.21543; 0.21529; 0.21514; 0.21499; 0.21484; 0.21469; 0.21455; 0.21440; 0.21426; 0.21411; 0.21397; 0.21382; 0.21368; 0.21354; 0.21339; 0.21325; 0.21311; 0.21297; 0.21283; 0.21269; 0.21255; 0.21241; 0.21227; 0.21213; 0.21199; 0.21186; 0.21172; 0.21158; 0.21145; 0.21132; 0.21118; 0.21105; 0.21092; 0.21078; 0.21065; 0.21052; 0.21039; 0.21027; 0.21014; 0.21001; 0.20988; 0.20976; 0.20963; 0.20951; 0.20939; 0.20927; 0.20914; 0.20902; 0.20890; 0.20878; 0.20867; 0.20855; 0.20843; 0.20832; 0.20820; 0.20809; 0.20798; 0.20787; 0.20776; 0.20765; 0.20754; 0.20743; 0.20732; 0.20722; 0.20711; 0.20701; 0.20690; 0.20680; 0.20670; 0.20660; 0.20650; 0.20640; 0.20630; 0.20621; 0.20611; 0.20602; 0.20592; 0.20583; 0.20574; 0.20564; 0.20555; 0.20546; 0.20537; 0.20528; 0.20520; 0.20511; 0.20502; 0.20494; 0.20485; 0.20477; 0.20469; 0.20461; 0.20452; 0.20444; 0.20436; 0.20428; 0.20421; 0.20413; 0.20405; 0.20397; 0.20390; 0.20382; 0.20375; 0.20368; 0.20360; 0.20353; 0.20346; 0.20339; 0.20332; 0.20325; 0.20318; 0.20311; 0.20305; 0.20298; 0.20291; 0.20285; 0.20278; 0.20272; 0.20265; 0.20259; 0.20253; 0.20246; 0.20240; 0.20234; 0.20228; 0.20222; 0.20216; 0.20210; 0.20204; 0.20199; 0.20193; 0.20187; 0.20182; 0.20176; 0.20171; 0.20165; 0.20160; 0.20154; 0.20149; 0.20144; 0.20138; 0.20133; 0.20128; 0.20123; 0.20118; 0.20113; 0.20108; 0.20103; 0.20098; 0.20093; 0.20088; 0.20084; 0.20079; 0.20074; 0.20070; 0.20065; 0.20060; 0.20056; 0.20051; 0.20047; 0.20043; 0.20038; 0.20034; 0.20030; 0.20025; 0.20021; 0.20017; 0.20013; 0.20009; 0.20005; 0.20000; 0.19996; 0.19993; 0.19989; 0.19985; 0.19981; 0.19977; 0.19973; 0.19969; 0.19966; 0.19962; 0.19958; 0.19954; 0.19951; 0.19947; 0.19944; 0.19940; 0.19937; 0.19933; 0.19930; 0.19926; 0.19923; 0.19919; 0.19916; 0.19913; 0.19909; 0.19906; 0.19903; 0.19900; 0.19896; 0.19893; 0.19890; 0.19887; 0.19884; 0.19881; 0.19878; 0.19875; 0.19872; 0.19869; 0.19866; 0.19863; 0.19860; 0.19857; 0.19854; 0.19851; 0.19848; 0.19845; 0.19843; 0.19840; 0.19837; 0.19834; 0.19832; 0.19829; 0.19826; 0.19824; 0.19821; 0.19818; 0.19816; 0.19813; 0.19811; 0.19808; 0.19806; 0.19803; 0.19801; 0.19798; 0.19796; 0.19793; 0.19791; 0.19788; 0.19786; 0.19784; 0.19781; 0.19779; 0.19777; 0.19774; 0.19772; 0.19770; 0.19767; 0.19765; 0.19763; 0.19761; 0.19758; 0.19756; 0.19754; 0.19752; 0.19750; 0.19748; 0.19746; 0.19743; 0.19741; 0.19739; 0.19737; 0.19735; 0.19733; 0.19731; 0.19729; 0.19727; 0.19725; 0.19723; 0.19721; 0.19719; 0.19717; 0.19715; 0.19714; 0.19712; 0.19710; 0.19708; 0.19706; 0.19704; 0.19702; 0.19701; 0.19699; 0.19697; 0.19695; 0.19693; 0.19692; 0.19690; 0.19688; 0.19686; 0.19685; 0.19683; 0.19681; 0.19680; 0.19678; 0.19676; 0.19675; 0.19673; 0.19671; 0.19670; 0.19668; 0.19666; 0.19665; 0.19663; 0.19662; 0.19660; 0.19658; 0.19657; 0.19655; 0.19654; 0.19652; 0.19651; 0.19649; 0.19648; 0.19646; 0.19645; 0.19643; 0.19642; 0.19640; 0.19639; 0.19638; 0.19636; 0.19635; 0.19633; 0.19632; 0.19630; 0.19629; 0.19628; 0.19626; 0.19625; 0.19624; 0.19622; 0.19621; 0.19620; 0.19618; 0.19617; 0.19616; 0.19614; 0.19613; 0.19612; 0.19610; 0.19609; 0.19608; 0.19607; 0.19605; 0.19604; 0.19603; 0.19602; 0.19600; 0.19599; 0.19598; 0.19597; 0.19595; 0.19594; 0.19593; 0.19592; 0.19591; 0.19590; 0.19588; 0.19587; 0.19586; 0.19585; 0.19584; 0.19583; 0.19581; 0.19580; 0.19579; 0.19578; 0.19577; 0.19576; 0.19575; 0.19574; 0.19573; 0.19572; 0.19571; 0.19569; 0.19568; 0.19567; 0.19566; 0.19565; 0.19564; 0.19563; 0.19562; 0.19561; 0.19560; 0.19559; 0.19558; 0.19557; 0.19556; 0.19555; 0.19554; 0.19553; 0.19552; 0.19551; 0.19550; 0.19549; 0.19548; 0.19547; 0.19546; 0.19545; 0.19544; 0.19543; 0.19543; 0.19542; 0.19541; 0.19540; 0.19539; 0.19538; 0.19537; 0.19536; 0.19535; 0.19534; 0.19533; 0.19533; 0.19532; 0.19531; 0.19530; 0.19529; 0.19528; 0.19527; 0.19526; 0.19526; 0.19525; 0.19524; 0.19523; 0.19522; 0.19521; 0.19521; 0.19520; 0.19519; 0.19518; 0.19517; 0.19516; 0.19516; 0.19515; 0.19514; 0.19513; 0.19512; 0.19512; 0.19511; 0.19510; 0.19509; 0.19509; 0.19508; 0.19507; 0.19506; 0.19505; 0.19505; 0.19504; 0.19503; 0.19502; 0.19502; 0.19501; 0.19500; 0.19499; 0.19499; 0.19498; 0.19497; 0.19497; 0.19496; 0.19495; 0.19494; 0.19494; 0.19493; 0.19492; 0.19492; 0.19491; 0.19490; 0.19490; 0.19489; 0.19488; 0.19487; 0.19487; 0.19486; 0.19485; 0.19485; 0.19484; 0.19483; 0.19483; 0.19482; 0.19481; 0.19481; 0.19480; 0.19479; 0.19479; 0.19478; 0.19478; 0.19477; 0.19476; 0.19476; 0.19475; 0.19474; 0.19474; 0.19473; 0.19473; 0.19472; 0.19471; 0.19471; 0.19470; 0.19469; 0.19469; 0.19468; 0.19468; 0.19467; 0.19466; 0.19466; 0.19465; 0.19465; 0.19464; 0.19464; 0.19463; 0.19462; 0.19462; 0.19461; 0.19461; 0.19460; 0.19459; 0.19459; 0.19458; 0.19458; 0.19457; 0.19457; 0.19456; 0.19456; 0.19455; 0.19454; 0.19454; 0.19453; 0.19453; 0.19452; 0.19452; 0.19451; 0.19451; 0.19450; 0.19450; 0.19449; 0.19449; 0.19448; 0.19448; 0.19447; 0.19446; 0.19446; 0.19445; 0.19445; 0.19444; 0.19444; 0.19443; 0.19443; 0.19442; 0.19442; 0.19441; 0.19441; 0.19440; 0.19440; 0.19439; 0.19439; 0.19438; 0.19438; 0.19438; 0.19437; 0.19437; 0.19436; 0.19436; 0.19435; 0.19435; 0.19434; 0.19434; 0.19433; 0.19433; 0.19432; 0.19432; 0.19431; 0.19431; 0.19430; 0.19430; 0.19430; 0.19429; 0.19429; 0.19428; 0.19428; 0.19427; 0.19427; 0.19426; 0.19426; 0.19426; 0.19425; 0.19425; 0.19424; 0.19424; 0.19423; 0.19423; 0.19422; 0.19422; 0.19422; 0.19421; 0.19421; 0.19420; 0.19420; 0.19420; 0.19419; 0.19419; 0.19418; 0.19418; 0.19417; 0.19417; 0.19417; 0.19416; 0.19416; 0.19415; 0.19415; 0.19415; 0.19414; 0.19414; 0.19413; 0.19413; 0.19413; 0.19412; 0.19412; 0.19411; 0.19411; 0.19411; 0.19410; 0.19410; 0.19410; 0.19409; 0.19409; 0.19408; 0.19408; 0.19408; 0.19407; 0.19407; 0.19406; 0.19406; 0.19406; 0.19405; 0.19405; 0.19405; 0.19404; 0.19404; 0.19404; 0.19403; 0.19403; 0.19402; 0.19402; 0.19402; 0.19401; 0.19401; 0.19401; 0.19400; 0.19400; 0.19400; 0.19399; 0.19399; 0.19399; 0.19398; 0.19398; 0.19398; 0.19397; 0.19397; 0.19396; 0.19396; 0.19396; 0.19395; 0.19395; 0.19395; 0.19394; 0.19394; 0.19394; 0.19393; 0.19393; 0.19393; 0.19392; 0.19392; 0.19392; 0.19392; 0.19391; 0.19391; 0.19391; 0.19390; 0.19390; 0.19390; 0.19389; 0.19389; 0.19389; 0.19388; 0.19388; 0.19388; 0.19387; 0.19387; 0.19387; 0.19386; 0.19386; 0.19386; 0.19386; 0.19385; 0.19385; 0.19385; 0.19384; 0.19384; 0.19384; 0.19383; 0.19383; 0.19383; 0.19382; 0.19382; 0.19382; 0.19382; 0.19381; 0.19381; 0.19381; 0.19380; 0.19380; 0.19380; 0.19380; 0.19379; 0.19379; 0.19379; 0.19378; 0.19378; 0.19378; 0.19378; 0.19377; 0.19377; 0.19377; 0.19376; 0.19376; 0.19376; 0.19376; 0.19375; 0.19375; 0.19375; 0.19375; 0.19374; 0.19374; 0.19374; 0.19373; 0.19373; 0.19373; 0.19373; 0.19372; 0.19372; 0.19372; 0.19372; 0.19371; 0.19371; 0.19371; 0.19370; 0.19370; 0.19370; 0.19370; 0.19369; 0.19369; 0.19369; 0.19369; 0.19368; 0.19368; 0.19368; 0.19368; 0.19367; 0.19367; 0.19367; 0.19367; 0.19366; 0.19366; 0.19366; 0.19366; 0.19365; 0.19365; 0.19365; 0.19365; 0.19364; 0.19364; 0.19364; 0.19364; 0.19363; 0.19363; 0.19363; 0.19363; 0.19362; 0.19362; 0.19362; 0.19362; 0.19362; 0.19361; 0.19361; 0.19361; 0.19361; 0.19360; 0.19360; 0.19360; 0.19360; 0.19359; 0.19359; 0.19359; 0.19359; 0.19359; 0.19358; 0.19358; 0.19358; 0.19358; 0.19357; 0.19357; 0.19357; 0.19357; 0.19357; 0.19356; 0.19356; 0.19356; 0.19356; 0.19355; 0.19355; 0.19355; 0.19355; 0.19355; 0.19354; 0.19354; 0.19354; 0.19354; 0.19353; 0.19353; 0.19353; 0.19353; 0.19353; 0.19352; 0.19352; 0.19352; 0.19352; 0.19352; 0.19351; 0.19351; 0.19351; 0.19351; 0.19351; 0.19350; 0.19350; 0.19350; 0.19350; 0.19349; 0.19349; 0.19349; 0.19349; 0.19349; 0.19348; 0.19348; 0.19348; 0.19348; 0.19348; 0.19347; 0.19347; 0.19347; 0.19347; 0.19347; 0.19346; 0.19346; 0.19346; 0.19346; 0.19346; 0.19346; 0.19345; 0.19345; 0.19345; "
     ]
    }
   ],
   "source": [
    "coeffs = train_model(trn_indep, trn_dep, 1000, 0.1)"
   ]
  },
  {
   "cell_type": "code",
   "execution_count": 62,
   "id": "817b67d6-f39c-4da6-bef1-3dd7d4382530",
   "metadata": {},
   "outputs": [
    {
     "data": {
      "text/plain": [
       "tensor(0.8258)"
      ]
     },
     "execution_count": 62,
     "metadata": {},
     "output_type": "execute_result"
    }
   ],
   "source": [
    "acc(coeffs, val_dep, val_indep)"
   ]
  },
  {
   "cell_type": "code",
   "execution_count": null,
   "id": "b1ac07a0-c36f-4612-b21f-dc8133a8b2e4",
   "metadata": {},
   "outputs": [],
   "source": []
  }
 ],
 "metadata": {
  "kernelspec": {
   "display_name": "Python 3 (ipykernel)",
   "language": "python",
   "name": "python3"
  },
  "language_info": {
   "codemirror_mode": {
    "name": "ipython",
    "version": 3
   },
   "file_extension": ".py",
   "mimetype": "text/x-python",
   "name": "python",
   "nbconvert_exporter": "python",
   "pygments_lexer": "ipython3",
   "version": "3.10.14"
  }
 },
 "nbformat": 4,
 "nbformat_minor": 5
}
