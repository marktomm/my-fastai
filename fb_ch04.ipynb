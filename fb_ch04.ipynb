{
 "cells": [
  {
   "cell_type": "code",
   "execution_count": 1,
   "id": "225c5e7d-8801-4d39-a749-6bd1b21793a8",
   "metadata": {},
   "outputs": [
    {
     "name": "stderr",
     "output_type": "stream",
     "text": [
      "/home/mark/miniconda3/envs/py10/lib/python3.10/site-packages/scipy/__init__.py:146: UserWarning: A NumPy version >=1.17.3 and <1.25.0 is required for this version of SciPy (detected version 1.26.4\n",
      "  warnings.warn(f\"A NumPy version >={np_minversion} and <{np_maxversion}\"\n"
     ]
    }
   ],
   "source": [
    "import fastbook as fb\n",
    "fb.setup_book()\n",
    "import fastai.vision.all as fva\n",
    "fva.matplotlib.rc('image', cmap='Greys')"
   ]
  },
  {
   "cell_type": "code",
   "execution_count": 2,
   "id": "8cedfc89-e099-4832-9809-c5fba23192cd",
   "metadata": {},
   "outputs": [],
   "source": [
    "path = fb.untar_data(fb.URLs.MNIST_SAMPLE)\n",
    "fb.Path.BASE_PATH = path"
   ]
  },
  {
   "cell_type": "code",
   "execution_count": 3,
   "id": "1699fe23-fe5f-4eea-be1a-88f973170406",
   "metadata": {},
   "outputs": [
    {
     "data": {
      "text/plain": [
       "(#3) [Path('valid'),Path('labels.csv'),Path('train')]"
      ]
     },
     "execution_count": 3,
     "metadata": {},
     "output_type": "execute_result"
    }
   ],
   "source": [
    "path.ls()"
   ]
  },
  {
   "cell_type": "code",
   "execution_count": 4,
   "id": "cae5eef2-439f-43f6-81e7-8115eef45e71",
   "metadata": {},
   "outputs": [
    {
     "data": {
      "text/plain": [
       "(#2) [Path('train/3'),Path('train/7')]"
      ]
     },
     "execution_count": 4,
     "metadata": {},
     "output_type": "execute_result"
    }
   ],
   "source": [
    "(path/'train').ls()"
   ]
  },
  {
   "cell_type": "code",
   "execution_count": 77,
   "id": "63e0f876-288d-464a-8be9-cfa3cdabbf32",
   "metadata": {},
   "outputs": [
    {
     "data": {
      "text/plain": [
       "(#6131) [Path('train/3/11201.png'),Path('train/3/43902.png'),Path('train/3/41337.png'),Path('train/3/14401.png'),Path('train/3/43327.png'),Path('train/3/50837.png'),Path('train/3/53923.png'),Path('train/3/38218.png'),Path('train/3/34023.png'),Path('train/3/31032.png')...]"
      ]
     },
     "execution_count": 77,
     "metadata": {},
     "output_type": "execute_result"
    }
   ],
   "source": [
    "(path/'train/3').ls()"
   ]
  },
  {
   "cell_type": "code",
   "execution_count": 89,
   "id": "8f6d6954-8630-4589-85d2-da4d8d8a4a68",
   "metadata": {},
   "outputs": [],
   "source": [
    "for it in (path / 'train/3').iterdir():\n",
    "    if not 'png' in it.absolute().as_posix():\n",
    "        print(it)"
   ]
  },
  {
   "cell_type": "code",
   "execution_count": 5,
   "id": "c93d2606-5c02-480a-a349-fb147ef02597",
   "metadata": {},
   "outputs": [
    {
     "data": {
      "text/plain": [
       "(#6131) [Path('train/3/10.png'),Path('train/3/10000.png'),Path('train/3/10011.png'),Path('train/3/10031.png'),Path('train/3/10034.png'),Path('train/3/10042.png'),Path('train/3/10052.png'),Path('train/3/1007.png'),Path('train/3/10074.png'),Path('train/3/10091.png')...]"
      ]
     },
     "execution_count": 5,
     "metadata": {},
     "output_type": "execute_result"
    }
   ],
   "source": [
    "threes = (path/'train/3').ls().sorted()\n",
    "sevens = (path/'train/7').ls().sorted()\n",
    "threes"
   ]
  },
  {
   "cell_type": "code",
   "execution_count": 6,
   "id": "848fe21f-18c8-4bc8-b4e6-ca21497069d0",
   "metadata": {},
   "outputs": [
    {
     "data": {
      "image/jpeg": "[encoded data removed]",
      "image/png": "[encoded data removed]",
      "text/plain": [
       "<PIL.PngImagePlugin.PngImageFile image mode=L size=28x28>"
      ]
     },
     "execution_count": 6,
     "metadata": {},
     "output_type": "execute_result"
    }
   ],
   "source": [
    "im3_path = threes[1]\n",
    "im3 = fva.Image.open(im3_path)\n",
    "im3"
   ]
  },
  {
   "cell_type": "code",
   "execution_count": 7,
   "id": "d4302c14-ae06-4f58-896d-23a61813fe23",
   "metadata": {},
   "outputs": [
    {
     "data": {
      "text/plain": [
       "array([[  0,   0,   0,   0,   0,   0],\n",
       "       [  0,   0,   0,   0,   0,  29],\n",
       "       [  0,   0,   0,  48, 166, 224],\n",
       "       [  0,  93, 244, 249, 253, 187],\n",
       "       [  0, 107, 253, 253, 230,  48],\n",
       "       [  0,   3,  20,  20,  15,   0]], dtype=uint8)"
      ]
     },
     "execution_count": 7,
     "metadata": {},
     "output_type": "execute_result"
    }
   ],
   "source": [
    "fva.array(im3)[4:10,4:10]"
   ]
  },
  {
   "cell_type": "code",
   "execution_count": 8,
   "id": "7824807c-23a1-4e8a-895e-904035d15c26",
   "metadata": {},
   "outputs": [
    {
     "data": {
      "text/plain": [
       "tensor([[  0,   0,   0,   0,   0,   0],\n",
       "        [  0,   0,   0,   0,   0,  29],\n",
       "        [  0,   0,   0,  48, 166, 224],\n",
       "        [  0,  93, 244, 249, 253, 187],\n",
       "        [  0, 107, 253, 253, 230,  48],\n",
       "        [  0,   3,  20,  20,  15,   0]], dtype=torch.uint8)"
      ]
     },
     "execution_count": 8,
     "metadata": {},
     "output_type": "execute_result"
    }
   ],
   "source": [
    "fva.tensor(im3)[4:10,4:10]"
   ]
  },
  {
   "cell_type": "code",
   "execution_count": 9,
   "id": "651363f4-df0b-4933-8e8a-a205d5fe5ef0",
   "metadata": {},
   "outputs": [
    {
     "data": {
      "text/html": [
       "<style type=\"text/css\">\n",
       "#T_3c7e8_row0_col0, #T_3c7e8_row0_col1, #T_3c7e8_row0_col2, #T_3c7e8_row0_col3, #T_3c7e8_row0_col4, #T_3c7e8_row0_col5, #T_3c7e8_row0_col6, #T_3c7e8_row0_col7, #T_3c7e8_row0_col8, #T_3c7e8_row0_col9, #T_3c7e8_row0_col10, #T_3c7e8_row0_col11, #T_3c7e8_row0_col12, #T_3c7e8_row0_col13, #T_3c7e8_row0_col14, #T_3c7e8_row0_col15, #T_3c7e8_row0_col16, #T_3c7e8_row0_col17, #T_3c7e8_row1_col0, #T_3c7e8_row1_col1, #T_3c7e8_row1_col2, #T_3c7e8_row1_col3, #T_3c7e8_row1_col4, #T_3c7e8_row1_col15, #T_3c7e8_row1_col16, #T_3c7e8_row1_col17, #T_3c7e8_row2_col0, #T_3c7e8_row2_col1, #T_3c7e8_row2_col2, #T_3c7e8_row2_col15, #T_3c7e8_row2_col16, #T_3c7e8_row2_col17, #T_3c7e8_row3_col0, #T_3c7e8_row3_col15, #T_3c7e8_row3_col16, #T_3c7e8_row3_col17, #T_3c7e8_row4_col0, #T_3c7e8_row4_col6, #T_3c7e8_row4_col7, #T_3c7e8_row4_col8, #T_3c7e8_row4_col9, #T_3c7e8_row4_col10, #T_3c7e8_row4_col15, #T_3c7e8_row4_col16, #T_3c7e8_row4_col17, #T_3c7e8_row5_col0, #T_3c7e8_row5_col5, #T_3c7e8_row5_col6, #T_3c7e8_row5_col7, #T_3c7e8_row5_col8, #T_3c7e8_row5_col9, #T_3c7e8_row5_col15, #T_3c7e8_row5_col16, #T_3c7e8_row5_col17, #T_3c7e8_row6_col0, #T_3c7e8_row6_col1, #T_3c7e8_row6_col2, #T_3c7e8_row6_col3, #T_3c7e8_row6_col4, #T_3c7e8_row6_col5, #T_3c7e8_row6_col6, #T_3c7e8_row6_col7, #T_3c7e8_row6_col8, #T_3c7e8_row6_col9, #T_3c7e8_row6_col14, #T_3c7e8_row6_col15, #T_3c7e8_row6_col16, #T_3c7e8_row6_col17, #T_3c7e8_row7_col0, #T_3c7e8_row7_col1, #T_3c7e8_row7_col2, #T_3c7e8_row7_col3, #T_3c7e8_row7_col4, #T_3c7e8_row7_col5, #T_3c7e8_row7_col6, #T_3c7e8_row7_col13, #T_3c7e8_row7_col14, #T_3c7e8_row7_col15, #T_3c7e8_row7_col16, #T_3c7e8_row7_col17, #T_3c7e8_row8_col0, #T_3c7e8_row8_col1, #T_3c7e8_row8_col2, #T_3c7e8_row8_col3, #T_3c7e8_row8_col4, #T_3c7e8_row8_col13, #T_3c7e8_row8_col14, #T_3c7e8_row8_col15, #T_3c7e8_row8_col16, #T_3c7e8_row8_col17, #T_3c7e8_row9_col0, #T_3c7e8_row9_col1, #T_3c7e8_row9_col2, #T_3c7e8_row9_col3, #T_3c7e8_row9_col4, #T_3c7e8_row9_col16, #T_3c7e8_row9_col17, #T_3c7e8_row10_col0, #T_3c7e8_row10_col1, #T_3c7e8_row10_col2, #T_3c7e8_row10_col3, #T_3c7e8_row10_col4, #T_3c7e8_row10_col5, #T_3c7e8_row10_col6, #T_3c7e8_row10_col17 {\n",
       "  font-size: 6pt;\n",
       "  background-color: #ffffff;\n",
       "  color: #000000;\n",
       "}\n",
       "#T_3c7e8_row1_col5 {\n",
       "  font-size: 6pt;\n",
       "  background-color: #efefef;\n",
       "  color: #000000;\n",
       "}\n",
       "#T_3c7e8_row1_col6, #T_3c7e8_row1_col13 {\n",
       "  font-size: 6pt;\n",
       "  background-color: #7c7c7c;\n",
       "  color: #f1f1f1;\n",
       "}\n",
       "#T_3c7e8_row1_col7 {\n",
       "  font-size: 6pt;\n",
       "  background-color: #4a4a4a;\n",
       "  color: #f1f1f1;\n",
       "}\n",
       "#T_3c7e8_row1_col8, #T_3c7e8_row1_col9, #T_3c7e8_row1_col10, #T_3c7e8_row2_col5, #T_3c7e8_row2_col6, #T_3c7e8_row2_col7, #T_3c7e8_row2_col11, #T_3c7e8_row2_col12, #T_3c7e8_row2_col13, #T_3c7e8_row3_col4, #T_3c7e8_row3_col12, #T_3c7e8_row3_col13, #T_3c7e8_row4_col1, #T_3c7e8_row4_col2, #T_3c7e8_row4_col3, #T_3c7e8_row4_col12, #T_3c7e8_row4_col13, #T_3c7e8_row5_col12, #T_3c7e8_row6_col11, #T_3c7e8_row9_col11, #T_3c7e8_row10_col11, #T_3c7e8_row10_col12, #T_3c7e8_row10_col13, #T_3c7e8_row10_col14, #T_3c7e8_row10_col15, #T_3c7e8_row10_col16 {\n",
       "  font-size: 6pt;\n",
       "  background-color: #000000;\n",
       "  color: #f1f1f1;\n",
       "}\n",
       "#T_3c7e8_row1_col11 {\n",
       "  font-size: 6pt;\n",
       "  background-color: #606060;\n",
       "  color: #f1f1f1;\n",
       "}\n",
       "#T_3c7e8_row1_col12 {\n",
       "  font-size: 6pt;\n",
       "  background-color: #4d4d4d;\n",
       "  color: #f1f1f1;\n",
       "}\n",
       "#T_3c7e8_row1_col14 {\n",
       "  font-size: 6pt;\n",
       "  background-color: #bbbbbb;\n",
       "  color: #000000;\n",
       "}\n",
       "#T_3c7e8_row2_col3 {\n",
       "  font-size: 6pt;\n",
       "  background-color: #e4e4e4;\n",
       "  color: #000000;\n",
       "}\n",
       "#T_3c7e8_row2_col4, #T_3c7e8_row8_col6 {\n",
       "  font-size: 6pt;\n",
       "  background-color: #6b6b6b;\n",
       "  color: #f1f1f1;\n",
       "}\n",
       "#T_3c7e8_row2_col8, #T_3c7e8_row2_col14, #T_3c7e8_row3_col14 {\n",
       "  font-size: 6pt;\n",
       "  background-color: #171717;\n",
       "  color: #f1f1f1;\n",
       "}\n",
       "#T_3c7e8_row2_col9, #T_3c7e8_row3_col11 {\n",
       "  font-size: 6pt;\n",
       "  background-color: #4b4b4b;\n",
       "  color: #f1f1f1;\n",
       "}\n",
       "#T_3c7e8_row2_col10, #T_3c7e8_row7_col10, #T_3c7e8_row8_col8, #T_3c7e8_row8_col10, #T_3c7e8_row9_col8, #T_3c7e8_row9_col10 {\n",
       "  font-size: 6pt;\n",
       "  background-color: #010101;\n",
       "  color: #f1f1f1;\n",
       "}\n",
       "#T_3c7e8_row3_col1 {\n",
       "  font-size: 6pt;\n",
       "  background-color: #272727;\n",
       "  color: #f1f1f1;\n",
       "}\n",
       "#T_3c7e8_row3_col2 {\n",
       "  font-size: 6pt;\n",
       "  background-color: #0a0a0a;\n",
       "  color: #f1f1f1;\n",
       "}\n",
       "#T_3c7e8_row3_col3 {\n",
       "  font-size: 6pt;\n",
       "  background-color: #050505;\n",
       "  color: #f1f1f1;\n",
       "}\n",
       "#T_3c7e8_row3_col5 {\n",
       "  font-size: 6pt;\n",
       "  background-color: #333333;\n",
       "  color: #f1f1f1;\n",
       "}\n",
       "#T_3c7e8_row3_col6 {\n",
       "  font-size: 6pt;\n",
       "  background-color: #e6e6e6;\n",
       "  color: #000000;\n",
       "}\n",
       "#T_3c7e8_row3_col7, #T_3c7e8_row3_col10 {\n",
       "  font-size: 6pt;\n",
       "  background-color: #fafafa;\n",
       "  color: #000000;\n",
       "}\n",
       "#T_3c7e8_row3_col8 {\n",
       "  font-size: 6pt;\n",
       "  background-color: #fbfbfb;\n",
       "  color: #000000;\n",
       "}\n",
       "#T_3c7e8_row3_col9 {\n",
       "  font-size: 6pt;\n",
       "  background-color: #fdfdfd;\n",
       "  color: #000000;\n",
       "}\n",
       "#T_3c7e8_row4_col4 {\n",
       "  font-size: 6pt;\n",
       "  background-color: #1b1b1b;\n",
       "  color: #f1f1f1;\n",
       "}\n",
       "#T_3c7e8_row4_col5 {\n",
       "  font-size: 6pt;\n",
       "  background-color: #e0e0e0;\n",
       "  color: #000000;\n",
       "}\n",
       "#T_3c7e8_row4_col11 {\n",
       "  font-size: 6pt;\n",
       "  background-color: #4e4e4e;\n",
       "  color: #f1f1f1;\n",
       "}\n",
       "#T_3c7e8_row4_col14 {\n",
       "  font-size: 6pt;\n",
       "  background-color: #767676;\n",
       "  color: #f1f1f1;\n",
       "}\n",
       "#T_3c7e8_row5_col1 {\n",
       "  font-size: 6pt;\n",
       "  background-color: #fcfcfc;\n",
       "  color: #000000;\n",
       "}\n",
       "#T_3c7e8_row5_col2, #T_3c7e8_row5_col3 {\n",
       "  font-size: 6pt;\n",
       "  background-color: #f6f6f6;\n",
       "  color: #000000;\n",
       "}\n",
       "#T_3c7e8_row5_col4, #T_3c7e8_row7_col7 {\n",
       "  font-size: 6pt;\n",
       "  background-color: #f8f8f8;\n",
       "  color: #000000;\n",
       "}\n",
       "#T_3c7e8_row5_col10, #T_3c7e8_row10_col7 {\n",
       "  font-size: 6pt;\n",
       "  background-color: #e8e8e8;\n",
       "  color: #000000;\n",
       "}\n",
       "#T_3c7e8_row5_col11 {\n",
       "  font-size: 6pt;\n",
       "  background-color: #222222;\n",
       "  color: #f1f1f1;\n",
       "}\n",
       "#T_3c7e8_row5_col13, #T_3c7e8_row6_col12 {\n",
       "  font-size: 6pt;\n",
       "  background-color: #090909;\n",
       "  color: #f1f1f1;\n",
       "}\n",
       "#T_3c7e8_row5_col14 {\n",
       "  font-size: 6pt;\n",
       "  background-color: #d0d0d0;\n",
       "  color: #000000;\n",
       "}\n",
       "#T_3c7e8_row6_col10, #T_3c7e8_row7_col11, #T_3c7e8_row9_col6 {\n",
       "  font-size: 6pt;\n",
       "  background-color: #060606;\n",
       "  color: #f1f1f1;\n",
       "}\n",
       "#T_3c7e8_row6_col13 {\n",
       "  font-size: 6pt;\n",
       "  background-color: #979797;\n",
       "  color: #f1f1f1;\n",
       "}\n",
       "#T_3c7e8_row7_col8 {\n",
       "  font-size: 6pt;\n",
       "  background-color: #b6b6b6;\n",
       "  color: #000000;\n",
       "}\n",
       "#T_3c7e8_row7_col9 {\n",
       "  font-size: 6pt;\n",
       "  background-color: #252525;\n",
       "  color: #f1f1f1;\n",
       "}\n",
       "#T_3c7e8_row7_col12 {\n",
       "  font-size: 6pt;\n",
       "  background-color: #999999;\n",
       "  color: #f1f1f1;\n",
       "}\n",
       "#T_3c7e8_row8_col5 {\n",
       "  font-size: 6pt;\n",
       "  background-color: #f9f9f9;\n",
       "  color: #000000;\n",
       "}\n",
       "#T_3c7e8_row8_col7 {\n",
       "  font-size: 6pt;\n",
       "  background-color: #101010;\n",
       "  color: #f1f1f1;\n",
       "}\n",
       "#T_3c7e8_row8_col9, #T_3c7e8_row9_col9 {\n",
       "  font-size: 6pt;\n",
       "  background-color: #020202;\n",
       "  color: #f1f1f1;\n",
       "}\n",
       "#T_3c7e8_row8_col11 {\n",
       "  font-size: 6pt;\n",
       "  background-color: #545454;\n",
       "  color: #f1f1f1;\n",
       "}\n",
       "#T_3c7e8_row8_col12 {\n",
       "  font-size: 6pt;\n",
       "  background-color: #f1f1f1;\n",
       "  color: #000000;\n",
       "}\n",
       "#T_3c7e8_row9_col5 {\n",
       "  font-size: 6pt;\n",
       "  background-color: #f7f7f7;\n",
       "  color: #000000;\n",
       "}\n",
       "#T_3c7e8_row9_col7 {\n",
       "  font-size: 6pt;\n",
       "  background-color: #030303;\n",
       "  color: #f1f1f1;\n",
       "}\n",
       "#T_3c7e8_row9_col12 {\n",
       "  font-size: 6pt;\n",
       "  background-color: #181818;\n",
       "  color: #f1f1f1;\n",
       "}\n",
       "#T_3c7e8_row9_col13 {\n",
       "  font-size: 6pt;\n",
       "  background-color: #303030;\n",
       "  color: #f1f1f1;\n",
       "}\n",
       "#T_3c7e8_row9_col14 {\n",
       "  font-size: 6pt;\n",
       "  background-color: #a9a9a9;\n",
       "  color: #f1f1f1;\n",
       "}\n",
       "#T_3c7e8_row9_col15 {\n",
       "  font-size: 6pt;\n",
       "  background-color: #fefefe;\n",
       "  color: #000000;\n",
       "}\n",
       "#T_3c7e8_row10_col8, #T_3c7e8_row10_col9 {\n",
       "  font-size: 6pt;\n",
       "  background-color: #bababa;\n",
       "  color: #000000;\n",
       "}\n",
       "#T_3c7e8_row10_col10 {\n",
       "  font-size: 6pt;\n",
       "  background-color: #393939;\n",
       "  color: #f1f1f1;\n",
       "}\n",
       "</style>\n",
       "<table id=\"T_3c7e8\">\n",
       "  <thead>\n",
       "    <tr>\n",
       "      <th class=\"blank level0\" >&nbsp;</th>\n",
       "      <th id=\"T_3c7e8_level0_col0\" class=\"col_heading level0 col0\" >0</th>\n",
       "      <th id=\"T_3c7e8_level0_col1\" class=\"col_heading level0 col1\" >1</th>\n",
       "      <th id=\"T_3c7e8_level0_col2\" class=\"col_heading level0 col2\" >2</th>\n",
       "      <th id=\"T_3c7e8_level0_col3\" class=\"col_heading level0 col3\" >3</th>\n",
       "      <th id=\"T_3c7e8_level0_col4\" class=\"col_heading level0 col4\" >4</th>\n",
       "      <th id=\"T_3c7e8_level0_col5\" class=\"col_heading level0 col5\" >5</th>\n",
       "      <th id=\"T_3c7e8_level0_col6\" class=\"col_heading level0 col6\" >6</th>\n",
       "      <th id=\"T_3c7e8_level0_col7\" class=\"col_heading level0 col7\" >7</th>\n",
       "      <th id=\"T_3c7e8_level0_col8\" class=\"col_heading level0 col8\" >8</th>\n",
       "      <th id=\"T_3c7e8_level0_col9\" class=\"col_heading level0 col9\" >9</th>\n",
       "      <th id=\"T_3c7e8_level0_col10\" class=\"col_heading level0 col10\" >10</th>\n",
       "      <th id=\"T_3c7e8_level0_col11\" class=\"col_heading level0 col11\" >11</th>\n",
       "      <th id=\"T_3c7e8_level0_col12\" class=\"col_heading level0 col12\" >12</th>\n",
       "      <th id=\"T_3c7e8_level0_col13\" class=\"col_heading level0 col13\" >13</th>\n",
       "      <th id=\"T_3c7e8_level0_col14\" class=\"col_heading level0 col14\" >14</th>\n",
       "      <th id=\"T_3c7e8_level0_col15\" class=\"col_heading level0 col15\" >15</th>\n",
       "      <th id=\"T_3c7e8_level0_col16\" class=\"col_heading level0 col16\" >16</th>\n",
       "      <th id=\"T_3c7e8_level0_col17\" class=\"col_heading level0 col17\" >17</th>\n",
       "    </tr>\n",
       "  </thead>\n",
       "  <tbody>\n",
       "    <tr>\n",
       "      <th id=\"T_3c7e8_level0_row0\" class=\"row_heading level0 row0\" >0</th>\n",
       "      <td id=\"T_3c7e8_row0_col0\" class=\"data row0 col0\" >0</td>\n",
       "      <td id=\"T_3c7e8_row0_col1\" class=\"data row0 col1\" >0</td>\n",
       "      <td id=\"T_3c7e8_row0_col2\" class=\"data row0 col2\" >0</td>\n",
       "      <td id=\"T_3c7e8_row0_col3\" class=\"data row0 col3\" >0</td>\n",
       "      <td id=\"T_3c7e8_row0_col4\" class=\"data row0 col4\" >0</td>\n",
       "      <td id=\"T_3c7e8_row0_col5\" class=\"data row0 col5\" >0</td>\n",
       "      <td id=\"T_3c7e8_row0_col6\" class=\"data row0 col6\" >0</td>\n",
       "      <td id=\"T_3c7e8_row0_col7\" class=\"data row0 col7\" >0</td>\n",
       "      <td id=\"T_3c7e8_row0_col8\" class=\"data row0 col8\" >0</td>\n",
       "      <td id=\"T_3c7e8_row0_col9\" class=\"data row0 col9\" >0</td>\n",
       "      <td id=\"T_3c7e8_row0_col10\" class=\"data row0 col10\" >0</td>\n",
       "      <td id=\"T_3c7e8_row0_col11\" class=\"data row0 col11\" >0</td>\n",
       "      <td id=\"T_3c7e8_row0_col12\" class=\"data row0 col12\" >0</td>\n",
       "      <td id=\"T_3c7e8_row0_col13\" class=\"data row0 col13\" >0</td>\n",
       "      <td id=\"T_3c7e8_row0_col14\" class=\"data row0 col14\" >0</td>\n",
       "      <td id=\"T_3c7e8_row0_col15\" class=\"data row0 col15\" >0</td>\n",
       "      <td id=\"T_3c7e8_row0_col16\" class=\"data row0 col16\" >0</td>\n",
       "      <td id=\"T_3c7e8_row0_col17\" class=\"data row0 col17\" >0</td>\n",
       "    </tr>\n",
       "    <tr>\n",
       "      <th id=\"T_3c7e8_level0_row1\" class=\"row_heading level0 row1\" >1</th>\n",
       "      <td id=\"T_3c7e8_row1_col0\" class=\"data row1 col0\" >0</td>\n",
       "      <td id=\"T_3c7e8_row1_col1\" class=\"data row1 col1\" >0</td>\n",
       "      <td id=\"T_3c7e8_row1_col2\" class=\"data row1 col2\" >0</td>\n",
       "      <td id=\"T_3c7e8_row1_col3\" class=\"data row1 col3\" >0</td>\n",
       "      <td id=\"T_3c7e8_row1_col4\" class=\"data row1 col4\" >0</td>\n",
       "      <td id=\"T_3c7e8_row1_col5\" class=\"data row1 col5\" >29</td>\n",
       "      <td id=\"T_3c7e8_row1_col6\" class=\"data row1 col6\" >150</td>\n",
       "      <td id=\"T_3c7e8_row1_col7\" class=\"data row1 col7\" >195</td>\n",
       "      <td id=\"T_3c7e8_row1_col8\" class=\"data row1 col8\" >254</td>\n",
       "      <td id=\"T_3c7e8_row1_col9\" class=\"data row1 col9\" >255</td>\n",
       "      <td id=\"T_3c7e8_row1_col10\" class=\"data row1 col10\" >254</td>\n",
       "      <td id=\"T_3c7e8_row1_col11\" class=\"data row1 col11\" >176</td>\n",
       "      <td id=\"T_3c7e8_row1_col12\" class=\"data row1 col12\" >193</td>\n",
       "      <td id=\"T_3c7e8_row1_col13\" class=\"data row1 col13\" >150</td>\n",
       "      <td id=\"T_3c7e8_row1_col14\" class=\"data row1 col14\" >96</td>\n",
       "      <td id=\"T_3c7e8_row1_col15\" class=\"data row1 col15\" >0</td>\n",
       "      <td id=\"T_3c7e8_row1_col16\" class=\"data row1 col16\" >0</td>\n",
       "      <td id=\"T_3c7e8_row1_col17\" class=\"data row1 col17\" >0</td>\n",
       "    </tr>\n",
       "    <tr>\n",
       "      <th id=\"T_3c7e8_level0_row2\" class=\"row_heading level0 row2\" >2</th>\n",
       "      <td id=\"T_3c7e8_row2_col0\" class=\"data row2 col0\" >0</td>\n",
       "      <td id=\"T_3c7e8_row2_col1\" class=\"data row2 col1\" >0</td>\n",
       "      <td id=\"T_3c7e8_row2_col2\" class=\"data row2 col2\" >0</td>\n",
       "      <td id=\"T_3c7e8_row2_col3\" class=\"data row2 col3\" >48</td>\n",
       "      <td id=\"T_3c7e8_row2_col4\" class=\"data row2 col4\" >166</td>\n",
       "      <td id=\"T_3c7e8_row2_col5\" class=\"data row2 col5\" >224</td>\n",
       "      <td id=\"T_3c7e8_row2_col6\" class=\"data row2 col6\" >253</td>\n",
       "      <td id=\"T_3c7e8_row2_col7\" class=\"data row2 col7\" >253</td>\n",
       "      <td id=\"T_3c7e8_row2_col8\" class=\"data row2 col8\" >234</td>\n",
       "      <td id=\"T_3c7e8_row2_col9\" class=\"data row2 col9\" >196</td>\n",
       "      <td id=\"T_3c7e8_row2_col10\" class=\"data row2 col10\" >253</td>\n",
       "      <td id=\"T_3c7e8_row2_col11\" class=\"data row2 col11\" >253</td>\n",
       "      <td id=\"T_3c7e8_row2_col12\" class=\"data row2 col12\" >253</td>\n",
       "      <td id=\"T_3c7e8_row2_col13\" class=\"data row2 col13\" >253</td>\n",
       "      <td id=\"T_3c7e8_row2_col14\" class=\"data row2 col14\" >233</td>\n",
       "      <td id=\"T_3c7e8_row2_col15\" class=\"data row2 col15\" >0</td>\n",
       "      <td id=\"T_3c7e8_row2_col16\" class=\"data row2 col16\" >0</td>\n",
       "      <td id=\"T_3c7e8_row2_col17\" class=\"data row2 col17\" >0</td>\n",
       "    </tr>\n",
       "    <tr>\n",
       "      <th id=\"T_3c7e8_level0_row3\" class=\"row_heading level0 row3\" >3</th>\n",
       "      <td id=\"T_3c7e8_row3_col0\" class=\"data row3 col0\" >0</td>\n",
       "      <td id=\"T_3c7e8_row3_col1\" class=\"data row3 col1\" >93</td>\n",
       "      <td id=\"T_3c7e8_row3_col2\" class=\"data row3 col2\" >244</td>\n",
       "      <td id=\"T_3c7e8_row3_col3\" class=\"data row3 col3\" >249</td>\n",
       "      <td id=\"T_3c7e8_row3_col4\" class=\"data row3 col4\" >253</td>\n",
       "      <td id=\"T_3c7e8_row3_col5\" class=\"data row3 col5\" >187</td>\n",
       "      <td id=\"T_3c7e8_row3_col6\" class=\"data row3 col6\" >46</td>\n",
       "      <td id=\"T_3c7e8_row3_col7\" class=\"data row3 col7\" >10</td>\n",
       "      <td id=\"T_3c7e8_row3_col8\" class=\"data row3 col8\" >8</td>\n",
       "      <td id=\"T_3c7e8_row3_col9\" class=\"data row3 col9\" >4</td>\n",
       "      <td id=\"T_3c7e8_row3_col10\" class=\"data row3 col10\" >10</td>\n",
       "      <td id=\"T_3c7e8_row3_col11\" class=\"data row3 col11\" >194</td>\n",
       "      <td id=\"T_3c7e8_row3_col12\" class=\"data row3 col12\" >253</td>\n",
       "      <td id=\"T_3c7e8_row3_col13\" class=\"data row3 col13\" >253</td>\n",
       "      <td id=\"T_3c7e8_row3_col14\" class=\"data row3 col14\" >233</td>\n",
       "      <td id=\"T_3c7e8_row3_col15\" class=\"data row3 col15\" >0</td>\n",
       "      <td id=\"T_3c7e8_row3_col16\" class=\"data row3 col16\" >0</td>\n",
       "      <td id=\"T_3c7e8_row3_col17\" class=\"data row3 col17\" >0</td>\n",
       "    </tr>\n",
       "    <tr>\n",
       "      <th id=\"T_3c7e8_level0_row4\" class=\"row_heading level0 row4\" >4</th>\n",
       "      <td id=\"T_3c7e8_row4_col0\" class=\"data row4 col0\" >0</td>\n",
       "      <td id=\"T_3c7e8_row4_col1\" class=\"data row4 col1\" >107</td>\n",
       "      <td id=\"T_3c7e8_row4_col2\" class=\"data row4 col2\" >253</td>\n",
       "      <td id=\"T_3c7e8_row4_col3\" class=\"data row4 col3\" >253</td>\n",
       "      <td id=\"T_3c7e8_row4_col4\" class=\"data row4 col4\" >230</td>\n",
       "      <td id=\"T_3c7e8_row4_col5\" class=\"data row4 col5\" >48</td>\n",
       "      <td id=\"T_3c7e8_row4_col6\" class=\"data row4 col6\" >0</td>\n",
       "      <td id=\"T_3c7e8_row4_col7\" class=\"data row4 col7\" >0</td>\n",
       "      <td id=\"T_3c7e8_row4_col8\" class=\"data row4 col8\" >0</td>\n",
       "      <td id=\"T_3c7e8_row4_col9\" class=\"data row4 col9\" >0</td>\n",
       "      <td id=\"T_3c7e8_row4_col10\" class=\"data row4 col10\" >0</td>\n",
       "      <td id=\"T_3c7e8_row4_col11\" class=\"data row4 col11\" >192</td>\n",
       "      <td id=\"T_3c7e8_row4_col12\" class=\"data row4 col12\" >253</td>\n",
       "      <td id=\"T_3c7e8_row4_col13\" class=\"data row4 col13\" >253</td>\n",
       "      <td id=\"T_3c7e8_row4_col14\" class=\"data row4 col14\" >156</td>\n",
       "      <td id=\"T_3c7e8_row4_col15\" class=\"data row4 col15\" >0</td>\n",
       "      <td id=\"T_3c7e8_row4_col16\" class=\"data row4 col16\" >0</td>\n",
       "      <td id=\"T_3c7e8_row4_col17\" class=\"data row4 col17\" >0</td>\n",
       "    </tr>\n",
       "    <tr>\n",
       "      <th id=\"T_3c7e8_level0_row5\" class=\"row_heading level0 row5\" >5</th>\n",
       "      <td id=\"T_3c7e8_row5_col0\" class=\"data row5 col0\" >0</td>\n",
       "      <td id=\"T_3c7e8_row5_col1\" class=\"data row5 col1\" >3</td>\n",
       "      <td id=\"T_3c7e8_row5_col2\" class=\"data row5 col2\" >20</td>\n",
       "      <td id=\"T_3c7e8_row5_col3\" class=\"data row5 col3\" >20</td>\n",
       "      <td id=\"T_3c7e8_row5_col4\" class=\"data row5 col4\" >15</td>\n",
       "      <td id=\"T_3c7e8_row5_col5\" class=\"data row5 col5\" >0</td>\n",
       "      <td id=\"T_3c7e8_row5_col6\" class=\"data row5 col6\" >0</td>\n",
       "      <td id=\"T_3c7e8_row5_col7\" class=\"data row5 col7\" >0</td>\n",
       "      <td id=\"T_3c7e8_row5_col8\" class=\"data row5 col8\" >0</td>\n",
       "      <td id=\"T_3c7e8_row5_col9\" class=\"data row5 col9\" >0</td>\n",
       "      <td id=\"T_3c7e8_row5_col10\" class=\"data row5 col10\" >43</td>\n",
       "      <td id=\"T_3c7e8_row5_col11\" class=\"data row5 col11\" >224</td>\n",
       "      <td id=\"T_3c7e8_row5_col12\" class=\"data row5 col12\" >253</td>\n",
       "      <td id=\"T_3c7e8_row5_col13\" class=\"data row5 col13\" >245</td>\n",
       "      <td id=\"T_3c7e8_row5_col14\" class=\"data row5 col14\" >74</td>\n",
       "      <td id=\"T_3c7e8_row5_col15\" class=\"data row5 col15\" >0</td>\n",
       "      <td id=\"T_3c7e8_row5_col16\" class=\"data row5 col16\" >0</td>\n",
       "      <td id=\"T_3c7e8_row5_col17\" class=\"data row5 col17\" >0</td>\n",
       "    </tr>\n",
       "    <tr>\n",
       "      <th id=\"T_3c7e8_level0_row6\" class=\"row_heading level0 row6\" >6</th>\n",
       "      <td id=\"T_3c7e8_row6_col0\" class=\"data row6 col0\" >0</td>\n",
       "      <td id=\"T_3c7e8_row6_col1\" class=\"data row6 col1\" >0</td>\n",
       "      <td id=\"T_3c7e8_row6_col2\" class=\"data row6 col2\" >0</td>\n",
       "      <td id=\"T_3c7e8_row6_col3\" class=\"data row6 col3\" >0</td>\n",
       "      <td id=\"T_3c7e8_row6_col4\" class=\"data row6 col4\" >0</td>\n",
       "      <td id=\"T_3c7e8_row6_col5\" class=\"data row6 col5\" >0</td>\n",
       "      <td id=\"T_3c7e8_row6_col6\" class=\"data row6 col6\" >0</td>\n",
       "      <td id=\"T_3c7e8_row6_col7\" class=\"data row6 col7\" >0</td>\n",
       "      <td id=\"T_3c7e8_row6_col8\" class=\"data row6 col8\" >0</td>\n",
       "      <td id=\"T_3c7e8_row6_col9\" class=\"data row6 col9\" >0</td>\n",
       "      <td id=\"T_3c7e8_row6_col10\" class=\"data row6 col10\" >249</td>\n",
       "      <td id=\"T_3c7e8_row6_col11\" class=\"data row6 col11\" >253</td>\n",
       "      <td id=\"T_3c7e8_row6_col12\" class=\"data row6 col12\" >245</td>\n",
       "      <td id=\"T_3c7e8_row6_col13\" class=\"data row6 col13\" >126</td>\n",
       "      <td id=\"T_3c7e8_row6_col14\" class=\"data row6 col14\" >0</td>\n",
       "      <td id=\"T_3c7e8_row6_col15\" class=\"data row6 col15\" >0</td>\n",
       "      <td id=\"T_3c7e8_row6_col16\" class=\"data row6 col16\" >0</td>\n",
       "      <td id=\"T_3c7e8_row6_col17\" class=\"data row6 col17\" >0</td>\n",
       "    </tr>\n",
       "    <tr>\n",
       "      <th id=\"T_3c7e8_level0_row7\" class=\"row_heading level0 row7\" >7</th>\n",
       "      <td id=\"T_3c7e8_row7_col0\" class=\"data row7 col0\" >0</td>\n",
       "      <td id=\"T_3c7e8_row7_col1\" class=\"data row7 col1\" >0</td>\n",
       "      <td id=\"T_3c7e8_row7_col2\" class=\"data row7 col2\" >0</td>\n",
       "      <td id=\"T_3c7e8_row7_col3\" class=\"data row7 col3\" >0</td>\n",
       "      <td id=\"T_3c7e8_row7_col4\" class=\"data row7 col4\" >0</td>\n",
       "      <td id=\"T_3c7e8_row7_col5\" class=\"data row7 col5\" >0</td>\n",
       "      <td id=\"T_3c7e8_row7_col6\" class=\"data row7 col6\" >0</td>\n",
       "      <td id=\"T_3c7e8_row7_col7\" class=\"data row7 col7\" >14</td>\n",
       "      <td id=\"T_3c7e8_row7_col8\" class=\"data row7 col8\" >101</td>\n",
       "      <td id=\"T_3c7e8_row7_col9\" class=\"data row7 col9\" >223</td>\n",
       "      <td id=\"T_3c7e8_row7_col10\" class=\"data row7 col10\" >253</td>\n",
       "      <td id=\"T_3c7e8_row7_col11\" class=\"data row7 col11\" >248</td>\n",
       "      <td id=\"T_3c7e8_row7_col12\" class=\"data row7 col12\" >124</td>\n",
       "      <td id=\"T_3c7e8_row7_col13\" class=\"data row7 col13\" >0</td>\n",
       "      <td id=\"T_3c7e8_row7_col14\" class=\"data row7 col14\" >0</td>\n",
       "      <td id=\"T_3c7e8_row7_col15\" class=\"data row7 col15\" >0</td>\n",
       "      <td id=\"T_3c7e8_row7_col16\" class=\"data row7 col16\" >0</td>\n",
       "      <td id=\"T_3c7e8_row7_col17\" class=\"data row7 col17\" >0</td>\n",
       "    </tr>\n",
       "    <tr>\n",
       "      <th id=\"T_3c7e8_level0_row8\" class=\"row_heading level0 row8\" >8</th>\n",
       "      <td id=\"T_3c7e8_row8_col0\" class=\"data row8 col0\" >0</td>\n",
       "      <td id=\"T_3c7e8_row8_col1\" class=\"data row8 col1\" >0</td>\n",
       "      <td id=\"T_3c7e8_row8_col2\" class=\"data row8 col2\" >0</td>\n",
       "      <td id=\"T_3c7e8_row8_col3\" class=\"data row8 col3\" >0</td>\n",
       "      <td id=\"T_3c7e8_row8_col4\" class=\"data row8 col4\" >0</td>\n",
       "      <td id=\"T_3c7e8_row8_col5\" class=\"data row8 col5\" >11</td>\n",
       "      <td id=\"T_3c7e8_row8_col6\" class=\"data row8 col6\" >166</td>\n",
       "      <td id=\"T_3c7e8_row8_col7\" class=\"data row8 col7\" >239</td>\n",
       "      <td id=\"T_3c7e8_row8_col8\" class=\"data row8 col8\" >253</td>\n",
       "      <td id=\"T_3c7e8_row8_col9\" class=\"data row8 col9\" >253</td>\n",
       "      <td id=\"T_3c7e8_row8_col10\" class=\"data row8 col10\" >253</td>\n",
       "      <td id=\"T_3c7e8_row8_col11\" class=\"data row8 col11\" >187</td>\n",
       "      <td id=\"T_3c7e8_row8_col12\" class=\"data row8 col12\" >30</td>\n",
       "      <td id=\"T_3c7e8_row8_col13\" class=\"data row8 col13\" >0</td>\n",
       "      <td id=\"T_3c7e8_row8_col14\" class=\"data row8 col14\" >0</td>\n",
       "      <td id=\"T_3c7e8_row8_col15\" class=\"data row8 col15\" >0</td>\n",
       "      <td id=\"T_3c7e8_row8_col16\" class=\"data row8 col16\" >0</td>\n",
       "      <td id=\"T_3c7e8_row8_col17\" class=\"data row8 col17\" >0</td>\n",
       "    </tr>\n",
       "    <tr>\n",
       "      <th id=\"T_3c7e8_level0_row9\" class=\"row_heading level0 row9\" >9</th>\n",
       "      <td id=\"T_3c7e8_row9_col0\" class=\"data row9 col0\" >0</td>\n",
       "      <td id=\"T_3c7e8_row9_col1\" class=\"data row9 col1\" >0</td>\n",
       "      <td id=\"T_3c7e8_row9_col2\" class=\"data row9 col2\" >0</td>\n",
       "      <td id=\"T_3c7e8_row9_col3\" class=\"data row9 col3\" >0</td>\n",
       "      <td id=\"T_3c7e8_row9_col4\" class=\"data row9 col4\" >0</td>\n",
       "      <td id=\"T_3c7e8_row9_col5\" class=\"data row9 col5\" >16</td>\n",
       "      <td id=\"T_3c7e8_row9_col6\" class=\"data row9 col6\" >248</td>\n",
       "      <td id=\"T_3c7e8_row9_col7\" class=\"data row9 col7\" >250</td>\n",
       "      <td id=\"T_3c7e8_row9_col8\" class=\"data row9 col8\" >253</td>\n",
       "      <td id=\"T_3c7e8_row9_col9\" class=\"data row9 col9\" >253</td>\n",
       "      <td id=\"T_3c7e8_row9_col10\" class=\"data row9 col10\" >253</td>\n",
       "      <td id=\"T_3c7e8_row9_col11\" class=\"data row9 col11\" >253</td>\n",
       "      <td id=\"T_3c7e8_row9_col12\" class=\"data row9 col12\" >232</td>\n",
       "      <td id=\"T_3c7e8_row9_col13\" class=\"data row9 col13\" >213</td>\n",
       "      <td id=\"T_3c7e8_row9_col14\" class=\"data row9 col14\" >111</td>\n",
       "      <td id=\"T_3c7e8_row9_col15\" class=\"data row9 col15\" >2</td>\n",
       "      <td id=\"T_3c7e8_row9_col16\" class=\"data row9 col16\" >0</td>\n",
       "      <td id=\"T_3c7e8_row9_col17\" class=\"data row9 col17\" >0</td>\n",
       "    </tr>\n",
       "    <tr>\n",
       "      <th id=\"T_3c7e8_level0_row10\" class=\"row_heading level0 row10\" >10</th>\n",
       "      <td id=\"T_3c7e8_row10_col0\" class=\"data row10 col0\" >0</td>\n",
       "      <td id=\"T_3c7e8_row10_col1\" class=\"data row10 col1\" >0</td>\n",
       "      <td id=\"T_3c7e8_row10_col2\" class=\"data row10 col2\" >0</td>\n",
       "      <td id=\"T_3c7e8_row10_col3\" class=\"data row10 col3\" >0</td>\n",
       "      <td id=\"T_3c7e8_row10_col4\" class=\"data row10 col4\" >0</td>\n",
       "      <td id=\"T_3c7e8_row10_col5\" class=\"data row10 col5\" >0</td>\n",
       "      <td id=\"T_3c7e8_row10_col6\" class=\"data row10 col6\" >0</td>\n",
       "      <td id=\"T_3c7e8_row10_col7\" class=\"data row10 col7\" >43</td>\n",
       "      <td id=\"T_3c7e8_row10_col8\" class=\"data row10 col8\" >98</td>\n",
       "      <td id=\"T_3c7e8_row10_col9\" class=\"data row10 col9\" >98</td>\n",
       "      <td id=\"T_3c7e8_row10_col10\" class=\"data row10 col10\" >208</td>\n",
       "      <td id=\"T_3c7e8_row10_col11\" class=\"data row10 col11\" >253</td>\n",
       "      <td id=\"T_3c7e8_row10_col12\" class=\"data row10 col12\" >253</td>\n",
       "      <td id=\"T_3c7e8_row10_col13\" class=\"data row10 col13\" >253</td>\n",
       "      <td id=\"T_3c7e8_row10_col14\" class=\"data row10 col14\" >253</td>\n",
       "      <td id=\"T_3c7e8_row10_col15\" class=\"data row10 col15\" >187</td>\n",
       "      <td id=\"T_3c7e8_row10_col16\" class=\"data row10 col16\" >22</td>\n",
       "      <td id=\"T_3c7e8_row10_col17\" class=\"data row10 col17\" >0</td>\n",
       "    </tr>\n",
       "  </tbody>\n",
       "</table>\n"
      ],
      "text/plain": [
       "<pandas.io.formats.style.Styler at 0x7fe6baeeac20>"
      ]
     },
     "execution_count": 9,
     "metadata": {},
     "output_type": "execute_result"
    }
   ],
   "source": [
    "im3_t = fva.tensor(im3)\n",
    "df = fva.pd.DataFrame(im3_t[4:15,4:22])\n",
    "df.style.set_properties(**{'font-size':'6pt'}).background_gradient('Greys')"
   ]
  },
  {
   "cell_type": "code",
   "execution_count": 10,
   "id": "dba237d9-53cf-4ab1-a8c1-473929d4762f",
   "metadata": {},
   "outputs": [
    {
     "data": {
      "text/plain": [
       "(6265, 6131)"
      ]
     },
     "execution_count": 10,
     "metadata": {},
     "output_type": "execute_result"
    }
   ],
   "source": [
    "seven_tensors = [fva.tensor(fva.Image.open(o)) for o in sevens]\n",
    "three_tensors = [fva.tensor(fva.Image.open(o)) for o in threes]\n",
    "len(seven_tensors), len(three_tensors)\n",
    "# new_list = [f(o) for o in a_list if o>0]"
   ]
  },
  {
   "cell_type": "code",
   "execution_count": 11,
   "id": "faf8826f-54d4-4289-a429-f9c903ebfa8a",
   "metadata": {},
   "outputs": [
    {
     "data": {
      "text/plain": [
       "<Axes: >"
      ]
     },
     "execution_count": 11,
     "metadata": {},
     "output_type": "execute_result"
    },
    {
     "data": {
      "image/png": "[encoded data removed]",
      "text/plain": [
       "<Figure size 100x100 with 1 Axes>"
      ]
     },
     "metadata": {},
     "output_type": "display_data"
    }
   ],
   "source": [
    "fva.show_image(three_tensors[1])"
   ]
  },
  {
   "cell_type": "code",
   "execution_count": 12,
   "id": "0e281e4f-d7fc-4ee4-a0bf-62e7e83c9d43",
   "metadata": {},
   "outputs": [
    {
     "data": {
      "text/plain": [
       "(torch.Size([28, 28]), 2, 2)"
      ]
     },
     "execution_count": 12,
     "metadata": {},
     "output_type": "execute_result"
    }
   ],
   "source": [
    "three_tensors[1].shape, three_tensors[1].ndim, len(three_tensors[1].shape)"
   ]
  },
  {
   "cell_type": "code",
   "execution_count": 13,
   "id": "9a72606b-ab7a-45e4-90c7-1474ed67ee35",
   "metadata": {},
   "outputs": [
    {
     "data": {
      "text/plain": [
       "torch.Size([6131, 28, 28])"
      ]
     },
     "execution_count": 13,
     "metadata": {},
     "output_type": "execute_result"
    }
   ],
   "source": [
    "stacked_sevens = fva.torch.stack(seven_tensors).float()/255\n",
    "stacked_threes = fva.torch.stack(three_tensors).float()/255\n",
    "stacked_threes.shape\n",
    "# shape is size of each axis of a tensor"
   ]
  },
  {
   "cell_type": "code",
   "execution_count": 14,
   "id": "9fc29dda-04cb-4fd0-a6aa-c7485a60605f",
   "metadata": {},
   "outputs": [
    {
     "data": {
      "text/plain": [
       "(3, 3)"
      ]
     },
     "execution_count": 14,
     "metadata": {},
     "output_type": "execute_result"
    }
   ],
   "source": [
    "len(stacked_threes.shape), stacked_threes.ndim\n",
    "# rank is the number of axis"
   ]
  },
  {
   "cell_type": "code",
   "execution_count": 15,
   "id": "38887ed6-6bd4-4ec2-8018-6e0e9c8dfc05",
   "metadata": {},
   "outputs": [
    {
     "data": {
      "text/plain": [
       "(torch.Size([28, 28]), 2)"
      ]
     },
     "execution_count": 15,
     "metadata": {},
     "output_type": "execute_result"
    }
   ],
   "source": [
    "mean3 = stacked_threes.mean(0)\n",
    "mean3.shape, mean3.ndim"
   ]
  },
  {
   "cell_type": "code",
   "execution_count": 16,
   "id": "2393a47e-e8d3-4e12-9b81-813d462bbf90",
   "metadata": {},
   "outputs": [
    {
     "data": {
      "text/plain": [
       "<Axes: >"
      ]
     },
     "execution_count": 16,
     "metadata": {},
     "output_type": "execute_result"
    },
    {
     "data": {
      "image/png": "[encoded data removed]",
      "text/plain": [
       "<Figure size 100x100 with 1 Axes>"
      ]
     },
     "metadata": {},
     "output_type": "display_data"
    }
   ],
   "source": [
    "fva.show_image(mean3)"
   ]
  },
  {
   "cell_type": "code",
   "execution_count": 17,
   "id": "adc4f585-f954-4464-a1e8-3907d481a1e0",
   "metadata": {},
   "outputs": [
    {
     "data": {
      "text/plain": [
       "(torch.Size([6131, 28]), 2)"
      ]
     },
     "execution_count": 17,
     "metadata": {},
     "output_type": "execute_result"
    }
   ],
   "source": [
    "mean3x = stacked_threes.mean(1)\n",
    "mean3x.shape, mean3x.ndim"
   ]
  },
  {
   "cell_type": "code",
   "execution_count": 18,
   "id": "5785bc22-5ede-4c17-afc7-6916c5020f57",
   "metadata": {},
   "outputs": [
    {
     "data": {
      "text/plain": [
       "(torch.Size([6131, 28]), 2)"
      ]
     },
     "execution_count": 18,
     "metadata": {},
     "output_type": "execute_result"
    }
   ],
   "source": [
    "mean3y = stacked_threes.mean(2)\n",
    "mean3y.shape, mean3y.ndim"
   ]
  },
  {
   "cell_type": "code",
   "execution_count": 19,
   "id": "eb0d9d56-1036-44cc-bde8-115651d3f581",
   "metadata": {},
   "outputs": [
    {
     "data": {
      "text/plain": [
       "<Axes: >"
      ]
     },
     "execution_count": 19,
     "metadata": {},
     "output_type": "execute_result"
    },
    {
     "data": {
      "image/png": "[encoded data removed]",
      "text/plain": [
       "<Figure size 100x100 with 1 Axes>"
      ]
     },
     "metadata": {},
     "output_type": "display_data"
    }
   ],
   "source": [
    "mean7 = stacked_sevens.mean(0)\n",
    "fva.show_image(mean7)"
   ]
  },
  {
   "cell_type": "code",
   "execution_count": 20,
   "id": "74396b20-b270-4a8c-9e4d-df6e7056fcae",
   "metadata": {},
   "outputs": [
    {
     "data": {
      "text/plain": [
       "<Axes: >"
      ]
     },
     "execution_count": 20,
     "metadata": {},
     "output_type": "execute_result"
    },
    {
     "data": {
      "image/png": "[encoded data removed]",
      "text/plain": [
       "<Figure size 100x100 with 1 Axes>"
      ]
     },
     "metadata": {},
     "output_type": "display_data"
    }
   ],
   "source": [
    "a_3 = stacked_threes[1]\n",
    "fva.show_image(a_3)"
   ]
  },
  {
   "cell_type": "code",
   "execution_count": 21,
   "id": "894ecd2b-3e24-4ec3-8e92-1660a56f2e0c",
   "metadata": {},
   "outputs": [
    {
     "data": {
      "text/plain": [
       "tensor(0.1114)"
      ]
     },
     "execution_count": 21,
     "metadata": {},
     "output_type": "execute_result"
    }
   ],
   "source": [
    "var3 = (a_3 - mean3).abs().mean((-1, -2)) # mean of last 2 axes of a tensor\n",
    "var3"
   ]
  },
  {
   "cell_type": "code",
   "execution_count": 22,
   "id": "392c380c-bdab-44eb-be7c-016fcda0657f",
   "metadata": {},
   "outputs": [
    {
     "data": {
      "text/plain": [
       "(torch.Size([1010, 28, 28]), torch.Size([1028, 28, 28]))"
      ]
     },
     "execution_count": 22,
     "metadata": {},
     "output_type": "execute_result"
    }
   ],
   "source": [
    "valid_3_tens = \\\n",
    "fva.torch.stack(\n",
    "    [fva.tensor(fva.Image.open(o)) for o in (path/'valid/3').ls().sorted()]\n",
    ")\n",
    "valid_3_tens = valid_3_tens.float()/255\n",
    "valid_7_tens = \\\n",
    "fva.torch.stack(\n",
    "    [fva.tensor(fva.Image.open(o)) for o in (path/'valid/7').ls().sorted()]\n",
    ")\n",
    "valid_7_tens = valid_7_tens.float()/255\n",
    "valid_3_tens.shape, valid_7_tens.shape"
   ]
  },
  {
   "cell_type": "code",
   "execution_count": 23,
   "id": "05533323-b5ca-46a6-a819-31c491915500",
   "metadata": {},
   "outputs": [
    {
     "data": {
      "text/plain": [
       "(tensor([0.1280, 0.1623, 0.1242,  ..., 0.1508, 0.1263, 0.1260]),\n",
       " torch.Size([1010]))"
      ]
     },
     "execution_count": 23,
     "metadata": {},
     "output_type": "execute_result"
    }
   ],
   "source": [
    "def mnist_distance(a, b): return(a-b).abs().mean((-1, -2))\n",
    "valid_3_dist = mnist_distance(valid_3_tens, mean3)\n",
    "valid_3_dist, valid_3_dist.shape"
   ]
  },
  {
   "cell_type": "code",
   "execution_count": 24,
   "id": "e00b4b15-e374-4df1-b9a8-644102fccb2d",
   "metadata": {},
   "outputs": [
    {
     "data": {
      "text/plain": [
       "tensor(True)"
      ]
     },
     "execution_count": 24,
     "metadata": {},
     "output_type": "execute_result"
    }
   ],
   "source": [
    "def is_3(x): return mnist_distance(x, mean3) < \\\n",
    "    mnist_distance(x, mean7)\n",
    "is_3(a_3)"
   ]
  },
  {
   "cell_type": "code",
   "execution_count": 25,
   "id": "5b4d6a7d-1d99-47e8-bec9-2d4fecf33c69",
   "metadata": {},
   "outputs": [
    {
     "data": {
      "text/plain": [
       "tensor(0.9168)"
      ]
     },
     "execution_count": 25,
     "metadata": {},
     "output_type": "execute_result"
    }
   ],
   "source": [
    "is_3(valid_3_tens).float().mean()"
   ]
  },
  {
   "cell_type": "code",
   "execution_count": 26,
   "id": "80096b59-8acd-4c3f-9897-de20550d5625",
   "metadata": {},
   "outputs": [
    {
     "data": {
      "text/plain": [
       "tensor(0.9854)"
      ]
     },
     "execution_count": 26,
     "metadata": {},
     "output_type": "execute_result"
    }
   ],
   "source": [
    "1 - is_3(valid_7_tens).float().mean()"
   ]
  },
  {
   "cell_type": "code",
   "execution_count": 27,
   "id": "9bc53943-acad-4a49-88da-ddaeb2af797f",
   "metadata": {},
   "outputs": [
    {
     "data": {
      "text/plain": [
       "\u001b[0;31mSignature:\u001b[0m \u001b[0mfb\u001b[0m\u001b[0;34m.\u001b[0m\u001b[0mto_np\u001b[0m\u001b[0;34m(\u001b[0m\u001b[0mx\u001b[0m\u001b[0;34m)\u001b[0m\u001b[0;34m\u001b[0m\u001b[0;34m\u001b[0m\u001b[0m\n",
       "\u001b[0;31mSource:\u001b[0m   \n",
       "\u001b[0;32mdef\u001b[0m \u001b[0mto_np\u001b[0m\u001b[0;34m(\u001b[0m\u001b[0mx\u001b[0m\u001b[0;34m)\u001b[0m\u001b[0;34m:\u001b[0m\u001b[0;34m\u001b[0m\n",
       "\u001b[0;34m\u001b[0m    \u001b[0;34m\"Convert a tensor to a numpy array.\"\u001b[0m\u001b[0;34m\u001b[0m\n",
       "\u001b[0;34m\u001b[0m    \u001b[0;32mreturn\u001b[0m \u001b[0mapply\u001b[0m\u001b[0;34m(\u001b[0m\u001b[0;32mlambda\u001b[0m \u001b[0mo\u001b[0m\u001b[0;34m:\u001b[0m \u001b[0mo\u001b[0m\u001b[0;34m.\u001b[0m\u001b[0mdata\u001b[0m\u001b[0;34m.\u001b[0m\u001b[0mcpu\u001b[0m\u001b[0;34m(\u001b[0m\u001b[0;34m)\u001b[0m\u001b[0;34m.\u001b[0m\u001b[0mnumpy\u001b[0m\u001b[0;34m(\u001b[0m\u001b[0;34m)\u001b[0m\u001b[0;34m,\u001b[0m \u001b[0mx\u001b[0m\u001b[0;34m)\u001b[0m\u001b[0;34m\u001b[0m\u001b[0;34m\u001b[0m\u001b[0m\n",
       "\u001b[0;31mFile:\u001b[0m      ~/miniconda3/envs/py10/lib/python3.10/site-packages/fastai/torch_core.py\n",
       "\u001b[0;31mType:\u001b[0m      function"
      ]
     },
     "metadata": {},
     "output_type": "display_data"
    }
   ],
   "source": [
    "??fb.to_np"
   ]
  },
  {
   "cell_type": "code",
   "execution_count": 28,
   "id": "bec66128-5050-4252-91c0-5e7799890f65",
   "metadata": {},
   "outputs": [
    {
     "data": {
      "text/plain": [
       "tensor([ 0.,  1.,  2.,  3.,  4.,  5.,  6.,  7.,  8.,  9., 10., 11., 12., 13., 14., 15., 16., 17., 18., 19.])"
      ]
     },
     "execution_count": 28,
     "metadata": {},
     "output_type": "execute_result"
    }
   ],
   "source": [
    "time = fva.torch.arange(0, 20).float(); time"
   ]
  },
  {
   "cell_type": "code",
   "execution_count": 29,
   "id": "68078111-fceb-4872-b7d4-f9c963145d79",
   "metadata": {},
   "outputs": [
    {
     "name": "stdout",
     "output_type": "stream",
     "text": [
      "tensor([58.0404, 46.5809, 36.1011, 23.1917, 18.0128, 14.7675,  9.5512,  7.2709,  2.8838,  0.1201,  0.4100,  2.7122,  4.4026,  8.4126, 12.7726, 20.4398, 25.8854, 34.1564, 45.5551, 54.2176])\n"
     ]
    },
    {
     "data": {
      "text/plain": [
       "<matplotlib.collections.PathCollection at 0x7fe6ba83dea0>"
      ]
     },
     "execution_count": 29,
     "metadata": {},
     "output_type": "execute_result"
    },
    {
     "data": {
      "image/png": "[encoded data removed]",
      "text/plain": [
       "<Figure size 640x480 with 1 Axes>"
      ]
     },
     "metadata": {},
     "output_type": "display_data"
    }
   ],
   "source": [
    "speed = fva.torch.randn(20)*1.5 + 0.6*(time-9.5)**2 +1\n",
    "print(speed)\n",
    "fva.plt.scatter(time, speed)"
   ]
  },
  {
   "cell_type": "code",
   "execution_count": 30,
   "id": "1f8bc148-39be-4dd1-9357-5423be0c50f5",
   "metadata": {},
   "outputs": [],
   "source": [
    "def f(t, params):\n",
    "    a,b,c = params\n",
    "    return a*(t**2) + (b*t) + c"
   ]
  },
  {
   "cell_type": "code",
   "execution_count": 31,
   "id": "2a0b7be3-b55a-4dc0-8a3c-ffb9b769edbd",
   "metadata": {},
   "outputs": [],
   "source": [
    "def mse(preds, targets): return ((preds-targets)**2).mean()"
   ]
  },
  {
   "cell_type": "code",
   "execution_count": 32,
   "id": "e7eca1ef-b331-4174-9354-53084eb22c5b",
   "metadata": {},
   "outputs": [
    {
     "data": {
      "text/plain": [
       "tensor([-0.7658, -0.7506,  1.3525], requires_grad=True)"
      ]
     },
     "execution_count": 32,
     "metadata": {},
     "output_type": "execute_result"
    }
   ],
   "source": [
    "params = fva.torch.randn(3).requires_grad_()\n",
    "params"
   ]
  },
  {
   "cell_type": "code",
   "execution_count": 33,
   "id": "1fe674b8-56ee-4450-9bf1-1d1b6871b657",
   "metadata": {},
   "outputs": [],
   "source": [
    "orig_params = params.clone().detach()"
   ]
  },
  {
   "cell_type": "code",
   "execution_count": 34,
   "id": "495a33d9-a2fa-42aa-9ed6-ea4d3b249981",
   "metadata": {},
   "outputs": [],
   "source": [
    "preds = f(time, params)"
   ]
  },
  {
   "cell_type": "code",
   "execution_count": 35,
   "id": "03b5c6f7-5fe1-45d3-8a3b-f6608385c7ba",
   "metadata": {},
   "outputs": [],
   "source": [
    "def show_preds(preds, ax=None):\n",
    "    if ax is None: ax = fva.plt.subplots()[1]\n",
    "    ax.scatter(time, speed)\n",
    "    ax.scatter(time, fva.to_np(preds), color='red')\n",
    "    ax.set_ylim(-300, 100)"
   ]
  },
  {
   "cell_type": "code",
   "execution_count": 36,
   "id": "46497334-41b8-4a18-82f5-842206219db9",
   "metadata": {},
   "outputs": [
    {
     "data": {
      "image/png": "[encoded data removed]",
      "text/plain": [
       "<Figure size 640x480 with 1 Axes>"
      ]
     },
     "metadata": {},
     "output_type": "display_data"
    }
   ],
   "source": [
    "show_preds(preds)"
   ]
  },
  {
   "cell_type": "code",
   "execution_count": 37,
   "id": "bdd4a4a1-1dc2-44d3-8757-6a0ad73abb71",
   "metadata": {},
   "outputs": [],
   "source": [
    "params = orig_params.clone().detach().requires_grad_()"
   ]
  },
  {
   "cell_type": "code",
   "execution_count": 38,
   "id": "eb65d588-2862-4ea7-8b70-86006996743c",
   "metadata": {},
   "outputs": [],
   "source": [
    "lr = 1e-5\n",
    "def apply_step(params, prn=True):\n",
    "    preds = f(time, params)\n",
    "    loss = mse(preds, speed)\n",
    "    loss.backward()\n",
    "    params.data -= lr * params.grad.data\n",
    "    params.grad.zero_()\n",
    "    if prn: print(loss)\n",
    "    return preds"
   ]
  },
  {
   "cell_type": "code",
   "execution_count": 39,
   "id": "80b4245c-9440-4e2b-974e-19545dd915ef",
   "metadata": {},
   "outputs": [
    {
     "name": "stdout",
     "output_type": "stream",
     "text": [
      "tensor(24166.2148, grad_fn=<MeanBackward0>)\n",
      "tensor(4910.1572, grad_fn=<MeanBackward0>)\n",
      "tensor(1266.3197, grad_fn=<MeanBackward0>)\n",
      "tensor(576.7921, grad_fn=<MeanBackward0>)\n",
      "tensor(446.3101, grad_fn=<MeanBackward0>)\n",
      "tensor(421.6165, grad_fn=<MeanBackward0>)\n",
      "tensor(416.9413, grad_fn=<MeanBackward0>)\n",
      "tensor(416.0541, grad_fn=<MeanBackward0>)\n",
      "tensor(415.8839, grad_fn=<MeanBackward0>)\n",
      "tensor(415.8493, grad_fn=<MeanBackward0>)\n"
     ]
    }
   ],
   "source": [
    "for i in range(10): apply_step(params)"
   ]
  },
  {
   "cell_type": "code",
   "execution_count": 40,
   "id": "0491b299-bf48-435a-925f-f680676a5077",
   "metadata": {},
   "outputs": [],
   "source": [
    "params = orig_params.clone().detach().requires_grad_()"
   ]
  },
  {
   "cell_type": "code",
   "execution_count": 41,
   "id": "e495d9dd-e2e3-44b6-958d-9441532486a5",
   "metadata": {},
   "outputs": [
    {
     "data": {
      "image/png": "[encoded data removed]",
      "text/plain": [
       "<Figure size 1200x300 with 6 Axes>"
      ]
     },
     "metadata": {},
     "output_type": "display_data"
    }
   ],
   "source": [
    "_,axs = fva.plt.subplots(1,6,figsize=(12,3))\n",
    "for ax in axs: show_preds(apply_step(params, False), ax)\n",
    "fva.plt.tight_layout()"
   ]
  },
  {
   "cell_type": "code",
   "execution_count": 42,
   "id": "9184bd17-458c-49d9-976a-6ed835b266e2",
   "metadata": {},
   "outputs": [
    {
     "data": {
      "text/plain": [
       "torch.Size([12396, 28, 28])"
      ]
     },
     "execution_count": 42,
     "metadata": {},
     "output_type": "execute_result"
    }
   ],
   "source": [
    "fva.torch.cat([stacked_threes, stacked_sevens]).shape"
   ]
  },
  {
   "cell_type": "code",
   "execution_count": 43,
   "id": "9e314fe7-3371-4506-bcaa-5ec735b469c3",
   "metadata": {},
   "outputs": [],
   "source": [
    "train_x = fva.torch.cat([stacked_threes, stacked_sevens]).view(-1, 28*28)"
   ]
  },
  {
   "cell_type": "code",
   "execution_count": 44,
   "id": "d62651e8-39ca-48bc-9894-065ce0a6d136",
   "metadata": {},
   "outputs": [
    {
     "data": {
      "text/plain": [
       "(torch.Size([12396, 784]), torch.Size([12396, 1]))"
      ]
     },
     "execution_count": 44,
     "metadata": {},
     "output_type": "execute_result"
    }
   ],
   "source": [
    "train_y = fva.tensor([1]*len(threes) + [0]*len(sevens)).unsqueeze(1)\n",
    "train_x.shape, train_y.shape"
   ]
  },
  {
   "cell_type": "code",
   "execution_count": 45,
   "id": "fe4b50f4-3d84-4396-a88b-905c03c2e8d7",
   "metadata": {},
   "outputs": [
    {
     "data": {
      "text/plain": [
       "torch.Size([12396])"
      ]
     },
     "execution_count": 45,
     "metadata": {},
     "output_type": "execute_result"
    }
   ],
   "source": [
    "fva.tensor([1]*len(threes) + [0]*len(sevens)).shape"
   ]
  },
  {
   "cell_type": "code",
   "execution_count": 46,
   "id": "20085bb6-6f2a-48be-871b-dd55d9f824a4",
   "metadata": {},
   "outputs": [
    {
     "data": {
      "text/plain": [
       "(tensor([[1],\n",
       "         [1],\n",
       "         [1],\n",
       "         ...,\n",
       "         [0],\n",
       "         [0],\n",
       "         [0]]),\n",
       " tensor([1, 1, 1,  ..., 0, 0, 0]))"
      ]
     },
     "execution_count": 46,
     "metadata": {},
     "output_type": "execute_result"
    }
   ],
   "source": [
    "train_y, fva.tensor([1]*len(threes) + [0]*len(sevens))"
   ]
  },
  {
   "cell_type": "code",
   "execution_count": 47,
   "id": "b5ac668e-a850-4585-80cb-477ce481d412",
   "metadata": {},
   "outputs": [
    {
     "data": {
      "text/plain": [
       "(torch.Size([784]), tensor([1]))"
      ]
     },
     "execution_count": 47,
     "metadata": {},
     "output_type": "execute_result"
    }
   ],
   "source": [
    "dset = list(zip(train_x, train_y))\n",
    "x, y = dset[0]\n",
    "x.shape, y"
   ]
  },
  {
   "cell_type": "code",
   "execution_count": 48,
   "id": "d3745ab4-ccd4-4c51-a619-96037709cd76",
   "metadata": {},
   "outputs": [],
   "source": [
    "valid_x = fva.torch.cat([valid_3_tens, valid_7_tens]).view(-1, 28*28)\n",
    "valid_y = fva.tensor([1]*len(valid_3_tens) + [0]*len(valid_7_tens)).unsqueeze(1)\n",
    "valid_dset = list(zip(valid_x,valid_y))"
   ]
  },
  {
   "cell_type": "code",
   "execution_count": 49,
   "id": "ddbfb75d-f567-4919-a0b2-88656686e47b",
   "metadata": {},
   "outputs": [],
   "source": [
    "def init_params(size, std=1.0): \n",
    "    return (fva.torch.randn(size)*std).requires_grad_()"
   ]
  },
  {
   "cell_type": "code",
   "execution_count": 50,
   "id": "25648f2d-802d-48b8-8310-63e85ac2cd0f",
   "metadata": {},
   "outputs": [],
   "source": [
    "weights = init_params((28*28,1))"
   ]
  },
  {
   "cell_type": "code",
   "execution_count": 51,
   "id": "4f98f9ef-a2e7-4fda-afe2-7821e4df871b",
   "metadata": {},
   "outputs": [],
   "source": [
    "bias = init_params(1)"
   ]
  },
  {
   "cell_type": "code",
   "execution_count": 52,
   "id": "4bb0f610-2e7b-4643-8e37-4ac02e862ebe",
   "metadata": {},
   "outputs": [
    {
     "data": {
      "text/plain": [
       "tensor([20.2336], grad_fn=<AddBackward0>)"
      ]
     },
     "execution_count": 52,
     "metadata": {},
     "output_type": "execute_result"
    }
   ],
   "source": [
    "(train_x[0]*weights.T).sum() + bias"
   ]
  },
  {
   "cell_type": "code",
   "execution_count": 53,
   "id": "ad8363a9-4a79-45cc-a847-3521b66d499a",
   "metadata": {},
   "outputs": [
    {
     "data": {
      "text/plain": [
       "<Axes: >"
      ]
     },
     "execution_count": 53,
     "metadata": {},
     "output_type": "execute_result"
    },
    {
     "data": {
      "image/png": "[encoded data removed]",
      "text/plain": [
       "<Figure size 100x100 with 1 Axes>"
      ]
     },
     "metadata": {},
     "output_type": "display_data"
    }
   ],
   "source": [
    "fva.show_image(train_x[2].view(28,28)[4:15,4:20])"
   ]
  },
  {
   "cell_type": "code",
   "execution_count": 54,
   "id": "ce2ba8e7-1858-445d-964e-8fbaa5d6d25b",
   "metadata": {},
   "outputs": [
    {
     "data": {
      "text/plain": [
       "tensor([[20.2336],\n",
       "        [17.0644],\n",
       "        [15.2384],\n",
       "        ...,\n",
       "        [18.3804],\n",
       "        [23.8567],\n",
       "        [28.6816]], grad_fn=<AddBackward0>)"
      ]
     },
     "execution_count": 54,
     "metadata": {},
     "output_type": "execute_result"
    }
   ],
   "source": [
    "def linear1(xb, w, b): return xb@w + b\n",
    "preds = linear1(train_x, weights, bias)\n",
    "preds"
   ]
  },
  {
   "cell_type": "code",
   "execution_count": 55,
   "id": "00c8c7b9-530c-4293-849f-cca2e608de0b",
   "metadata": {},
   "outputs": [
    {
     "data": {
      "image/svg+xml": [
       "<?xml version=\"1.0\" encoding=\"UTF-8\" standalone=\"no\"?>\n",
       "<!DOCTYPE svg PUBLIC \"-//W3C//DTD SVG 1.1//EN\"\n",
       " \"http://www.w3.org/Graphics/SVG/1.1/DTD/svg11.dtd\">\n",
       "<!-- Generated by graphviz version 2.50.0 (0)\n",
       " -->\n",
       "<!-- Pages: 1 -->\n",
       "<svg width=\"219pt\" height=\"283pt\"\n",
       " viewBox=\"0.00 0.00 219.00 283.00\" xmlns=\"http://www.w3.org/2000/svg\" xmlns:xlink=\"http://www.w3.org/1999/xlink\">\n",
       "<g id=\"graph0\" class=\"graph\" transform=\"scale(1 1) rotate(0) translate(4 279)\">\n",
       "<polygon fill=\"white\" stroke=\"transparent\" points=\"-4,4 -4,-279 215,-279 215,4 -4,4\"/>\n",
       "<!-- 140628932417776 -->\n",
       "<g id=\"node1\" class=\"node\">\n",
       "<title>140628932417776</title>\n",
       "<polygon fill=\"#caff70\" stroke=\"black\" points=\"147,-31 64,-31 64,0 147,0 147,-31\"/>\n",
       "<text text-anchor=\"middle\" x=\"105.5\" y=\"-7\" font-family=\"monospace\" font-size=\"10.00\"> (12396, 1)</text>\n",
       "</g>\n",
       "<!-- 140628930318672 -->\n",
       "<g id=\"node2\" class=\"node\">\n",
       "<title>140628930318672</title>\n",
       "<polygon fill=\"lightgrey\" stroke=\"black\" points=\"150,-86 61,-86 61,-67 150,-67 150,-86\"/>\n",
       "<text text-anchor=\"middle\" x=\"105.5\" y=\"-74\" font-family=\"monospace\" font-size=\"10.00\">AddBackward0</text>\n",
       "</g>\n",
       "<!-- 140628930318672&#45;&gt;140628932417776 -->\n",
       "<g id=\"edge6\" class=\"edge\">\n",
       "<title>140628930318672&#45;&gt;140628932417776</title>\n",
       "<path fill=\"none\" stroke=\"black\" d=\"M105.5,-66.79C105.5,-60.07 105.5,-50.4 105.5,-41.34\"/>\n",
       "<polygon fill=\"black\" stroke=\"black\" points=\"109,-41.19 105.5,-31.19 102,-41.19 109,-41.19\"/>\n",
       "</g>\n",
       "<!-- 140628930318144 -->\n",
       "<g id=\"node3\" class=\"node\">\n",
       "<title>140628930318144</title>\n",
       "<polygon fill=\"lightgrey\" stroke=\"black\" points=\"92,-141 9,-141 9,-122 92,-122 92,-141\"/>\n",
       "<text text-anchor=\"middle\" x=\"50.5\" y=\"-129\" font-family=\"monospace\" font-size=\"10.00\">MmBackward0</text>\n",
       "</g>\n",
       "<!-- 140628930318144&#45;&gt;140628930318672 -->\n",
       "<g id=\"edge1\" class=\"edge\">\n",
       "<title>140628930318144&#45;&gt;140628930318672</title>\n",
       "<path fill=\"none\" stroke=\"black\" d=\"M59.58,-121.75C67.59,-114.03 79.46,-102.6 89.12,-93.28\"/>\n",
       "<polygon fill=\"black\" stroke=\"black\" points=\"91.81,-95.55 96.59,-86.09 86.96,-90.51 91.81,-95.55\"/>\n",
       "</g>\n",
       "<!-- 140628930318624 -->\n",
       "<g id=\"node4\" class=\"node\">\n",
       "<title>140628930318624</title>\n",
       "<polygon fill=\"lightgrey\" stroke=\"black\" points=\"101,-202 0,-202 0,-183 101,-183 101,-202\"/>\n",
       "<text text-anchor=\"middle\" x=\"50.5\" y=\"-190\" font-family=\"monospace\" font-size=\"10.00\">AccumulateGrad</text>\n",
       "</g>\n",
       "<!-- 140628930318624&#45;&gt;140628930318144 -->\n",
       "<g id=\"edge2\" class=\"edge\">\n",
       "<title>140628930318624&#45;&gt;140628930318144</title>\n",
       "<path fill=\"none\" stroke=\"black\" d=\"M50.5,-182.79C50.5,-174.6 50.5,-162.06 50.5,-151.55\"/>\n",
       "<polygon fill=\"black\" stroke=\"black\" points=\"54,-151.24 50.5,-141.24 47,-151.24 54,-151.24\"/>\n",
       "</g>\n",
       "<!-- 140628935345472 -->\n",
       "<g id=\"node5\" class=\"node\">\n",
       "<title>140628935345472</title>\n",
       "<polygon fill=\"lightblue\" stroke=\"black\" points=\"86,-275 15,-275 15,-244 86,-244 86,-275\"/>\n",
       "<text text-anchor=\"middle\" x=\"50.5\" y=\"-251\" font-family=\"monospace\" font-size=\"10.00\"> (784, 1)</text>\n",
       "</g>\n",
       "<!-- 140628935345472&#45;&gt;140628930318624 -->\n",
       "<g id=\"edge3\" class=\"edge\">\n",
       "<title>140628935345472&#45;&gt;140628930318624</title>\n",
       "<path fill=\"none\" stroke=\"black\" d=\"M50.5,-243.75C50.5,-234.39 50.5,-222.19 50.5,-212.16\"/>\n",
       "<polygon fill=\"black\" stroke=\"black\" points=\"54,-212.02 50.5,-202.02 47,-212.02 54,-212.02\"/>\n",
       "</g>\n",
       "<!-- 140628930318240 -->\n",
       "<g id=\"node6\" class=\"node\">\n",
       "<title>140628930318240</title>\n",
       "<polygon fill=\"lightgrey\" stroke=\"black\" points=\"211,-141 110,-141 110,-122 211,-122 211,-141\"/>\n",
       "<text text-anchor=\"middle\" x=\"160.5\" y=\"-129\" font-family=\"monospace\" font-size=\"10.00\">AccumulateGrad</text>\n",
       "</g>\n",
       "<!-- 140628930318240&#45;&gt;140628930318672 -->\n",
       "<g id=\"edge4\" class=\"edge\">\n",
       "<title>140628930318240&#45;&gt;140628930318672</title>\n",
       "<path fill=\"none\" stroke=\"black\" d=\"M151.42,-121.75C143.41,-114.03 131.54,-102.6 121.88,-93.28\"/>\n",
       "<polygon fill=\"black\" stroke=\"black\" points=\"124.04,-90.51 114.41,-86.09 119.19,-95.55 124.04,-90.51\"/>\n",
       "</g>\n",
       "<!-- 140628932213984 -->\n",
       "<g id=\"node7\" class=\"node\">\n",
       "<title>140628932213984</title>\n",
       "<polygon fill=\"lightblue\" stroke=\"black\" points=\"187.5,-208 133.5,-208 133.5,-177 187.5,-177 187.5,-208\"/>\n",
       "<text text-anchor=\"middle\" x=\"160.5\" y=\"-184\" font-family=\"monospace\" font-size=\"10.00\"> (1)</text>\n",
       "</g>\n",
       "<!-- 140628932213984&#45;&gt;140628930318240 -->\n",
       "<g id=\"edge5\" class=\"edge\">\n",
       "<title>140628932213984&#45;&gt;140628930318240</title>\n",
       "<path fill=\"none\" stroke=\"black\" d=\"M160.5,-176.92C160.5,-169.22 160.5,-159.69 160.5,-151.43\"/>\n",
       "<polygon fill=\"black\" stroke=\"black\" points=\"164,-151.25 160.5,-141.25 157,-151.25 164,-151.25\"/>\n",
       "</g>\n",
       "</g>\n",
       "</svg>\n"
      ],
      "text/plain": [
       "<graphviz.graphs.Digraph at 0x7fe6b96fd090>"
      ]
     },
     "execution_count": 55,
     "metadata": {},
     "output_type": "execute_result"
    }
   ],
   "source": [
    "from torchviz import make_dot\n",
    "make_dot(preds, params={\"x\": x})"
   ]
  },
  {
   "cell_type": "code",
   "execution_count": 56,
   "id": "1acfa739-952d-4b66-ba84-7b7a68afbc6a",
   "metadata": {},
   "outputs": [
    {
     "data": {
      "text/plain": [
       "tensor([[ True],\n",
       "        [ True],\n",
       "        [ True],\n",
       "        ...,\n",
       "        [False],\n",
       "        [False],\n",
       "        [False]])"
      ]
     },
     "execution_count": 56,
     "metadata": {},
     "output_type": "execute_result"
    }
   ],
   "source": [
    "corrects = (preds > 0.0).float() == train_y\n",
    "corrects"
   ]
  },
  {
   "cell_type": "code",
   "execution_count": 57,
   "id": "6e727c20-deb7-4fd1-87b0-2b22da005660",
   "metadata": {},
   "outputs": [
    {
     "data": {
      "text/plain": [
       "0.4912068545818329"
      ]
     },
     "execution_count": 57,
     "metadata": {},
     "output_type": "execute_result"
    }
   ],
   "source": [
    "corrects.float().mean().item()"
   ]
  },
  {
   "cell_type": "code",
   "execution_count": 58,
   "id": "3a4e5ed5-ad95-4ee7-8b68-1e30647954c2",
   "metadata": {},
   "outputs": [],
   "source": [
    "with fva.torch.no_grad(): weights[0] *= 1.005"
   ]
  },
  {
   "cell_type": "code",
   "execution_count": 59,
   "id": "04f1e77c-932a-4552-94e9-717258391932",
   "metadata": {},
   "outputs": [
    {
     "data": {
      "text/plain": [
       "0.4912068545818329"
      ]
     },
     "execution_count": 59,
     "metadata": {},
     "output_type": "execute_result"
    }
   ],
   "source": [
    "preds=linear1(train_x, weights, bias)\n",
    "((preds > 0.0).float() == train_y).float().mean().item()"
   ]
  },
  {
   "cell_type": "code",
   "execution_count": 60,
   "id": "c5356184-3211-421d-a381-7a1c5f39385d",
   "metadata": {},
   "outputs": [],
   "source": [
    "def mnist_loss(prds, trgts):\n",
    "    prds = prds.sigmoid()\n",
    "    return fva.torch.where(trgts == 1, 1 - prds, prds).mean()"
   ]
  },
  {
   "cell_type": "code",
   "execution_count": 61,
   "id": "dc00a7b4-c80b-4308-867d-8f7a129a3493",
   "metadata": {},
   "outputs": [
    {
     "data": {
      "image/png": "[encoded data removed]",
      "text/plain": [
       "<Figure size 600x400 with 1 Axes>"
      ]
     },
     "metadata": {},
     "output_type": "display_data"
    }
   ],
   "source": [
    "def sigmoidf(x): return 1/(1+fva.torch.exp(-x))\n",
    "fb.plot_function(sigmoidf, min = -4, max = 4)"
   ]
  },
  {
   "cell_type": "code",
   "execution_count": 62,
   "id": "e99393a2-58c2-45e1-8cec-b4dddb2b60d8",
   "metadata": {},
   "outputs": [],
   "source": [
    "weights = init_params((28*28,1))\n",
    "bias = init_params(1)"
   ]
  },
  {
   "cell_type": "code",
   "execution_count": 63,
   "id": "ae2edaf8-4e03-4beb-8d71-34594380f7e7",
   "metadata": {},
   "outputs": [
    {
     "data": {
      "text/plain": [
       "(torch.Size([256, 784]), torch.Size([256, 1]))"
      ]
     },
     "execution_count": 63,
     "metadata": {},
     "output_type": "execute_result"
    }
   ],
   "source": [
    "dl = fva.DataLoader(dset, batch_size=256)\n",
    "xb, yb = fva.first(dl)\n",
    "xb.shape, yb.shape "
   ]
  },
  {
   "cell_type": "code",
   "execution_count": 64,
   "id": "91f50fbd-e924-425e-ba02-394b409ae954",
   "metadata": {},
   "outputs": [],
   "source": [
    "valid_dl = fva.DataLoader(valid_dset, batch_size=256)"
   ]
  },
  {
   "cell_type": "code",
   "execution_count": 65,
   "id": "1088a2f2-e550-427c-9e8d-39277907a437",
   "metadata": {},
   "outputs": [],
   "source": [
    "def calc_grad(xb, yb, model, w, b):\n",
    "    preds = model(xb, w, b)\n",
    "    loss = mnist_loss(preds, yb)\n",
    "    loss.backward()\n",
    "    return [preds, loss]"
   ]
  },
  {
   "cell_type": "code",
   "execution_count": 66,
   "id": "606d271b-a24d-4fb9-83a2-42e38d1141dd",
   "metadata": {},
   "outputs": [
    {
     "data": {
      "image/svg+xml": [
       "<?xml version=\"1.0\" encoding=\"UTF-8\" standalone=\"no\"?>\n",
       "<!DOCTYPE svg PUBLIC \"-//W3C//DTD SVG 1.1//EN\"\n",
       " \"http://www.w3.org/Graphics/SVG/1.1/DTD/svg11.dtd\">\n",
       "<!-- Generated by graphviz version 2.50.0 (0)\n",
       " -->\n",
       "<!-- Pages: 1 -->\n",
       "<svg width=\"219pt\" height=\"503pt\"\n",
       " viewBox=\"0.00 0.00 219.00 503.00\" xmlns=\"http://www.w3.org/2000/svg\" xmlns:xlink=\"http://www.w3.org/1999/xlink\">\n",
       "<g id=\"graph0\" class=\"graph\" transform=\"scale(1 1) rotate(0) translate(4 499)\">\n",
       "<polygon fill=\"white\" stroke=\"transparent\" points=\"-4,4 -4,-499 215,-499 215,4 -4,4\"/>\n",
       "<!-- 140628930360352 -->\n",
       "<g id=\"node1\" class=\"node\">\n",
       "<title>140628930360352</title>\n",
       "<polygon fill=\"#caff70\" stroke=\"black\" points=\"132.5,-31 78.5,-31 78.5,0 132.5,0 132.5,-31\"/>\n",
       "<text text-anchor=\"middle\" x=\"105.5\" y=\"-7\" font-family=\"monospace\" font-size=\"10.00\"> ()</text>\n",
       "</g>\n",
       "<!-- 140628928941600 -->\n",
       "<g id=\"node2\" class=\"node\">\n",
       "<title>140628928941600</title>\n",
       "<polygon fill=\"lightgrey\" stroke=\"black\" points=\"153,-86 58,-86 58,-67 153,-67 153,-86\"/>\n",
       "<text text-anchor=\"middle\" x=\"105.5\" y=\"-74\" font-family=\"monospace\" font-size=\"10.00\">MeanBackward0</text>\n",
       "</g>\n",
       "<!-- 140628928941600&#45;&gt;140628930360352 -->\n",
       "<g id=\"edge11\" class=\"edge\">\n",
       "<title>140628928941600&#45;&gt;140628930360352</title>\n",
       "<path fill=\"none\" stroke=\"black\" d=\"M105.5,-66.79C105.5,-60.07 105.5,-50.4 105.5,-41.34\"/>\n",
       "<polygon fill=\"black\" stroke=\"black\" points=\"109,-41.19 105.5,-31.19 102,-41.19 109,-41.19\"/>\n",
       "</g>\n",
       "<!-- 140628928942464 -->\n",
       "<g id=\"node3\" class=\"node\">\n",
       "<title>140628928942464</title>\n",
       "<polygon fill=\"lightgrey\" stroke=\"black\" points=\"156,-141 55,-141 55,-122 156,-122 156,-141\"/>\n",
       "<text text-anchor=\"middle\" x=\"105.5\" y=\"-129\" font-family=\"monospace\" font-size=\"10.00\">WhereBackward0</text>\n",
       "</g>\n",
       "<!-- 140628928942464&#45;&gt;140628928941600 -->\n",
       "<g id=\"edge1\" class=\"edge\">\n",
       "<title>140628928942464&#45;&gt;140628928941600</title>\n",
       "<path fill=\"none\" stroke=\"black\" d=\"M105.5,-121.75C105.5,-114.8 105.5,-104.85 105.5,-96.13\"/>\n",
       "<polygon fill=\"black\" stroke=\"black\" points=\"109,-96.09 105.5,-86.09 102,-96.09 109,-96.09\"/>\n",
       "</g>\n",
       "<!-- 140628928944768 -->\n",
       "<g id=\"node4\" class=\"node\">\n",
       "<title>140628928944768</title>\n",
       "<polygon fill=\"lightgrey\" stroke=\"black\" points=\"191,-196 96,-196 96,-177 191,-177 191,-196\"/>\n",
       "<text text-anchor=\"middle\" x=\"143.5\" y=\"-184\" font-family=\"monospace\" font-size=\"10.00\">RsubBackward1</text>\n",
       "</g>\n",
       "<!-- 140628928944768&#45;&gt;140628928942464 -->\n",
       "<g id=\"edge2\" class=\"edge\">\n",
       "<title>140628928944768&#45;&gt;140628928942464</title>\n",
       "<path fill=\"none\" stroke=\"black\" d=\"M137.23,-176.75C131.91,-169.34 124.14,-158.5 117.62,-149.41\"/>\n",
       "<polygon fill=\"black\" stroke=\"black\" points=\"120.33,-147.18 111.66,-141.09 114.64,-151.26 120.33,-147.18\"/>\n",
       "</g>\n",
       "<!-- 140628928944432 -->\n",
       "<g id=\"node5\" class=\"node\">\n",
       "<title>140628928944432</title>\n",
       "<polygon fill=\"lightgrey\" stroke=\"black\" points=\"162,-251 49,-251 49,-232 162,-232 162,-251\"/>\n",
       "<text text-anchor=\"middle\" x=\"105.5\" y=\"-239\" font-family=\"monospace\" font-size=\"10.00\">SigmoidBackward0</text>\n",
       "</g>\n",
       "<!-- 140628928944432&#45;&gt;140628928942464 -->\n",
       "<g id=\"edge10\" class=\"edge\">\n",
       "<title>140628928944432&#45;&gt;140628928942464</title>\n",
       "<path fill=\"none\" stroke=\"black\" d=\"M100.42,-231.98C93.83,-219.9 83.6,-197.02 87.5,-177 89.29,-167.8 92.98,-158.09 96.56,-150.1\"/>\n",
       "<polygon fill=\"black\" stroke=\"black\" points=\"99.73,-151.59 100.88,-141.06 93.41,-148.57 99.73,-151.59\"/>\n",
       "</g>\n",
       "<!-- 140628928944432&#45;&gt;140628928944768 -->\n",
       "<g id=\"edge3\" class=\"edge\">\n",
       "<title>140628928944432&#45;&gt;140628928944768</title>\n",
       "<path fill=\"none\" stroke=\"black\" d=\"M111.77,-231.75C117.09,-224.34 124.86,-213.5 131.38,-204.41\"/>\n",
       "<polygon fill=\"black\" stroke=\"black\" points=\"134.36,-206.26 137.34,-196.09 128.67,-202.18 134.36,-206.26\"/>\n",
       "</g>\n",
       "<!-- 140628928946208 -->\n",
       "<g id=\"node6\" class=\"node\">\n",
       "<title>140628928946208</title>\n",
       "<polygon fill=\"lightgrey\" stroke=\"black\" points=\"150,-306 61,-306 61,-287 150,-287 150,-306\"/>\n",
       "<text text-anchor=\"middle\" x=\"105.5\" y=\"-294\" font-family=\"monospace\" font-size=\"10.00\">AddBackward0</text>\n",
       "</g>\n",
       "<!-- 140628928946208&#45;&gt;140628928944432 -->\n",
       "<g id=\"edge4\" class=\"edge\">\n",
       "<title>140628928946208&#45;&gt;140628928944432</title>\n",
       "<path fill=\"none\" stroke=\"black\" d=\"M105.5,-286.75C105.5,-279.8 105.5,-269.85 105.5,-261.13\"/>\n",
       "<polygon fill=\"black\" stroke=\"black\" points=\"109,-261.09 105.5,-251.09 102,-261.09 109,-261.09\"/>\n",
       "</g>\n",
       "<!-- 140628928944624 -->\n",
       "<g id=\"node7\" class=\"node\">\n",
       "<title>140628928944624</title>\n",
       "<polygon fill=\"lightgrey\" stroke=\"black\" points=\"92,-361 9,-361 9,-342 92,-342 92,-361\"/>\n",
       "<text text-anchor=\"middle\" x=\"50.5\" y=\"-349\" font-family=\"monospace\" font-size=\"10.00\">MmBackward0</text>\n",
       "</g>\n",
       "<!-- 140628928944624&#45;&gt;140628928946208 -->\n",
       "<g id=\"edge5\" class=\"edge\">\n",
       "<title>140628928944624&#45;&gt;140628928946208</title>\n",
       "<path fill=\"none\" stroke=\"black\" d=\"M59.58,-341.75C67.59,-334.03 79.46,-322.6 89.12,-313.28\"/>\n",
       "<polygon fill=\"black\" stroke=\"black\" points=\"91.81,-315.55 96.59,-306.09 86.96,-310.51 91.81,-315.55\"/>\n",
       "</g>\n",
       "<!-- 140628928946112 -->\n",
       "<g id=\"node8\" class=\"node\">\n",
       "<title>140628928946112</title>\n",
       "<polygon fill=\"lightgrey\" stroke=\"black\" points=\"101,-422 0,-422 0,-403 101,-403 101,-422\"/>\n",
       "<text text-anchor=\"middle\" x=\"50.5\" y=\"-410\" font-family=\"monospace\" font-size=\"10.00\">AccumulateGrad</text>\n",
       "</g>\n",
       "<!-- 140628928946112&#45;&gt;140628928944624 -->\n",
       "<g id=\"edge6\" class=\"edge\">\n",
       "<title>140628928946112&#45;&gt;140628928944624</title>\n",
       "<path fill=\"none\" stroke=\"black\" d=\"M50.5,-402.79C50.5,-394.6 50.5,-382.06 50.5,-371.55\"/>\n",
       "<polygon fill=\"black\" stroke=\"black\" points=\"54,-371.24 50.5,-361.24 47,-371.24 54,-371.24\"/>\n",
       "</g>\n",
       "<!-- 140628930354432 -->\n",
       "<g id=\"node9\" class=\"node\">\n",
       "<title>140628930354432</title>\n",
       "<polygon fill=\"lightblue\" stroke=\"black\" points=\"86,-495 15,-495 15,-464 86,-464 86,-495\"/>\n",
       "<text text-anchor=\"middle\" x=\"50.5\" y=\"-471\" font-family=\"monospace\" font-size=\"10.00\"> (784, 1)</text>\n",
       "</g>\n",
       "<!-- 140628930354432&#45;&gt;140628928946112 -->\n",
       "<g id=\"edge7\" class=\"edge\">\n",
       "<title>140628930354432&#45;&gt;140628928946112</title>\n",
       "<path fill=\"none\" stroke=\"black\" d=\"M50.5,-463.75C50.5,-454.39 50.5,-442.19 50.5,-432.16\"/>\n",
       "<polygon fill=\"black\" stroke=\"black\" points=\"54,-432.02 50.5,-422.02 47,-432.02 54,-432.02\"/>\n",
       "</g>\n",
       "<!-- 140628928946160 -->\n",
       "<g id=\"node10\" class=\"node\">\n",
       "<title>140628928946160</title>\n",
       "<polygon fill=\"lightgrey\" stroke=\"black\" points=\"211,-361 110,-361 110,-342 211,-342 211,-361\"/>\n",
       "<text text-anchor=\"middle\" x=\"160.5\" y=\"-349\" font-family=\"monospace\" font-size=\"10.00\">AccumulateGrad</text>\n",
       "</g>\n",
       "<!-- 140628928946160&#45;&gt;140628928946208 -->\n",
       "<g id=\"edge8\" class=\"edge\">\n",
       "<title>140628928946160&#45;&gt;140628928946208</title>\n",
       "<path fill=\"none\" stroke=\"black\" d=\"M151.42,-341.75C143.41,-334.03 131.54,-322.6 121.88,-313.28\"/>\n",
       "<polygon fill=\"black\" stroke=\"black\" points=\"124.04,-310.51 114.41,-306.09 119.19,-315.55 124.04,-310.51\"/>\n",
       "</g>\n",
       "<!-- 140628930470160 -->\n",
       "<g id=\"node11\" class=\"node\">\n",
       "<title>140628930470160</title>\n",
       "<polygon fill=\"lightblue\" stroke=\"black\" points=\"187.5,-428 133.5,-428 133.5,-397 187.5,-397 187.5,-428\"/>\n",
       "<text text-anchor=\"middle\" x=\"160.5\" y=\"-404\" font-family=\"monospace\" font-size=\"10.00\"> (1)</text>\n",
       "</g>\n",
       "<!-- 140628930470160&#45;&gt;140628928946160 -->\n",
       "<g id=\"edge9\" class=\"edge\">\n",
       "<title>140628930470160&#45;&gt;140628928946160</title>\n",
       "<path fill=\"none\" stroke=\"black\" d=\"M160.5,-396.92C160.5,-389.22 160.5,-379.69 160.5,-371.43\"/>\n",
       "<polygon fill=\"black\" stroke=\"black\" points=\"164,-371.25 160.5,-361.25 157,-371.25 164,-371.25\"/>\n",
       "</g>\n",
       "</g>\n",
       "</svg>\n"
      ],
      "text/plain": [
       "<graphviz.graphs.Digraph at 0x7fe6b95adb70>"
      ]
     },
     "execution_count": 66,
     "metadata": {},
     "output_type": "execute_result"
    }
   ],
   "source": [
    "test_weights = init_params((28*28,1))\n",
    "test_bias = init_params(1)\n",
    "xb, yb = fva.first(dl)\n",
    "ps, ls = calc_grad(xb, yb, linear1, test_weights, test_bias)\n",
    "from torchviz import make_dot\n",
    "make_dot(ls, params={\"ls\": x})"
   ]
  },
  {
   "cell_type": "code",
   "execution_count": 67,
   "id": "ba3f78f2-112f-4787-99db-95b1d0501f90",
   "metadata": {},
   "outputs": [
    {
     "data": {
      "image/svg+xml": [
       "<?xml version=\"1.0\" encoding=\"UTF-8\" standalone=\"no\"?>\n",
       "<!DOCTYPE svg PUBLIC \"-//W3C//DTD SVG 1.1//EN\"\n",
       " \"http://www.w3.org/Graphics/SVG/1.1/DTD/svg11.dtd\">\n",
       "<!-- Generated by graphviz version 2.50.0 (0)\n",
       " -->\n",
       "<!-- Pages: 1 -->\n",
       "<svg width=\"219pt\" height=\"283pt\"\n",
       " viewBox=\"0.00 0.00 219.00 283.00\" xmlns=\"http://www.w3.org/2000/svg\" xmlns:xlink=\"http://www.w3.org/1999/xlink\">\n",
       "<g id=\"graph0\" class=\"graph\" transform=\"scale(1 1) rotate(0) translate(4 279)\">\n",
       "<polygon fill=\"white\" stroke=\"transparent\" points=\"-4,4 -4,-279 215,-279 215,4 -4,4\"/>\n",
       "<!-- 140629264622320 -->\n",
       "<g id=\"node1\" class=\"node\">\n",
       "<title>140629264622320</title>\n",
       "<polygon fill=\"#caff70\" stroke=\"black\" points=\"141,-31 70,-31 70,0 141,0 141,-31\"/>\n",
       "<text text-anchor=\"middle\" x=\"105.5\" y=\"-7\" font-family=\"monospace\" font-size=\"10.00\"> (256, 1)</text>\n",
       "</g>\n",
       "<!-- 140628928946208 -->\n",
       "<g id=\"node2\" class=\"node\">\n",
       "<title>140628928946208</title>\n",
       "<polygon fill=\"lightgrey\" stroke=\"black\" points=\"150,-86 61,-86 61,-67 150,-67 150,-86\"/>\n",
       "<text text-anchor=\"middle\" x=\"105.5\" y=\"-74\" font-family=\"monospace\" font-size=\"10.00\">AddBackward0</text>\n",
       "</g>\n",
       "<!-- 140628928946208&#45;&gt;140629264622320 -->\n",
       "<g id=\"edge6\" class=\"edge\">\n",
       "<title>140628928946208&#45;&gt;140629264622320</title>\n",
       "<path fill=\"none\" stroke=\"black\" d=\"M105.5,-66.79C105.5,-60.07 105.5,-50.4 105.5,-41.34\"/>\n",
       "<polygon fill=\"black\" stroke=\"black\" points=\"109,-41.19 105.5,-31.19 102,-41.19 109,-41.19\"/>\n",
       "</g>\n",
       "<!-- 140628928944624 -->\n",
       "<g id=\"node3\" class=\"node\">\n",
       "<title>140628928944624</title>\n",
       "<polygon fill=\"lightgrey\" stroke=\"black\" points=\"92,-141 9,-141 9,-122 92,-122 92,-141\"/>\n",
       "<text text-anchor=\"middle\" x=\"50.5\" y=\"-129\" font-family=\"monospace\" font-size=\"10.00\">MmBackward0</text>\n",
       "</g>\n",
       "<!-- 140628928944624&#45;&gt;140628928946208 -->\n",
       "<g id=\"edge1\" class=\"edge\">\n",
       "<title>140628928944624&#45;&gt;140628928946208</title>\n",
       "<path fill=\"none\" stroke=\"black\" d=\"M59.58,-121.75C67.59,-114.03 79.46,-102.6 89.12,-93.28\"/>\n",
       "<polygon fill=\"black\" stroke=\"black\" points=\"91.81,-95.55 96.59,-86.09 86.96,-90.51 91.81,-95.55\"/>\n",
       "</g>\n",
       "<!-- 140628928946112 -->\n",
       "<g id=\"node4\" class=\"node\">\n",
       "<title>140628928946112</title>\n",
       "<polygon fill=\"lightgrey\" stroke=\"black\" points=\"101,-202 0,-202 0,-183 101,-183 101,-202\"/>\n",
       "<text text-anchor=\"middle\" x=\"50.5\" y=\"-190\" font-family=\"monospace\" font-size=\"10.00\">AccumulateGrad</text>\n",
       "</g>\n",
       "<!-- 140628928946112&#45;&gt;140628928944624 -->\n",
       "<g id=\"edge2\" class=\"edge\">\n",
       "<title>140628928946112&#45;&gt;140628928944624</title>\n",
       "<path fill=\"none\" stroke=\"black\" d=\"M50.5,-182.79C50.5,-174.6 50.5,-162.06 50.5,-151.55\"/>\n",
       "<polygon fill=\"black\" stroke=\"black\" points=\"54,-151.24 50.5,-141.24 47,-151.24 54,-151.24\"/>\n",
       "</g>\n",
       "<!-- 140628930354432 -->\n",
       "<g id=\"node5\" class=\"node\">\n",
       "<title>140628930354432</title>\n",
       "<polygon fill=\"lightblue\" stroke=\"black\" points=\"86,-275 15,-275 15,-244 86,-244 86,-275\"/>\n",
       "<text text-anchor=\"middle\" x=\"50.5\" y=\"-251\" font-family=\"monospace\" font-size=\"10.00\"> (784, 1)</text>\n",
       "</g>\n",
       "<!-- 140628930354432&#45;&gt;140628928946112 -->\n",
       "<g id=\"edge3\" class=\"edge\">\n",
       "<title>140628930354432&#45;&gt;140628928946112</title>\n",
       "<path fill=\"none\" stroke=\"black\" d=\"M50.5,-243.75C50.5,-234.39 50.5,-222.19 50.5,-212.16\"/>\n",
       "<polygon fill=\"black\" stroke=\"black\" points=\"54,-212.02 50.5,-202.02 47,-212.02 54,-212.02\"/>\n",
       "</g>\n",
       "<!-- 140628928946160 -->\n",
       "<g id=\"node6\" class=\"node\">\n",
       "<title>140628928946160</title>\n",
       "<polygon fill=\"lightgrey\" stroke=\"black\" points=\"211,-141 110,-141 110,-122 211,-122 211,-141\"/>\n",
       "<text text-anchor=\"middle\" x=\"160.5\" y=\"-129\" font-family=\"monospace\" font-size=\"10.00\">AccumulateGrad</text>\n",
       "</g>\n",
       "<!-- 140628928946160&#45;&gt;140628928946208 -->\n",
       "<g id=\"edge4\" class=\"edge\">\n",
       "<title>140628928946160&#45;&gt;140628928946208</title>\n",
       "<path fill=\"none\" stroke=\"black\" d=\"M151.42,-121.75C143.41,-114.03 131.54,-102.6 121.88,-93.28\"/>\n",
       "<polygon fill=\"black\" stroke=\"black\" points=\"124.04,-90.51 114.41,-86.09 119.19,-95.55 124.04,-90.51\"/>\n",
       "</g>\n",
       "<!-- 140628930470160 -->\n",
       "<g id=\"node7\" class=\"node\">\n",
       "<title>140628930470160</title>\n",
       "<polygon fill=\"lightblue\" stroke=\"black\" points=\"187.5,-208 133.5,-208 133.5,-177 187.5,-177 187.5,-208\"/>\n",
       "<text text-anchor=\"middle\" x=\"160.5\" y=\"-184\" font-family=\"monospace\" font-size=\"10.00\"> (1)</text>\n",
       "</g>\n",
       "<!-- 140628930470160&#45;&gt;140628928946160 -->\n",
       "<g id=\"edge5\" class=\"edge\">\n",
       "<title>140628930470160&#45;&gt;140628928946160</title>\n",
       "<path fill=\"none\" stroke=\"black\" d=\"M160.5,-176.92C160.5,-169.22 160.5,-159.69 160.5,-151.43\"/>\n",
       "<polygon fill=\"black\" stroke=\"black\" points=\"164,-151.25 160.5,-141.25 157,-151.25 164,-151.25\"/>\n",
       "</g>\n",
       "</g>\n",
       "</svg>\n"
      ],
      "text/plain": [
       "<graphviz.graphs.Digraph at 0x7fe6bb34b850>"
      ]
     },
     "execution_count": 67,
     "metadata": {},
     "output_type": "execute_result"
    }
   ],
   "source": [
    "from torchviz import make_dot\n",
    "make_dot(ps, params={\"ps\": x})"
   ]
  },
  {
   "cell_type": "code",
   "execution_count": 68,
   "id": "5df5fa95-b18a-480a-bc47-66b63c61691f",
   "metadata": {},
   "outputs": [],
   "source": [
    "def train_epoch(model, lr, params):\n",
    "    for xb, yb in dl:\n",
    "        calc_grad(xb, yb, model, weights, bias)\n",
    "        for p in params:\n",
    "            p.data -= p.grad * lr\n",
    "            p.grad.zero_()"
   ]
  },
  {
   "cell_type": "code",
   "execution_count": 69,
   "id": "775b76b5-c8c4-475e-88ac-6801a6ec0a95",
   "metadata": {},
   "outputs": [],
   "source": [
    "def batch_accuracy(xb, yb):\n",
    "    preds = xb.sigmoid()\n",
    "    correct = (preds>0.5) == yb\n",
    "    return correct.float().mean()"
   ]
  },
  {
   "cell_type": "code",
   "execution_count": 70,
   "id": "14515ddb-82d2-48e2-b8b8-fd2c1312fcc4",
   "metadata": {},
   "outputs": [],
   "source": [
    "def validate_epoch(model):\n",
    "    accs = [batch_accuracy(model(xb, weights, bias), yb) for xb, yb in valid_dl]\n",
    "    return round(fva.torch.stack(accs).mean().item(), 4)"
   ]
  },
  {
   "cell_type": "code",
   "execution_count": 71,
   "id": "d73dae3b-3ed9-4fe1-bce8-71dd2515ac96",
   "metadata": {},
   "outputs": [
    {
     "name": "stdout",
     "output_type": "stream",
     "text": [
      "0.4831 0.4846 0.4911 0.4931 0.4985 0.503 0.5054 0.5069 0.5079 0.5109 0.5128 0.5133 0.5148 0.5158 0.5168 0.5177 0.5188 0.5198 0.5207 0.5217 0.5217 0.5217 0.5246 0.5256 0.5276 0.5281 0.5295 0.53 0.531 0.5325 0.5344 0.5364 0.5379 0.5388 0.5403 0.5408 0.5413 0.5437 0.5472 0.552 0.5545 0.555 0.5579 0.5589 0.5613 0.5647 0.5667 0.5682 0.5696 0.5735 0.5769 0.5813 0.5882 0.5901 0.596 0.6013 0.6092 0.612 0.6155 0.6213 0.6291 0.634 0.6403 0.6443 0.6516 0.6623 0.6692 0.6789 0.6862 0.6975 0.7058 0.7106 0.7199 0.7302 0.738 0.7462 0.7531 0.757 0.7682 0.7741 0.7824 0.7887 0.7955 0.8009 0.8058 0.8121 0.818 0.8234 0.8273 0.8312 0.8385 0.8419 0.8449 0.8493 0.8542 0.8576 0.8596 0.861 0.8649 0.8688 0.8727 0.8742 0.8757 0.8781 0.8796 0.8815 0.8835 0.884 0.8854 0.8874 0.8899 0.8913 0.8928 0.8933 0.8943 0.8952 0.8962 0.8977 0.8992 0.9006 0.9021 0.9026 0.9026 0.9045 0.905 0.9055 0.906 0.907 0.9079 0.9104 0.9109 0.9109 0.9109 0.9114 0.9109 0.9114 0.9133 0.9148 0.9143 0.9168 0.9178 0.9182 0.9192 0.9187 0.9192 0.9207 0.9207 0.9207 0.9212 0.9222 0.9222 0.9231 0.9241 0.9246 0.9256 0.9261 0.9261 0.9261 0.9266 0.9266 0.927 0.9275 0.928 0.9285 0.929 0.9295 0.9295 0.9295 0.9305 0.931 0.9315 0.9315 0.9315 0.9315 0.932 0.932 0.932 0.932 0.9325 0.9325 0.9335 0.9344 0.9349 0.9354 0.9354 0.9359 0.9374 0.9374 0.9374 0.9378 0.9383 0.9393 0.9393 0.9398 0.9403 0.9403 0.9408 0.9413 0.9418 0.9423 "
     ]
    }
   ],
   "source": [
    "lr1 = 0.01\n",
    "params = weights, bias\n",
    "for i in range(200):\n",
    "    train_epoch(linear1, lr1, params)\n",
    "    print(validate_epoch(linear1), end=' ')"
   ]
  },
  {
   "cell_type": "code",
   "execution_count": 72,
   "id": "1e1bbf3a-cffd-4a1c-b6fd-7a774bd28a80",
   "metadata": {},
   "outputs": [],
   "source": [
    "dls = fva.DataLoaders(dl, valid_dl)"
   ]
  },
  {
   "cell_type": "code",
   "execution_count": 73,
   "id": "25a931e9-4fc0-4fc6-8560-526e2444ee28",
   "metadata": {},
   "outputs": [],
   "source": [
    "simple_net = fva.nn.Sequential(\n",
    "    fva.nn.Linear(28*28, 30),\n",
    "    fva.nn.ReLU(),\n",
    "    fva.nn.Linear(30, 1)\n",
    ")"
   ]
  },
  {
   "cell_type": "code",
   "execution_count": 74,
   "id": "b7e0f51d-ae74-44d2-969e-4e97aac4e526",
   "metadata": {},
   "outputs": [],
   "source": [
    "learn = fva.Learner(dls, simple_net, opt_func=fva.SGD,\n",
    "                loss_func=mnist_loss, metrics=batch_accuracy)"
   ]
  },
  {
   "cell_type": "code",
   "execution_count": 75,
   "id": "f104b3ac-ab91-4d6b-ad3a-db996b18fe97",
   "metadata": {},
   "outputs": [
    {
     "data": {
      "text/html": [
       "\n",
       "<style>\n",
       "    /* Turns off some styling */\n",
       "    progress {\n",
       "        /* gets rid of default border in Firefox and Opera. */\n",
       "        border: none;\n",
       "        /* Needs to be in here for Safari polyfill so background images work as expected. */\n",
       "        background-size: auto;\n",
       "    }\n",
       "    progress:not([value]), progress:not([value])::-webkit-progress-bar {\n",
       "        background: repeating-linear-gradient(45deg, #7e7e7e, #7e7e7e 10px, #5c5c5c 10px, #5c5c5c 20px);\n",
       "    }\n",
       "    .progress-bar-interrupted, .progress-bar-interrupted::-webkit-progress-bar {\n",
       "        background: #F44336;\n",
       "    }\n",
       "</style>\n"
      ],
      "text/plain": [
       "<IPython.core.display.HTML object>"
      ]
     },
     "metadata": {},
     "output_type": "display_data"
    },
    {
     "data": {
      "text/html": [
       "<table border=\"1\" class=\"dataframe\">\n",
       "  <thead>\n",
       "    <tr style=\"text-align: left;\">\n",
       "      <th>epoch</th>\n",
       "      <th>train_loss</th>\n",
       "      <th>valid_loss</th>\n",
       "      <th>batch_accuracy</th>\n",
       "      <th>time</th>\n",
       "    </tr>\n",
       "  </thead>\n",
       "  <tbody>\n",
       "    <tr>\n",
       "      <td>0</td>\n",
       "      <td>0.308586</td>\n",
       "      <td>0.419751</td>\n",
       "      <td>0.504416</td>\n",
       "      <td>00:00</td>\n",
       "    </tr>\n",
       "    <tr>\n",
       "      <td>1</td>\n",
       "      <td>0.148193</td>\n",
       "      <td>0.227570</td>\n",
       "      <td>0.805692</td>\n",
       "      <td>00:00</td>\n",
       "    </tr>\n",
       "    <tr>\n",
       "      <td>2</td>\n",
       "      <td>0.082313</td>\n",
       "      <td>0.114715</td>\n",
       "      <td>0.917076</td>\n",
       "      <td>00:00</td>\n",
       "    </tr>\n",
       "    <tr>\n",
       "      <td>3</td>\n",
       "      <td>0.054193</td>\n",
       "      <td>0.077688</td>\n",
       "      <td>0.939647</td>\n",
       "      <td>00:00</td>\n",
       "    </tr>\n",
       "    <tr>\n",
       "      <td>4</td>\n",
       "      <td>0.041118</td>\n",
       "      <td>0.060835</td>\n",
       "      <td>0.956330</td>\n",
       "      <td>00:00</td>\n",
       "    </tr>\n",
       "    <tr>\n",
       "      <td>5</td>\n",
       "      <td>0.034415</td>\n",
       "      <td>0.051357</td>\n",
       "      <td>0.964181</td>\n",
       "      <td>00:00</td>\n",
       "    </tr>\n",
       "    <tr>\n",
       "      <td>6</td>\n",
       "      <td>0.030549</td>\n",
       "      <td>0.045356</td>\n",
       "      <td>0.966143</td>\n",
       "      <td>00:00</td>\n",
       "    </tr>\n",
       "    <tr>\n",
       "      <td>7</td>\n",
       "      <td>0.028026</td>\n",
       "      <td>0.041242</td>\n",
       "      <td>0.966634</td>\n",
       "      <td>00:00</td>\n",
       "    </tr>\n",
       "    <tr>\n",
       "      <td>8</td>\n",
       "      <td>0.026203</td>\n",
       "      <td>0.038244</td>\n",
       "      <td>0.968597</td>\n",
       "      <td>00:00</td>\n",
       "    </tr>\n",
       "    <tr>\n",
       "      <td>9</td>\n",
       "      <td>0.024788</td>\n",
       "      <td>0.035955</td>\n",
       "      <td>0.971050</td>\n",
       "      <td>00:00</td>\n",
       "    </tr>\n",
       "    <tr>\n",
       "      <td>10</td>\n",
       "      <td>0.023641</td>\n",
       "      <td>0.034140</td>\n",
       "      <td>0.971541</td>\n",
       "      <td>00:00</td>\n",
       "    </tr>\n",
       "    <tr>\n",
       "      <td>11</td>\n",
       "      <td>0.022685</td>\n",
       "      <td>0.032656</td>\n",
       "      <td>0.972031</td>\n",
       "      <td>00:00</td>\n",
       "    </tr>\n",
       "    <tr>\n",
       "      <td>12</td>\n",
       "      <td>0.021872</td>\n",
       "      <td>0.031412</td>\n",
       "      <td>0.973013</td>\n",
       "      <td>00:00</td>\n",
       "    </tr>\n",
       "    <tr>\n",
       "      <td>13</td>\n",
       "      <td>0.021169</td>\n",
       "      <td>0.030345</td>\n",
       "      <td>0.975466</td>\n",
       "      <td>00:00</td>\n",
       "    </tr>\n",
       "    <tr>\n",
       "      <td>14</td>\n",
       "      <td>0.020555</td>\n",
       "      <td>0.029417</td>\n",
       "      <td>0.975957</td>\n",
       "      <td>00:00</td>\n",
       "    </tr>\n",
       "    <tr>\n",
       "      <td>15</td>\n",
       "      <td>0.020010</td>\n",
       "      <td>0.028600</td>\n",
       "      <td>0.976448</td>\n",
       "      <td>00:00</td>\n",
       "    </tr>\n",
       "    <tr>\n",
       "      <td>16</td>\n",
       "      <td>0.019522</td>\n",
       "      <td>0.027872</td>\n",
       "      <td>0.977429</td>\n",
       "      <td>00:00</td>\n",
       "    </tr>\n",
       "    <tr>\n",
       "      <td>17</td>\n",
       "      <td>0.019083</td>\n",
       "      <td>0.027217</td>\n",
       "      <td>0.977920</td>\n",
       "      <td>00:00</td>\n",
       "    </tr>\n",
       "    <tr>\n",
       "      <td>18</td>\n",
       "      <td>0.018685</td>\n",
       "      <td>0.026626</td>\n",
       "      <td>0.977920</td>\n",
       "      <td>00:00</td>\n",
       "    </tr>\n",
       "    <tr>\n",
       "      <td>19</td>\n",
       "      <td>0.018320</td>\n",
       "      <td>0.026089</td>\n",
       "      <td>0.978901</td>\n",
       "      <td>00:00</td>\n",
       "    </tr>\n",
       "    <tr>\n",
       "      <td>20</td>\n",
       "      <td>0.017985</td>\n",
       "      <td>0.025599</td>\n",
       "      <td>0.979392</td>\n",
       "      <td>00:00</td>\n",
       "    </tr>\n",
       "    <tr>\n",
       "      <td>21</td>\n",
       "      <td>0.017674</td>\n",
       "      <td>0.025149</td>\n",
       "      <td>0.979882</td>\n",
       "      <td>00:00</td>\n",
       "    </tr>\n",
       "    <tr>\n",
       "      <td>22</td>\n",
       "      <td>0.017387</td>\n",
       "      <td>0.024735</td>\n",
       "      <td>0.979882</td>\n",
       "      <td>00:00</td>\n",
       "    </tr>\n",
       "    <tr>\n",
       "      <td>23</td>\n",
       "      <td>0.017118</td>\n",
       "      <td>0.024353</td>\n",
       "      <td>0.980373</td>\n",
       "      <td>00:00</td>\n",
       "    </tr>\n",
       "    <tr>\n",
       "      <td>24</td>\n",
       "      <td>0.016867</td>\n",
       "      <td>0.023998</td>\n",
       "      <td>0.981354</td>\n",
       "      <td>00:00</td>\n",
       "    </tr>\n",
       "    <tr>\n",
       "      <td>25</td>\n",
       "      <td>0.016631</td>\n",
       "      <td>0.023668</td>\n",
       "      <td>0.981354</td>\n",
       "      <td>00:00</td>\n",
       "    </tr>\n",
       "    <tr>\n",
       "      <td>26</td>\n",
       "      <td>0.016410</td>\n",
       "      <td>0.023361</td>\n",
       "      <td>0.981354</td>\n",
       "      <td>00:00</td>\n",
       "    </tr>\n",
       "    <tr>\n",
       "      <td>27</td>\n",
       "      <td>0.016200</td>\n",
       "      <td>0.023075</td>\n",
       "      <td>0.981354</td>\n",
       "      <td>00:00</td>\n",
       "    </tr>\n",
       "    <tr>\n",
       "      <td>28</td>\n",
       "      <td>0.016002</td>\n",
       "      <td>0.022807</td>\n",
       "      <td>0.981354</td>\n",
       "      <td>00:00</td>\n",
       "    </tr>\n",
       "    <tr>\n",
       "      <td>29</td>\n",
       "      <td>0.015814</td>\n",
       "      <td>0.022557</td>\n",
       "      <td>0.981354</td>\n",
       "      <td>00:00</td>\n",
       "    </tr>\n",
       "    <tr>\n",
       "      <td>30</td>\n",
       "      <td>0.015635</td>\n",
       "      <td>0.022323</td>\n",
       "      <td>0.981354</td>\n",
       "      <td>00:00</td>\n",
       "    </tr>\n",
       "    <tr>\n",
       "      <td>31</td>\n",
       "      <td>0.015465</td>\n",
       "      <td>0.022103</td>\n",
       "      <td>0.981845</td>\n",
       "      <td>00:00</td>\n",
       "    </tr>\n",
       "    <tr>\n",
       "      <td>32</td>\n",
       "      <td>0.015303</td>\n",
       "      <td>0.021897</td>\n",
       "      <td>0.981845</td>\n",
       "      <td>00:00</td>\n",
       "    </tr>\n",
       "    <tr>\n",
       "      <td>33</td>\n",
       "      <td>0.015148</td>\n",
       "      <td>0.021703</td>\n",
       "      <td>0.982336</td>\n",
       "      <td>00:00</td>\n",
       "    </tr>\n",
       "    <tr>\n",
       "      <td>34</td>\n",
       "      <td>0.015000</td>\n",
       "      <td>0.021520</td>\n",
       "      <td>0.982826</td>\n",
       "      <td>00:00</td>\n",
       "    </tr>\n",
       "    <tr>\n",
       "      <td>35</td>\n",
       "      <td>0.014857</td>\n",
       "      <td>0.021348</td>\n",
       "      <td>0.983317</td>\n",
       "      <td>00:00</td>\n",
       "    </tr>\n",
       "    <tr>\n",
       "      <td>36</td>\n",
       "      <td>0.014720</td>\n",
       "      <td>0.021185</td>\n",
       "      <td>0.983317</td>\n",
       "      <td>00:00</td>\n",
       "    </tr>\n",
       "    <tr>\n",
       "      <td>37</td>\n",
       "      <td>0.014589</td>\n",
       "      <td>0.021031</td>\n",
       "      <td>0.983317</td>\n",
       "      <td>00:00</td>\n",
       "    </tr>\n",
       "    <tr>\n",
       "      <td>38</td>\n",
       "      <td>0.014462</td>\n",
       "      <td>0.020885</td>\n",
       "      <td>0.983317</td>\n",
       "      <td>00:00</td>\n",
       "    </tr>\n",
       "    <tr>\n",
       "      <td>39</td>\n",
       "      <td>0.014339</td>\n",
       "      <td>0.020747</td>\n",
       "      <td>0.983317</td>\n",
       "      <td>00:00</td>\n",
       "    </tr>\n",
       "  </tbody>\n",
       "</table>"
      ],
      "text/plain": [
       "<IPython.core.display.HTML object>"
      ]
     },
     "metadata": {},
     "output_type": "display_data"
    }
   ],
   "source": [
    "learn.fit(40, 0.1)"
   ]
  },
  {
   "cell_type": "code",
   "execution_count": 76,
   "id": "e515985c-c4ec-44a1-b8ef-11d73121273c",
   "metadata": {},
   "outputs": [
    {
     "data": {
      "text/plain": [
       "[<matplotlib.lines.Line2D at 0x7fe6b95254b0>]"
      ]
     },
     "execution_count": 76,
     "metadata": {},
     "output_type": "execute_result"
    },
    {
     "data": {
      "image/png": "[encoded data removed]",
      "text/plain": [
       "<Figure size 640x480 with 1 Axes>"
      ]
     },
     "metadata": {},
     "output_type": "display_data"
    }
   ],
   "source": [
    "fva.plt.plot(fva.L(learn.recorder.values).itemgot(2))"
   ]
  },
  {
   "cell_type": "code",
   "execution_count": null,
   "id": "66fd1144-0627-4048-a53c-8e6385ac20c5",
   "metadata": {},
   "outputs": [],
   "source": []
  }
 ],
 "metadata": {
  "kernelspec": {
   "display_name": "Python 3 (ipykernel)",
   "language": "python",
   "name": "python3"
  },
  "language_info": {
   "codemirror_mode": {
    "name": "ipython",
    "version": 3
   },
   "file_extension": ".py",
   "mimetype": "text/x-python",
   "name": "python",
   "nbconvert_exporter": "python",
   "pygments_lexer": "ipython3",
   "version": "3.10.14"
  }
 },
 "nbformat": 4,
 "nbformat_minor": 5
}
