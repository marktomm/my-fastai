{
 "cells": [
  {
   "cell_type": "code",
   "execution_count": 94,
   "id": "a53e7453-33fa-4b6d-8f2c-b3f2acc6841a",
   "metadata": {},
   "outputs": [],
   "source": [
    "from fastbook import urlread, URLError, HTTPError, json, L, time\n",
    "def search_images_ddg(term, max_images=200):\n",
    "    \"Search for `term` with DuckDuckGo and return a unique urls of about `max_images` images\"\n",
    "    assert max_images<1000\n",
    "    url = 'https://duckduckgo.com/'\n",
    "    res = urlread(url,data={'q':term})\n",
    "    searchObj = re.search(r'vqd=([\\d-]+)\\&', res)\n",
    "    assert searchObj\n",
    "    requestUrl = url + 'i.js'\n",
    "    params = dict(l='us-en', o='json', q=term, vqd=searchObj.group(1), f=',,,', p='1', v7exp='a')\n",
    "    urls,data = set(),{'next':1}\n",
    "    headers = dict(referer='https://duckduckgo.com/')\n",
    "    while len(urls)<max_images and 'next' in data:\n",
    "        try:\n",
    "            res = urlread(requestUrl, data=params, headers=headers)\n",
    "            data = json.loads(res) if res else {}\n",
    "            urls.update(L(data['results']).itemgot('image'))\n",
    "            requestUrl = url + data['next']\n",
    "            # print(f'data: {requestUrl}\\n')\n",
    "        except (URLError, HTTPError, KeyError, ValueError): break# pass\n",
    "        time.sleep(1)\n",
    "    return L(urls)[:max_images]\n",
    "    \n",
    "def search_images(term, max_images=20):\n",
    "    return search_images_ddg(term, max_images);"
   ]
  },
  {
   "cell_type": "code",
   "execution_count": null,
   "id": "226ceddc-8947-4634-bd71-b4ca4f670b80",
   "metadata": {},
   "outputs": [],
   "source": [
    "urls = search_images('store receipt photos', 10)\n",
    "urls[1]"
   ]
  },
  {
   "cell_type": "code",
   "execution_count": 84,
   "id": "92956a62-12f7-4b5f-a4e3-4666ecf0ec06",
   "metadata": {},
   "outputs": [
    {
     "data": {
      "text/plain": [
       "(#7) [Path('labels'),Path('receipt.jpg'),Path('images_done'),Path('receipts.tar.gz'),Path('.ipynb_checkpoints'),Path('via.json'),Path('images')]"
      ]
     },
     "execution_count": 84,
     "metadata": {},
     "output_type": "execute_result"
    }
   ],
   "source": [
    "from fastai.vision.all import Path\n",
    "receipts_path = Path('./receipts')\n",
    "Path.BASE_PATH = receipts_path\n",
    "receipts_path.ls()"
   ]
  },
  {
   "cell_type": "code",
   "execution_count": 73,
   "id": "d54e3303-5359-41c2-8c15-78969833b164",
   "metadata": {},
   "outputs": [
    {
     "name": "stdout",
     "output_type": "stream",
     "text": [
      "skipping\n"
     ]
    }
   ],
   "source": [
    "%%script echo skipping\n",
    "from fastdownload import download_url\n",
    "dest = (receipts_path / 'receipt.jpg')"
   ]
  },
  {
   "cell_type": "code",
   "execution_count": null,
   "id": "73c34a57-e4ab-4b57-bd88-3bf2a74efce3",
   "metadata": {},
   "outputs": [],
   "source": [
    "%%script echo skipping\n",
    "download_url(urls[1], dest, show_progress=False)"
   ]
  },
  {
   "cell_type": "code",
   "execution_count": 85,
   "id": "f7e4c435-97e2-4d71-b311-605f1df3c6cf",
   "metadata": {},
   "outputs": [],
   "source": [
    "path = Path.BASE_PATH\n",
    "dest = (path / 'images')\n",
    "dest.mkdir(exist_ok=True, parents=True)"
   ]
  },
  {
   "cell_type": "code",
   "execution_count": 76,
   "id": "26efb0b0-b681-428c-9ac5-7e734731458a",
   "metadata": {},
   "outputs": [
    {
     "name": "stdout",
     "output_type": "stream",
     "text": [
      "data: https://duckduckgo.com/i.js?q=store%20receipt%20photo&o=json&p=1&s=100&u=bing&f=,,,&l=us-en\n",
      "\n",
      "data: https://duckduckgo.com/i.js?q=store%20receipt%20photo&o=json&p=1&s=200&u=bing&f=,,,&l=us-en\n",
      "\n",
      "data: https://duckduckgo.com/i.js?q=store%20receipt%20photo&o=json&p=1&s=300&u=bing&f=,,,&l=us-en\n",
      "\n",
      "data: https://duckduckgo.com/i.js?q=store%20receipt%20photo&o=json&p=1&s=400&u=bing&f=,,,&l=us-en\n",
      "\n"
     ]
    }
   ],
   "source": [
    "from fastai.vision.all import download_images\n",
    "download_images(dest, urls=search_images(f'store receipt photo', 299))"
   ]
  },
  {
   "cell_type": "code",
   "execution_count": 101,
   "id": "88743fdd-a188-47e7-b0c3-59c1be933706",
   "metadata": {},
   "outputs": [
    {
     "data": {
      "text/plain": [
       "0"
      ]
     },
     "execution_count": 101,
     "metadata": {},
     "output_type": "execute_result"
    }
   ],
   "source": [
    "from fastai.vision.all import verify_images, get_image_files\n",
    "\n",
    "failed = verify_images(get_image_files(dest))\n",
    "failed.map(Path.unlink)\n",
    "len(failed)"
   ]
  },
  {
   "cell_type": "code",
   "execution_count": 97,
   "id": "c23f6ca4-7baa-4f39-8d1b-49d194d4e4c8",
   "metadata": {},
   "outputs": [],
   "source": [
    "import os\n",
    "from PIL import Image\n",
    "import imagehash\n",
    "from datetime import datetime\n",
    "\n",
    "def find_duplicate_images(dir_path, remove_duplicates=False, delete_only_today=True, verbose=True):\n",
    "    # Dictionary to store hash values and their corresponding file paths\n",
    "    hash_dict = {}\n",
    "    today = datetime.now().date()\n",
    "    \n",
    "    def is_file_today(file_path):\n",
    "        # Get the file's modification date\n",
    "        mod_time = datetime.fromtimestamp(os.path.getmtime(file_path)).date()\n",
    "        return mod_time == today\n",
    "\n",
    "    def get_file_mod_time(file_path):\n",
    "        # Get the file's modification timestamp\n",
    "        return os.path.getmtime(file_path)\n",
    "    \n",
    "    # Walk through the directory\n",
    "    for root, _, files in os.walk(dir_path):\n",
    "        for file in files:\n",
    "            if file.lower().endswith(('png', 'jpg', 'jpeg', 'gif', 'bmp', 'tiff')):\n",
    "                file_path = os.path.join(root, file)\n",
    "                \n",
    "                # Open the image file and compute its hash\n",
    "                try:\n",
    "                    with Image.open(file_path) as img:\n",
    "                        img_hash = imagehash.phash(img)\n",
    "                except Exception as e:\n",
    "                    print(f\"Error processing {file_path}: {e}\")\n",
    "                    continue\n",
    "                \n",
    "                # Check if the hash value already exists in the dictionary\n",
    "                if img_hash in hash_dict:\n",
    "                    existing_file_path = hash_dict[img_hash]\n",
    "                    if verbose: print(f\"Duplicate found: {file_path} and {existing_file_path}\")\n",
    "                    \n",
    "                    if remove_duplicates:\n",
    "                        file_path_mod_time = get_file_mod_time(file_path)\n",
    "                        existing_file_mod_time = get_file_mod_time(existing_file_path)\n",
    "                        \n",
    "                        if delete_only_today:\n",
    "                            if is_file_today(file_path) and is_file_today(existing_file_path):\n",
    "                                if file_path_mod_time > existing_file_mod_time:\n",
    "                                    file_to_remove = file_path\n",
    "                                    file_to_keep = existing_file_path\n",
    "                                else:\n",
    "                                    file_to_remove = existing_file_path\n",
    "                                    file_to_keep = file_path\n",
    "                            elif is_file_today(file_path):\n",
    "                                file_to_remove = file_path\n",
    "                                file_to_keep = existing_file_path\n",
    "                            elif is_file_today(existing_file_path):\n",
    "                                file_to_remove = existing_file_path\n",
    "                                file_to_keep = file_path\n",
    "                            else:\n",
    "                                continue\n",
    "                        else:\n",
    "                            if file_path_mod_time > existing_file_mod_time:\n",
    "                                file_to_remove = file_path\n",
    "                                file_to_keep = existing_file_path\n",
    "                            else:\n",
    "                                file_to_remove = existing_file_path\n",
    "                                file_to_keep = file_path\n",
    "                        \n",
    "                        try:\n",
    "                            os.remove(file_to_remove)\n",
    "                            if verbose: print(f\"Removed: {file_to_remove}\")\n",
    "                            hash_dict[img_hash] = file_to_keep  # Update the dictionary with the kept file path\n",
    "                        except Exception as e:\n",
    "                            print(f\"Error removing {file_to_remove}: {e}\")\n",
    "                else:\n",
    "                    hash_dict[img_hash] = file_path"
   ]
  },
  {
   "cell_type": "code",
   "execution_count": 102,
   "id": "22e953eb-1313-46d0-85be-4bdd6afa9625",
   "metadata": {},
   "outputs": [],
   "source": [
    "%%capture\n",
    "dir_path = dest\n",
    "find_duplicate_images(dir_path, remove_duplicates=True, delete_only_today=True, verbose=False)"
   ]
  },
  {
   "cell_type": "code",
   "execution_count": 88,
   "id": "5484de03-c375-48ee-ac96-b7a9e62226cd",
   "metadata": {},
   "outputs": [],
   "source": [
    "import os\n",
    "import re\n",
    "\n",
    "def find_highest_number(dir_path, prefix):\n",
    "    highest_number = -1\n",
    "    # Compile a regex pattern using the given prefix\n",
    "    pattern = re.compile(rf'{re.escape(prefix)}(\\d+)\\.(png|jpg|jpeg|gif|bmp|tiff|PNG|JPG|JPEG|GIF|BMP|TIFF)$')\n",
    "\n",
    "    for root, _, files in os.walk(dir_path):\n",
    "        for file in files:\n",
    "            match = pattern.match(file)\n",
    "            if match:\n",
    "                number = int(match.group(1))\n",
    "                if number > highest_number:\n",
    "                    highest_number = number\n",
    "\n",
    "    return highest_number"
   ]
  },
  {
   "cell_type": "code",
   "execution_count": 103,
   "id": "477d1e22-f3f7-4570-8cf9-2d14a059639b",
   "metadata": {},
   "outputs": [
    {
     "name": "stdout",
     "output_type": "stream",
     "text": [
      "The highest number with prefix 'receipt_' is: 723\n"
     ]
    }
   ],
   "source": [
    "dir_path = dest\n",
    "prefix = 'receipt_'\n",
    "highest_index = find_highest_number(dir_path, prefix)\n",
    "print(f\"The highest number with prefix '{prefix}' is: {highest_index}\")"
   ]
  },
  {
   "cell_type": "code",
   "execution_count": 89,
   "id": "3cdb22ff-2ed9-4bd7-bf3c-e4cf9176994f",
   "metadata": {},
   "outputs": [],
   "source": [
    "def rename_new_images(it, dest, prefix):\n",
    "    image_files = get_image_files(dest)\n",
    "    \n",
    "    # Loop through each file and rename it\n",
    "    for x in image_files:\n",
    "        if not x.name.startswith(prefix):\n",
    "            new_name = x.parent / (prefix + str(it) + x.suffix)\n",
    "            x.rename(new_name)\n",
    "            it += 1"
   ]
  },
  {
   "cell_type": "code",
   "execution_count": 104,
   "id": "cb1c4953-3025-4c2e-81dd-361296eb6939",
   "metadata": {},
   "outputs": [],
   "source": [
    "rename_new_images(highest_index + 1, dest, prefix)"
   ]
  },
  {
   "cell_type": "code",
   "execution_count": 98,
   "id": "85b09757-c45c-48dd-b29e-9e43b50564ec",
   "metadata": {},
   "outputs": [],
   "source": [
    "from fastai.vision.all import (download_images,\n",
    "                                verify_images, \n",
    "                                get_image_files,\n",
    "                                Path)\n",
    "# search_images_ddg redefined previously\n",
    "# find highest number\n",
    "# rename_new_images\n",
    "\n",
    "def auto_scrape(dest, search_terms, result_prefix, search_img_count=299):\n",
    "    download_images(dest, urls=search_images(f'{search_terms}', search_img_count))\n",
    "    \n",
    "    failed = verify_images(get_image_files(dest))\n",
    "    failed.map(Path.unlink)\n",
    "    print(f'invalid file count: {len(failed)}')\n",
    "\n",
    "    find_duplicate_images(dest, remove_duplicates=True, delete_only_today=True, verbose=False)\n",
    "\n",
    "    highest_index = find_highest_number(dest, result_prefix)\n",
    "    print(f\"The highest number with prefix '{result_prefix}' is: {highest_index}\")\n",
    "    rename_new_images(highest_index + 1, dest, result_prefix)"
   ]
  },
  {
   "cell_type": "code",
   "execution_count": 99,
   "id": "dbb4a9cb-7033-4dc2-b994-4fa8ec892678",
   "metadata": {},
   "outputs": [
    {
     "name": "stdout",
     "output_type": "stream",
     "text": [
      "invalid file count: 41\n",
      "The highest number with prefix 'receipt_' is: 663\n"
     ]
    }
   ],
   "source": [
    "auto_scrape(dest, 'store receipt photos', 'receipt_')"
   ]
  },
  {
   "cell_type": "code",
   "execution_count": 100,
   "id": "5b75137c-5236-41a4-b708-23732866b53c",
   "metadata": {},
   "outputs": [
    {
     "name": "stdout",
     "output_type": "stream",
     "text": [
      "invalid file count: 44\n",
      "The highest number with prefix 'receipt_' is: 677\n",
      "invalid file count: 48\n",
      "The highest number with prefix 'receipt_' is: 688\n",
      "invalid file count: 46\n",
      "The highest number with prefix 'receipt_' is: 699\n",
      "invalid file count: 38\n",
      "The highest number with prefix 'receipt_' is: 704\n",
      "invalid file count: 37\n",
      "The highest number with prefix 'receipt_' is: 710\n",
      "invalid file count: 36\n",
      "The highest number with prefix 'receipt_' is: 712\n",
      "invalid file count: 35\n",
      "The highest number with prefix 'receipt_' is: 717\n",
      "invalid file count: 39\n",
      "The highest number with prefix 'receipt_' is: 721\n",
      "invalid file count: 40\n",
      "The highest number with prefix 'receipt_' is: 721\n",
      "invalid file count: 40\n",
      "The highest number with prefix 'receipt_' is: 723\n",
      "invalid file count: 38\n",
      "The highest number with prefix 'receipt_' is: 723\n",
      "invalid file count: 39\n",
      "The highest number with prefix 'receipt_' is: 723\n",
      "invalid file count: 40\n",
      "The highest number with prefix 'receipt_' is: 723\n",
      "invalid file count: 37\n",
      "The highest number with prefix 'receipt_' is: 723\n",
      "invalid file count: 38\n",
      "The highest number with prefix 'receipt_' is: 723\n",
      "invalid file count: 34\n",
      "The highest number with prefix 'receipt_' is: 723\n",
      "invalid file count: 43\n",
      "The highest number with prefix 'receipt_' is: 723\n",
      "invalid file count: 40\n",
      "The highest number with prefix 'receipt_' is: 723\n",
      "invalid file count: 36\n"
     ]
    },
    {
     "ename": "KeyboardInterrupt",
     "evalue": "",
     "output_type": "error",
     "traceback": [
      "\u001b[0;31m---------------------------------------------------------------------------\u001b[0m",
      "\u001b[0;31mKeyboardInterrupt\u001b[0m                         Traceback (most recent call last)",
      "Cell \u001b[0;32mIn[100], line 1\u001b[0m\n\u001b[0;32m----> 1\u001b[0m \u001b[38;5;28;01mwhile\u001b[39;00m \u001b[38;5;28;01mTrue\u001b[39;00m: auto_scrape(dest, \u001b[38;5;124m'\u001b[39m\u001b[38;5;124mstore receipt photos\u001b[39m\u001b[38;5;124m'\u001b[39m, \u001b[38;5;124m'\u001b[39m\u001b[38;5;124mreceipt_\u001b[39m\u001b[38;5;124m'\u001b[39m)\n",
      "Cell \u001b[0;32mIn[98], line 16\u001b[0m, in \u001b[0;36mauto_scrape\u001b[0;34m(dest, search_terms, result_prefix, search_img_count)\u001b[0m\n\u001b[1;32m     13\u001b[0m failed\u001b[38;5;241m.\u001b[39mmap(Path\u001b[38;5;241m.\u001b[39munlink)\n\u001b[1;32m     14\u001b[0m \u001b[38;5;28mprint\u001b[39m(\u001b[38;5;124mf\u001b[39m\u001b[38;5;124m'\u001b[39m\u001b[38;5;124minvalid file count: \u001b[39m\u001b[38;5;132;01m{\u001b[39;00m\u001b[38;5;28mlen\u001b[39m(failed)\u001b[38;5;132;01m}\u001b[39;00m\u001b[38;5;124m'\u001b[39m)\n\u001b[0;32m---> 16\u001b[0m \u001b[43mfind_duplicate_images\u001b[49m\u001b[43m(\u001b[49m\u001b[43mdest\u001b[49m\u001b[43m,\u001b[49m\u001b[43m \u001b[49m\u001b[43mremove_duplicates\u001b[49m\u001b[38;5;241;43m=\u001b[39;49m\u001b[38;5;28;43;01mTrue\u001b[39;49;00m\u001b[43m,\u001b[49m\u001b[43m \u001b[49m\u001b[43mdelete_only_today\u001b[49m\u001b[38;5;241;43m=\u001b[39;49m\u001b[38;5;28;43;01mTrue\u001b[39;49;00m\u001b[43m,\u001b[49m\u001b[43m \u001b[49m\u001b[43mverbose\u001b[49m\u001b[38;5;241;43m=\u001b[39;49m\u001b[38;5;28;43;01mFalse\u001b[39;49;00m\u001b[43m)\u001b[49m\n\u001b[1;32m     18\u001b[0m highest_index \u001b[38;5;241m=\u001b[39m find_highest_number(dest, result_prefix)\n\u001b[1;32m     19\u001b[0m \u001b[38;5;28mprint\u001b[39m(\u001b[38;5;124mf\u001b[39m\u001b[38;5;124m\"\u001b[39m\u001b[38;5;124mThe highest number with prefix \u001b[39m\u001b[38;5;124m'\u001b[39m\u001b[38;5;132;01m{\u001b[39;00mresult_prefix\u001b[38;5;132;01m}\u001b[39;00m\u001b[38;5;124m'\u001b[39m\u001b[38;5;124m is: \u001b[39m\u001b[38;5;132;01m{\u001b[39;00mhighest_index\u001b[38;5;132;01m}\u001b[39;00m\u001b[38;5;124m\"\u001b[39m)\n",
      "Cell \u001b[0;32mIn[97], line 29\u001b[0m, in \u001b[0;36mfind_duplicate_images\u001b[0;34m(dir_path, remove_duplicates, delete_only_today, verbose)\u001b[0m\n\u001b[1;32m     27\u001b[0m \u001b[38;5;28;01mtry\u001b[39;00m:\n\u001b[1;32m     28\u001b[0m     \u001b[38;5;28;01mwith\u001b[39;00m Image\u001b[38;5;241m.\u001b[39mopen(file_path) \u001b[38;5;28;01mas\u001b[39;00m img:\n\u001b[0;32m---> 29\u001b[0m         img_hash \u001b[38;5;241m=\u001b[39m \u001b[43mimagehash\u001b[49m\u001b[38;5;241;43m.\u001b[39;49m\u001b[43mphash\u001b[49m\u001b[43m(\u001b[49m\u001b[43mimg\u001b[49m\u001b[43m)\u001b[49m\n\u001b[1;32m     30\u001b[0m \u001b[38;5;28;01mexcept\u001b[39;00m \u001b[38;5;167;01mException\u001b[39;00m \u001b[38;5;28;01mas\u001b[39;00m e:\n\u001b[1;32m     31\u001b[0m     \u001b[38;5;28mprint\u001b[39m(\u001b[38;5;124mf\u001b[39m\u001b[38;5;124m\"\u001b[39m\u001b[38;5;124mError processing \u001b[39m\u001b[38;5;132;01m{\u001b[39;00mfile_path\u001b[38;5;132;01m}\u001b[39;00m\u001b[38;5;124m: \u001b[39m\u001b[38;5;132;01m{\u001b[39;00me\u001b[38;5;132;01m}\u001b[39;00m\u001b[38;5;124m\"\u001b[39m)\n",
      "File \u001b[0;32m~/miniconda3/envs/py10/lib/python3.10/site-packages/imagehash/__init__.py:274\u001b[0m, in \u001b[0;36mphash\u001b[0;34m(image, hash_size, highfreq_factor)\u001b[0m\n\u001b[1;32m    272\u001b[0m \u001b[38;5;28;01mimport\u001b[39;00m \u001b[38;5;21;01mscipy\u001b[39;00m\u001b[38;5;21;01m.\u001b[39;00m\u001b[38;5;21;01mfftpack\u001b[39;00m\n\u001b[1;32m    273\u001b[0m img_size \u001b[38;5;241m=\u001b[39m hash_size \u001b[38;5;241m*\u001b[39m highfreq_factor\n\u001b[0;32m--> 274\u001b[0m image \u001b[38;5;241m=\u001b[39m \u001b[43mimage\u001b[49m\u001b[38;5;241;43m.\u001b[39;49m\u001b[43mconvert\u001b[49m\u001b[43m(\u001b[49m\u001b[38;5;124;43m'\u001b[39;49m\u001b[38;5;124;43mL\u001b[39;49m\u001b[38;5;124;43m'\u001b[39;49m\u001b[43m)\u001b[49m\u001b[38;5;241m.\u001b[39mresize((img_size, img_size), ANTIALIAS)\n\u001b[1;32m    275\u001b[0m pixels \u001b[38;5;241m=\u001b[39m numpy\u001b[38;5;241m.\u001b[39masarray(image)\n\u001b[1;32m    276\u001b[0m dct \u001b[38;5;241m=\u001b[39m scipy\u001b[38;5;241m.\u001b[39mfftpack\u001b[38;5;241m.\u001b[39mdct(scipy\u001b[38;5;241m.\u001b[39mfftpack\u001b[38;5;241m.\u001b[39mdct(pixels, axis\u001b[38;5;241m=\u001b[39m\u001b[38;5;241m0\u001b[39m), axis\u001b[38;5;241m=\u001b[39m\u001b[38;5;241m1\u001b[39m)\n",
      "File \u001b[0;32m~/miniconda3/envs/py10/lib/python3.10/site-packages/PIL/Image.py:941\u001b[0m, in \u001b[0;36mImage.convert\u001b[0;34m(self, mode, matrix, dither, palette, colors)\u001b[0m\n\u001b[1;32m    889\u001b[0m \u001b[38;5;28;01mdef\u001b[39;00m \u001b[38;5;21mconvert\u001b[39m(\n\u001b[1;32m    890\u001b[0m     \u001b[38;5;28mself\u001b[39m,\n\u001b[1;32m    891\u001b[0m     mode: \u001b[38;5;28mstr\u001b[39m \u001b[38;5;241m|\u001b[39m \u001b[38;5;28;01mNone\u001b[39;00m \u001b[38;5;241m=\u001b[39m \u001b[38;5;28;01mNone\u001b[39;00m,\n\u001b[0;32m   (...)\u001b[0m\n\u001b[1;32m    895\u001b[0m     colors: \u001b[38;5;28mint\u001b[39m \u001b[38;5;241m=\u001b[39m \u001b[38;5;241m256\u001b[39m,\n\u001b[1;32m    896\u001b[0m ) \u001b[38;5;241m-\u001b[39m\u001b[38;5;241m>\u001b[39m Image:\n\u001b[1;32m    897\u001b[0m \u001b[38;5;250m    \u001b[39m\u001b[38;5;124;03m\"\"\"\u001b[39;00m\n\u001b[1;32m    898\u001b[0m \u001b[38;5;124;03m    Returns a converted copy of this image. For the \"P\" mode, this\u001b[39;00m\n\u001b[1;32m    899\u001b[0m \u001b[38;5;124;03m    method translates pixels through the palette.  If mode is\u001b[39;00m\n\u001b[0;32m   (...)\u001b[0m\n\u001b[1;32m    938\u001b[0m \u001b[38;5;124;03m    :returns: An :py:class:`~PIL.Image.Image` object.\u001b[39;00m\n\u001b[1;32m    939\u001b[0m \u001b[38;5;124;03m    \"\"\"\u001b[39;00m\n\u001b[0;32m--> 941\u001b[0m     \u001b[38;5;28;43mself\u001b[39;49m\u001b[38;5;241;43m.\u001b[39;49m\u001b[43mload\u001b[49m\u001b[43m(\u001b[49m\u001b[43m)\u001b[49m\n\u001b[1;32m    943\u001b[0m     has_transparency \u001b[38;5;241m=\u001b[39m \u001b[38;5;124m\"\u001b[39m\u001b[38;5;124mtransparency\u001b[39m\u001b[38;5;124m\"\u001b[39m \u001b[38;5;129;01min\u001b[39;00m \u001b[38;5;28mself\u001b[39m\u001b[38;5;241m.\u001b[39minfo\n\u001b[1;32m    944\u001b[0m     \u001b[38;5;28;01mif\u001b[39;00m \u001b[38;5;129;01mnot\u001b[39;00m mode \u001b[38;5;129;01mand\u001b[39;00m \u001b[38;5;28mself\u001b[39m\u001b[38;5;241m.\u001b[39mmode \u001b[38;5;241m==\u001b[39m \u001b[38;5;124m\"\u001b[39m\u001b[38;5;124mP\u001b[39m\u001b[38;5;124m\"\u001b[39m:\n\u001b[1;32m    945\u001b[0m         \u001b[38;5;66;03m# determine default mode\u001b[39;00m\n",
      "File \u001b[0;32m~/miniconda3/envs/py10/lib/python3.10/site-packages/PIL/ImageFile.py:291\u001b[0m, in \u001b[0;36mImageFile.load\u001b[0;34m(self)\u001b[0m\n\u001b[1;32m    288\u001b[0m         \u001b[38;5;28;01mraise\u001b[39;00m \u001b[38;5;167;01mOSError\u001b[39;00m(msg)\n\u001b[1;32m    290\u001b[0m b \u001b[38;5;241m=\u001b[39m b \u001b[38;5;241m+\u001b[39m s\n\u001b[0;32m--> 291\u001b[0m n, err_code \u001b[38;5;241m=\u001b[39m \u001b[43mdecoder\u001b[49m\u001b[38;5;241;43m.\u001b[39;49m\u001b[43mdecode\u001b[49m\u001b[43m(\u001b[49m\u001b[43mb\u001b[49m\u001b[43m)\u001b[49m\n\u001b[1;32m    292\u001b[0m \u001b[38;5;28;01mif\u001b[39;00m n \u001b[38;5;241m<\u001b[39m \u001b[38;5;241m0\u001b[39m:\n\u001b[1;32m    293\u001b[0m     \u001b[38;5;28;01mbreak\u001b[39;00m\n",
      "\u001b[0;31mKeyboardInterrupt\u001b[0m: "
     ]
    }
   ],
   "source": [
    "while True: auto_scrape(dest, 'store receipt photos', 'receipt_')"
   ]
  },
  {
   "cell_type": "code",
   "execution_count": null,
   "id": "8f922e55-7368-4a3d-9d5d-2b2d022bf47d",
   "metadata": {},
   "outputs": [],
   "source": []
  }
 ],
 "metadata": {
  "kernelspec": {
   "display_name": "Python 3 (ipykernel)",
   "language": "python",
   "name": "python3"
  },
  "language_info": {
   "codemirror_mode": {
    "name": "ipython",
    "version": 3
   },
   "file_extension": ".py",
   "mimetype": "text/x-python",
   "name": "python",
   "nbconvert_exporter": "python",
   "pygments_lexer": "ipython3",
   "version": "3.10.14"
  }
 },
 "nbformat": 4,
 "nbformat_minor": 5
}
